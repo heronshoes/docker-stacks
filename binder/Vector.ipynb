{
 "cells": [
  {
   "cell_type": "markdown",
   "id": "fccc02f8-aa73-4458-b517-9203144576de",
   "metadata": {},
   "source": [
    "# Vector - RedAmber"
   ]
  },
  {
   "cell_type": "markdown",
   "id": "ec186a89-3dbb-4623-abf3-4371c3dd576d",
   "metadata": {},
   "source": [
    "This notebook walks through [Vector.md of RedAmber](https://github.com/heronshoes/red_amber/blob/main/doc/Vector.md)."
   ]
  },
  {
   "cell_type": "code",
   "execution_count": 1,
   "id": "d71b0a87-866e-4e97-a19f-646f8816a5c0",
   "metadata": {},
   "outputs": [
    {
     "data": {
      "text/plain": [
       "{:RedAmber=>\"0.3.0\", :Arrow=>\"10.0.0\"}"
      ]
     },
     "execution_count": 1,
     "metadata": {},
     "output_type": "execute_result"
    }
   ],
   "source": [
    "require 'red_amber' # require 'red-amber' is also OK.\n",
    "include RedAmber\n",
    "{RedAmber: VERSION, Arrow: Arrow::VERSION}"
   ]
  },
  {
   "cell_type": "markdown",
   "id": "6ad35ef1-f566-4a04-b046-618917c7eaf8",
   "metadata": {},
   "source": [
    "# Vector\n",
    "\n",
    "Class `RedAmber::Vector` represents a series of data in the DataFrame."
   ]
  },
  {
   "cell_type": "markdown",
   "id": "80f7a7ff-eaff-4136-a6f9-7a135e1ae4e0",
   "metadata": {},
   "source": [
    "## Constructor\n",
    "\n",
    "### Create from a column in a DataFrame"
   ]
  },
  {
   "cell_type": "code",
   "execution_count": 2,
   "id": "4c3c79ae-f210-4823-84a7-e511e2323d1b",
   "metadata": {},
   "outputs": [
    {
     "data": {
      "text/plain": [
       "#<RedAmber::Vector(:uint8, size=3):0x000000000000f640>\n",
       "[1, 2, 3]\n"
      ]
     },
     "execution_count": 2,
     "metadata": {},
     "output_type": "execute_result"
    }
   ],
   "source": [
    "df = DataFrame.new(x: [1, 2, 3])\n",
    "df[:x]"
   ]
  },
  {
   "cell_type": "markdown",
   "id": "28c50360-28de-499a-8978-9131111a8328",
   "metadata": {},
   "source": [
    "### New from an Array"
   ]
  },
  {
   "cell_type": "code",
   "execution_count": 3,
   "id": "4d14a9bd-521d-4327-8732-826e36c2c6a9",
   "metadata": {},
   "outputs": [
    {
     "data": {
      "text/plain": [
       "#<RedAmber::Vector(:uint8, size=3):0x000000000000f654>\n",
       "[1, 2, 3]\n"
      ]
     },
     "execution_count": 3,
     "metadata": {},
     "output_type": "execute_result"
    }
   ],
   "source": [
    "vector = Vector.new([1, 2, 3])\n",
    "# or\n",
    "vector = Vector.new(1, 2, 3)\n",
    "# or\n",
    "vector = Vector.new(1..3)\n",
    "# or\n",
    "vector = Vector.new(Arrow::Array.new([1, 2, 3]))"
   ]
  },
  {
   "cell_type": "code",
   "execution_count": 4,
   "id": "1c0b6103-d428-49ca-8270-fcee64d80f21",
   "metadata": {},
   "outputs": [
    {
     "data": {
      "text/plain": [
       "#<RedAmber::Vector(:int8, size=3):0x000000000000f780>\n",
       "[1, 2, 3]\n"
      ]
     },
     "execution_count": 4,
     "metadata": {},
     "output_type": "execute_result"
    }
   ],
   "source": [
    "# or\n",
    "require 'arrow-numo-narray'\n",
    "vector = Vector.new(Numo::Int8[1, 2, 3])"
   ]
  },
  {
   "cell_type": "markdown",
   "id": "32da9202-484c-484a-9fa5-8fba5c0e3502",
   "metadata": {},
   "source": [
    "## Properties\n",
    "\n",
    "### `to_s`\n",
    "\n",
    "### `values`, `to_a`, `entries`\n",
    "\n",
    "### `indices`, `indexes`, `indeces`\n",
    "\n",
    "  Return indices in an Array.\n",
    "\n",
    "### `to_ary`\n",
    "\n",
    "  It implicitly converts a Vector to an Array when required."
   ]
  },
  {
   "cell_type": "code",
   "execution_count": 5,
   "id": "2ef0288c-fffb-4d1d-9e7a-bd50e307a2e5",
   "metadata": {},
   "outputs": [
    {
     "data": {
      "text/plain": [
       "[1, 2, 3, 4]"
      ]
     },
     "execution_count": 5,
     "metadata": {},
     "output_type": "execute_result"
    }
   ],
   "source": [
    "[1, 2] + Vector.new([3, 4])"
   ]
  },
  {
   "cell_type": "markdown",
   "id": "e050ec99-9551-4f8b-b87c-685a4a9b705a",
   "metadata": {},
   "source": [
    "### `size`, `length`, `n_rows`, `nrow`\n",
    "\n",
    "### `empty?`\n",
    "\n",
    "### `type`\n",
    "\n",
    "### `boolean?`, `numeric?`, `string?`, `temporal?`\n",
    "\n",
    "### `type_class`\n",
    "\n",
    "### `each`, `map`, `collect`\n",
    "\n",
    "  If block is not given, returns Enumerator.\n",
    "\n",
    "### `n_nils`, `n_nans`\n",
    "\n",
    "  - `n_nulls` is an alias of `n_nils`\n",
    "\n",
    "### `has_nil?`\n",
    "\n",
    "  Returns `true` if self has any `nil`. Otherwise returns `false`.\n",
    "\n",
    "### `inspect(limit: 80)`\n",
    "\n",
    "  - `limit` sets size limit to display a long array."
   ]
  },
  {
   "cell_type": "code",
   "execution_count": 6,
   "id": "17df2a3f-1fd9-4c01-8e8d-227183f8e531",
   "metadata": {},
   "outputs": [
    {
     "data": {
      "text/plain": [
       "#<RedAmber::Vector(:uint8, size=50):0x000000000000f794>\n",
       "[1, 2, 3, 4, 5, 6, 7, 8, 9, 10, 11, 12, 13, 14, 15, 16, 17, 18, 19, 20, 21, 22, ... ]\n"
      ]
     },
     "execution_count": 6,
     "metadata": {},
     "output_type": "execute_result"
    }
   ],
   "source": [
    "vector = Vector.new((1..50).to_a)"
   ]
  },
  {
   "cell_type": "markdown",
   "id": "489da6ef-1ff6-4733-b003-fab75a76b548",
   "metadata": {},
   "source": [
    "## Selecting Values\n",
    "\n",
    "### `take(indices)`, `[](indices)`\n",
    "\n",
    "- Acceptable class for indices:\n",
    "  - Integer, Float\n",
    "  - Vector of integer or float\n",
    "  - Arrow::Arry of integer or float\n",
    "- Negative index is also OK like the Ruby's primitive Array."
   ]
  },
  {
   "cell_type": "code",
   "execution_count": 11,
   "id": "cc531222-041d-49f0-a1a9-62ef0cdc0cd1",
   "metadata": {},
   "outputs": [
    {
     "data": {
      "text/plain": [
       "[\"A\", \"B\", \"E\"]"
      ]
     },
     "execution_count": 11,
     "metadata": {},
     "output_type": "execute_result"
    }
   ],
   "source": [
    "array = Vector.new(%w[A B C D E])\n",
    "indices = Vector.new([0.1, 1, -1])\n",
    "array.take(indices)\n",
    "# or\n",
    "array[indices]"
   ]
  },
  {
   "cell_type": "markdown",
   "id": "c2bf50d9-de4c-4e55-a461-5be83649ec07",
   "metadata": {},
   "source": [
    "### `filter(booleans)`, `select(booleans)`, `[](booleans)`\n",
    "\n",
    "- Acceptable class for booleans:\n",
    "  - An array of true, false, or nil\n",
    "  - Boolean Vector\n",
    "  - Arrow::BooleanArray"
   ]
  },
  {
   "cell_type": "code",
   "execution_count": 12,
   "id": "2e8d7960-ff4b-42f3-aea7-cf047d5379ea",
   "metadata": {},
   "outputs": [
    {
     "data": {
      "text/plain": [
       "#<RedAmber::Vector(:string, size=2):0x000000000000f7a8>\n",
       "[\"A\", \"E\"]\n"
      ]
     },
     "execution_count": 12,
     "metadata": {},
     "output_type": "execute_result"
    }
   ],
   "source": [
    "array = Vector.new(%w[A B C D E])\n",
    "booleans = [true, false, nil, false, true]\n",
    "array.filter(booleans)"
   ]
  },
  {
   "cell_type": "code",
   "execution_count": 13,
   "id": "c1fe0d11-7696-4c9c-bd19-cdea51b76152",
   "metadata": {},
   "outputs": [
    {
     "data": {
      "text/plain": [
       "[\"A\", \"E\"]"
      ]
     },
     "execution_count": 13,
     "metadata": {},
     "output_type": "execute_result"
    }
   ],
   "source": [
    "# or\n",
    "array[booleans]"
   ]
  },
  {
   "cell_type": "markdown",
   "id": "42f176c0-48f4-4d74-8566-4d5db26c0a7a",
   "metadata": {},
   "source": [
    "`filter` and `select` also accepts a block.\n",
    "\n",
    "## Functions\n",
    "\n",
    "### Unary aggregations: `vector.func => scalar`\n",
    "\n",
    "  ![unary aggregation](https://github.com/heronshoes/red_amber/raw/main/doc/image/vector/unary_aggregation_w_option.png)\n",
    "\n",
    "| Method    |Boolean|Numeric|String|Options|Remarks|\n",
    "| ----------- | --- | --- | --- | --- | --- |\n",
    "| ✓ `all?`     |  ✓  |     |     | ✓ ScalarAggregate| alias `all` |\n",
    "| ✓ `any?`     |  ✓  |     |     | ✓ ScalarAggregate| alias `any` |\n",
    "| ✓ `approximate_median`|  |✓|  | ✓ ScalarAggregate| alias `median`|\n",
    "| ✓ `count`   |  ✓  |  ✓  |  ✓  | ✓  Count  |     |\n",
    "| ✓ `count_distinct`| ✓ | ✓ | ✓ | ✓  Count  |alias `count_uniq`|\n",
    "|[ ]`index`   | [ ] | [ ] | [ ] |[ ] Index  |     |\n",
    "| ✓ `max`     |  ✓  |  ✓  |  ✓  | ✓ ScalarAggregate|     |\n",
    "| ✓ `mean`    |  ✓  |  ✓  |     | ✓ ScalarAggregate|     |\n",
    "| ✓ `min`     |  ✓  |  ✓  |  ✓  | ✓ ScalarAggregate|     |\n",
    "| ✓ `min_max` |  ✓  |  ✓  |  ✓  | ✓ ScalarAggregate|     |\n",
    "|[ ]`mode`    |     | [ ] |     |[ ] Mode    |     |\n",
    "| ✓ `product` |  ✓  |  ✓  |     | ✓ ScalarAggregate|     |\n",
    "| ✓ `quantile`|     |  ✓  |     | ✓ Quantile|Specify probability in (0..1) by a parameter (default=0.5)|\n",
    "| ✓ `sd    `  |     |  ✓  |     |          |ddof: 1 at `stddev`|\n",
    "| ✓ `stddev`  |     |  ✓  |     | ✓ Variance|ddof: 0 by default|\n",
    "| ✓ `sum`     |  ✓  |  ✓  |     | ✓ ScalarAggregate|     |\n",
    "|[ ]`tdigest` |     | [ ] |     |[ ] TDigest |     |\n",
    "| ✓ `var    `|     |  ✓  |     |   |ddof: 1 at `variance`<br>alias `unbiased_variance`|\n",
    "| ✓ `variance`|     |  ✓  |     | ✓ Variance|ddof: 0 by default|"
   ]
  },
  {
   "cell_type": "markdown",
   "id": "935fabd5-2c1d-4568-9bcb-ed70b0bb2483",
   "metadata": {},
   "source": [
    "Options can be used as follows.\n",
    "See the [document of C++ function](https://arrow.apache.org/docs/cpp/compute.html) for detail."
   ]
  },
  {
   "cell_type": "code",
   "execution_count": 10,
   "id": "fd13f29c-2c18-414d-8232-28ea44b63e55",
   "metadata": {},
   "outputs": [
    {
     "data": {
      "text/plain": [
       "#<RedAmber::Vector(:double, size=6):0x000000000000f26c>\n",
       "[1.0, NaN, -Infinity, Infinity, nil, 0.0]\n"
      ]
     },
     "execution_count": 10,
     "metadata": {},
     "output_type": "execute_result"
    }
   ],
   "source": [
    "double = Vector.new([1, 0/0.0, -1/0.0, 1/0.0, nil, \"\"])"
   ]
  },
  {
   "cell_type": "code",
   "execution_count": 11,
   "id": "303ae371-8a6f-4279-a43c-6b5518dc9bfb",
   "metadata": {},
   "outputs": [
    {
     "data": {
      "text/plain": [
       "5"
      ]
     },
     "execution_count": 11,
     "metadata": {},
     "output_type": "execute_result"
    }
   ],
   "source": [
    "double.count"
   ]
  },
  {
   "cell_type": "code",
   "execution_count": 12,
   "id": "fd582fa5-4427-4458-a093-cb80eaaf6c4e",
   "metadata": {},
   "outputs": [
    {
     "data": {
      "text/plain": [
       "5"
      ]
     },
     "execution_count": 12,
     "metadata": {},
     "output_type": "execute_result"
    }
   ],
   "source": [
    "double.count(mode: :only_valid) # default"
   ]
  },
  {
   "cell_type": "code",
   "execution_count": 13,
   "id": "323d2f72-9f6c-4a0b-bf96-69816e459bc0",
   "metadata": {},
   "outputs": [
    {
     "data": {
      "text/plain": [
       "1"
      ]
     },
     "execution_count": 13,
     "metadata": {},
     "output_type": "execute_result"
    }
   ],
   "source": [
    "double.count(mode: :only_null)"
   ]
  },
  {
   "cell_type": "code",
   "execution_count": 14,
   "id": "3509ab60-48cb-4171-9875-85e8fff9cf62",
   "metadata": {},
   "outputs": [
    {
     "data": {
      "text/plain": [
       "6"
      ]
     },
     "execution_count": 14,
     "metadata": {},
     "output_type": "execute_result"
    }
   ],
   "source": [
    "double.count(mode: :all)"
   ]
  },
  {
   "cell_type": "code",
   "execution_count": 15,
   "id": "8a6cd37a-f1c4-4743-aa80-e743b48331ef",
   "metadata": {},
   "outputs": [
    {
     "data": {
      "text/plain": [
       "#<RedAmber::Vector(:boolean, size=3):0x000000000000f280>\n",
       "[true, true, nil]\n"
      ]
     },
     "execution_count": 15,
     "metadata": {},
     "output_type": "execute_result"
    }
   ],
   "source": [
    "boolean = Vector.new([true, true, nil])"
   ]
  },
  {
   "cell_type": "code",
   "execution_count": 16,
   "id": "fc80e3bc-c099-4a19-9440-f4df13c9bbbb",
   "metadata": {},
   "outputs": [
    {
     "data": {
      "text/plain": [
       "true"
      ]
     },
     "execution_count": 16,
     "metadata": {},
     "output_type": "execute_result"
    }
   ],
   "source": [
    "boolean.all"
   ]
  },
  {
   "cell_type": "code",
   "execution_count": 17,
   "id": "63e3f295-db01-4728-9bb7-545f93ec0e7c",
   "metadata": {},
   "outputs": [
    {
     "data": {
      "text/plain": [
       "true"
      ]
     },
     "execution_count": 17,
     "metadata": {},
     "output_type": "execute_result"
    }
   ],
   "source": [
    "boolean.all(skip_nulls: true)"
   ]
  },
  {
   "cell_type": "code",
   "execution_count": 18,
   "id": "a5bdfee1-7695-462d-9b8b-3243ae9e76f2",
   "metadata": {},
   "outputs": [
    {
     "data": {
      "text/plain": [
       "false"
      ]
     },
     "execution_count": 18,
     "metadata": {},
     "output_type": "execute_result"
    }
   ],
   "source": [
    "boolean.all(skip_nulls: false)"
   ]
  },
  {
   "cell_type": "markdown",
   "id": "05d5adde-cab7-42ec-ba4b-ff95cfe2bdba",
   "metadata": {},
   "source": [
    "### Unary element-wise: `vector.func => vector`\n",
    "\n",
    "  ![unary element-wise](https://github.com/heronshoes/red_amber/raw/main/doc/image/vector/unary_element_wise.png)\n",
    "\n",
    "| Method    |Boolean|Numeric|String|Options|Remarks|\n",
    "| ------------ | --- | --- | --- | --- | ----- |\n",
    "| ✓ `-@`       |     |  ✓  |     |     |as `-vector`|\n",
    "| ✓ `negate`   |     |  ✓  |     |     |`-@`   |\n",
    "| ✓ `abs`      |     |  ✓  |     |     |       |\n",
    "| ✓ `acos`     |     |  ✓  |     |     |       |\n",
    "| ✓ `asin`     |     |  ✓  |     |     |       |\n",
    "| ✓ `atan`     |     |  ✓  |     |     |       |\n",
    "| ✓ `bit_wise_not`|  | (✓) |     |     |integer only|\n",
    "| ✓ `ceil`     |     |  ✓  |     |     |       |\n",
    "| ✓ `cos`      |     |  ✓  |     |     |       |\n",
    "| ✓`fill_nil_backward`| ✓ | ✓ | ✓ |    |       |\n",
    "| ✓`fill_nil_forward` | ✓ | ✓ | ✓ |    |       |\n",
    "| ✓ `floor`    |     |  ✓  |     |     |       |\n",
    "| ✓ `invert`   |  ✓  |     |     |     |`!`, alias `not`|\n",
    "| ✓ `ln`       |     |  ✓  |     |     |       |\n",
    "| ✓ `log10`    |     |  ✓  |     |     |       |\n",
    "| ✓ `log1p`    |     |  ✓  |     |     |Compute natural log of (1+x)|\n",
    "| ✓ `log2`     |     |  ✓  |     |     |       |\n",
    "| ✓ `round`    |     |  ✓  |     | ✓ Round (:mode, :n_digits)|    |\n",
    "| ✓ `round_to_multiple`| | ✓ |   | ✓ RoundToMultiple :mode, :multiple| multiple must be an Arrow::Scalar|\n",
    "| ✓ `sign`     |     |  ✓  |     |     |       |\n",
    "| ✓ `sin`      |     |  ✓  |     |     |       |\n",
    "| ✓`sort_indexes`| ✓  | ✓  | ✓  |:order|alias `sort_indices`|\n",
    "| ✓ `tan`      |     |  ✓  |     |     |       |\n",
    "| ✓ `trunc`    |     |  ✓  |     |     |       |"
   ]
  },
  {
   "cell_type": "markdown",
   "id": "d4f2e561-3f42-4b96-b94f-2f0cdabd8b8d",
   "metadata": {},
   "source": [
    "Examples of options for `#round`;\n",
    "\n",
    "- `:n-digits` The number of digits to show.\n",
    "- `round_mode` Specify rounding mode."
   ]
  },
  {
   "cell_type": "code",
   "execution_count": 19,
   "id": "f15d0ebb-4445-4e6b-bbbf-1612ba345e0c",
   "metadata": {},
   "outputs": [
    {
     "data": {
      "text/plain": [
       "#<RedAmber::Vector(:double, size=5):0x000000000000f294>\n",
       "[15.15, 2.5, 3.5, -4.5, -5.5]\n"
      ]
     },
     "execution_count": 19,
     "metadata": {},
     "output_type": "execute_result"
    }
   ],
   "source": [
    "double = RedAmber::Vector.new([15.15, 2.5, 3.5, -4.5, -5.5])"
   ]
  },
  {
   "cell_type": "code",
   "execution_count": 20,
   "id": "ab902dca-1059-4f28-9497-28485764aee1",
   "metadata": {},
   "outputs": [
    {
     "data": {
      "text/plain": [
       "#<RedAmber::Vector(:double, size=5):0x000000000000f2a8>\n",
       "[15.0, 2.0, 4.0, -4.0, -6.0]\n"
      ]
     },
     "execution_count": 20,
     "metadata": {},
     "output_type": "execute_result"
    }
   ],
   "source": [
    "double.round"
   ]
  },
  {
   "cell_type": "code",
   "execution_count": 21,
   "id": "64d53768-477a-4c14-a988-78ca9bfd64e2",
   "metadata": {},
   "outputs": [
    {
     "data": {
      "text/plain": [
       "#<RedAmber::Vector(:double, size=5):0x000000000000f2bc>\n",
       "[15.0, 2.0, 4.0, -4.0, -6.0]\n"
      ]
     },
     "execution_count": 21,
     "metadata": {},
     "output_type": "execute_result"
    }
   ],
   "source": [
    "double.round(mode: :half_to_even)"
   ]
  },
  {
   "cell_type": "code",
   "execution_count": 22,
   "id": "0fe5a4d6-21a6-492a-a3d5-e4faf66f7526",
   "metadata": {},
   "outputs": [
    {
     "data": {
      "text/plain": [
       "#<RedAmber::Vector(:double, size=5):0x000000000000f2d0>\n",
       "[16.0, 3.0, 4.0, -5.0, -6.0]\n"
      ]
     },
     "execution_count": 22,
     "metadata": {},
     "output_type": "execute_result"
    }
   ],
   "source": [
    "double.round(mode: :towards_infinity)"
   ]
  },
  {
   "cell_type": "code",
   "execution_count": 23,
   "id": "a6a24303-0653-4d70-859c-75450dee955f",
   "metadata": {},
   "outputs": [
    {
     "data": {
      "text/plain": [
       "#<RedAmber::Vector(:double, size=5):0x000000000000f2e4>\n",
       "[15.0, 3.0, 4.0, -4.0, -5.0]\n"
      ]
     },
     "execution_count": 23,
     "metadata": {},
     "output_type": "execute_result"
    }
   ],
   "source": [
    "double.round(mode: :half_up)"
   ]
  },
  {
   "cell_type": "code",
   "execution_count": 24,
   "id": "bb89615f-ee6b-4106-b366-27bf723774b4",
   "metadata": {},
   "outputs": [
    {
     "data": {
      "text/plain": [
       "#<RedAmber::Vector(:double, size=5):0x000000000000f2f8>\n",
       "[15.0, 2.0, 3.0, -4.0, -5.0]\n"
      ]
     },
     "execution_count": 24,
     "metadata": {},
     "output_type": "execute_result"
    }
   ],
   "source": [
    "double.round(mode: :half_towards_zero)"
   ]
  },
  {
   "cell_type": "code",
   "execution_count": 25,
   "id": "816b59b7-54e6-46c1-a4c5-a82042495b0e",
   "metadata": {},
   "outputs": [
    {
     "data": {
      "text/plain": [
       "#<RedAmber::Vector(:double, size=5):0x000000000000f30c>\n",
       "[15.0, 3.0, 4.0, -5.0, -6.0]\n"
      ]
     },
     "execution_count": 25,
     "metadata": {},
     "output_type": "execute_result"
    }
   ],
   "source": [
    "double.round(mode: :half_towards_infinity)"
   ]
  },
  {
   "cell_type": "code",
   "execution_count": 26,
   "id": "58a3fdad-50f8-4c33-9189-240a493e568c",
   "metadata": {},
   "outputs": [
    {
     "data": {
      "text/plain": [
       "#<RedAmber::Vector(:double, size=5):0x000000000000f320>\n",
       "[15.0, 3.0, 3.0, -5.0, -5.0]\n"
      ]
     },
     "execution_count": 26,
     "metadata": {},
     "output_type": "execute_result"
    }
   ],
   "source": [
    "double.round(mode: :half_to_odd)"
   ]
  },
  {
   "cell_type": "code",
   "execution_count": 27,
   "id": "be103836-f138-4dc7-8b97-97cdfc911295",
   "metadata": {},
   "outputs": [
    {
     "data": {
      "text/plain": [
       "#<RedAmber::Vector(:double, size=5):0x000000000000f334>\n",
       "[15.0, 2.0, 4.0, -4.0, -6.0]\n"
      ]
     },
     "execution_count": 27,
     "metadata": {},
     "output_type": "execute_result"
    }
   ],
   "source": [
    "double.round(n_digits: 0)"
   ]
  },
  {
   "cell_type": "code",
   "execution_count": 28,
   "id": "f392bdda-0a74-44cd-937e-0a1dcbeb2f2b",
   "metadata": {},
   "outputs": [
    {
     "data": {
      "text/plain": [
       "#<RedAmber::Vector(:double, size=5):0x000000000000f348>\n",
       "[15.2, 2.5, 3.5, -4.5, -5.5]\n"
      ]
     },
     "execution_count": 28,
     "metadata": {},
     "output_type": "execute_result"
    }
   ],
   "source": [
    "double.round(n_digits: 1)"
   ]
  },
  {
   "cell_type": "code",
   "execution_count": 29,
   "id": "1cf09573-a469-4a8a-a7d0-ef86a0b36437",
   "metadata": {},
   "outputs": [
    {
     "data": {
      "text/plain": [
       "#<RedAmber::Vector(:double, size=5):0x000000000000f35c>\n",
       "[20.0, 0.0, 0.0, -0.0, -10.0]\n"
      ]
     },
     "execution_count": 29,
     "metadata": {},
     "output_type": "execute_result"
    }
   ],
   "source": [
    "double.round(n_digits: -1)"
   ]
  },
  {
   "cell_type": "markdown",
   "id": "5c56ca44-ab30-401b-bb15-5e0453606497",
   "metadata": {},
   "source": [
    "### Binary element-wise: `vector.func(vector) => vector`\n",
    "\n",
    "  ![binary element-wise](https://github.com/heronshoes/red_amber/raw/main/doc/image/vector/binary_element_wise.png)\n",
    "\n",
    "| Method       |Boolean|Numeric|String|Options|Remarks|\n",
    "| ----------------- | --- | --- | --- | --- | ----- |\n",
    "| ✓ `add`           |     |  ✓  |     |     | `+`   |\n",
    "| ✓ `atan2`         |     |  ✓  |     |     |       |\n",
    "| ✓ `and_kleene`    |  ✓  |     |     |     | `&`   |\n",
    "| ✓ `and_org   `    |  ✓  |     |     |     |`and` in Red Arrow|\n",
    "| ✓ `and_not`       |  ✓  |     |     |     |       |\n",
    "| ✓ `and_not_kleene`|  ✓  |     |     |     |       |\n",
    "| ✓ `bit_wise_and`  |     | (✓) |     |     |integer only|\n",
    "| ✓ `bit_wise_or`   |     | (✓) |     |     |integer only|\n",
    "| ✓ `bit_wise_xor`  |     | (✓) |     |     |integer only|\n",
    "| ✓ `divide`        |     |  ✓  |     |     | `/`   |\n",
    "| ✓ `equal`         |  ✓  |  ✓  |  ✓  |     |`==`, alias `eq`|\n",
    "| ✓ `greater`       |  ✓  |  ✓  |  ✓  |     |`>`, alias `gt`|\n",
    "| ✓ `greater_equal` |  ✓  |  ✓  |  ✓  |     |`>=`, alias `ge`|\n",
    "| ✓ `is_finite`     |     |  ✓  |     |     |       |\n",
    "| ✓ `is_inf`        |     |  ✓  |     |     |       |\n",
    "| ✓ `is_na`         |  ✓  |  ✓  |  ✓  |     |       |\n",
    "| ✓ `is_nan`        |     |  ✓  |     |     |       |\n",
    "|[ ]`is_nil`        |  ✓  |  ✓  |  ✓  |[ ] Null|alias `is_null`|\n",
    "| ✓ `is_valid`      |  ✓  |  ✓  |  ✓  |     |       |\n",
    "| ✓ `less`          |  ✓  |  ✓  |  ✓  |     |`<`, alias `lt`|\n",
    "| ✓ `less_equal`    |  ✓  |  ✓  |  ✓  |     |`<=`, alias `le`|\n",
    "| ✓ `logb`          |     |  ✓  |     |     |logb(b) Compute base `b` logarithm|\n",
    "|[ ]`mod`           |     | [ ] |     |     | `%`   |\n",
    "| ✓ `multiply`      |     |  ✓  |     |     | `*`   |\n",
    "| ✓ `not_equal`     |  ✓  |  ✓  |  ✓  |     |`!=`, alias `ne`|\n",
    "| ✓ `or_kleene`     |  ✓  |     |     |     | `\\|`  |\n",
    "| ✓ `or_org`        |  ✓  |     |     |     |`or` in Red Arrow|\n",
    "| ✓ `power`         |     |  ✓  |     |     | `**`  |\n",
    "| ✓ `subtract`      |     |  ✓  |     |     | `-`   |\n",
    "| ✓ `shift_left`    |     | (✓) |     |     |`<<`, integer only|\n",
    "| ✓ `shift_right`   |     | (✓) |     |     |`>>`, integer only|\n",
    "| ✓ `xor`           |  ✓  |     |     |     | `^`   |"
   ]
  },
  {
   "cell_type": "markdown",
   "id": "1eb19b09-4922-4e98-b770-321ade8ba2b2",
   "metadata": {},
   "source": [
    "### `uniq`\n",
    "\n",
    "  Returns a new array with distinct elements."
   ]
  },
  {
   "cell_type": "markdown",
   "id": "851f25ba-a9d1-4528-9d1a-5b0290148ddf",
   "metadata": {},
   "source": [
    "### `tally` and `value_counts`\n",
    "\n",
    "  Compute counts of unique elements and return a Hash.\n",
    "\n",
    "  It returns almost same result as Ruby's tally. These methods consider NaNs are same."
   ]
  },
  {
   "cell_type": "code",
   "execution_count": 30,
   "id": "79a92def-7486-440b-84e4-abe41e71d6d6",
   "metadata": {},
   "outputs": [
    {
     "data": {
      "text/plain": [
       "{NaN=>1, NaN=>1}"
      ]
     },
     "execution_count": 30,
     "metadata": {},
     "output_type": "execute_result"
    }
   ],
   "source": [
    "array = [0.0/0, Float::NAN]\n",
    "array.tally"
   ]
  },
  {
   "cell_type": "code",
   "execution_count": 31,
   "id": "e08f5503-70c9-4b7f-a421-e1b866082c19",
   "metadata": {},
   "outputs": [
    {
     "data": {
      "text/plain": [
       "{NaN=>2}"
      ]
     },
     "execution_count": 31,
     "metadata": {},
     "output_type": "execute_result"
    }
   ],
   "source": [
    "vector = RedAmber::Vector.new(array)\n",
    "vector.tally"
   ]
  },
  {
   "cell_type": "code",
   "execution_count": 32,
   "id": "17c8a466-b630-4f26-9b1f-31b3bb5bab76",
   "metadata": {},
   "outputs": [
    {
     "data": {
      "text/plain": [
       "{NaN=>2}"
      ]
     },
     "execution_count": 32,
     "metadata": {},
     "output_type": "execute_result"
    }
   ],
   "source": [
    "vector.value_counts"
   ]
  },
  {
   "cell_type": "markdown",
   "id": "a32747c0-434c-4e9c-81a4-454ba44a8c7a",
   "metadata": {},
   "source": [
    "### `index(element)`\n",
    "\n",
    "  Returns index of specified element."
   ]
  },
  {
   "cell_type": "markdown",
   "id": "bdcadbeb-a045-4cf0-b152-68bef72a5d98",
   "metadata": {},
   "source": [
    "### `quantiles(probs = [1.0, 0.75, 0.5, 0.25, 0.0], interpolation: :linear, skip_nils: true, min_count: 0)`\n",
    "\n",
    "  Returns quantiles for specified probabilities in a DataFrame."
   ]
  },
  {
   "cell_type": "markdown",
   "id": "986a513d-e4fb-40f1-851a-b0e42b6ca9d9",
   "metadata": {},
   "source": [
    "### `sort_indexes`, `sort_indices`, `array_sort_indices`"
   ]
  },
  {
   "cell_type": "markdown",
   "id": "343971f8-e60f-4229-9384-3b0f670461e1",
   "metadata": {},
   "source": [
    "## Coerce"
   ]
  },
  {
   "cell_type": "code",
   "execution_count": 33,
   "id": "e2c139f5-45c6-42f1-bb8a-9bb6173827dd",
   "metadata": {},
   "outputs": [
    {
     "data": {
      "text/plain": [
       "#<RedAmber::Vector(:uint8, size=3):0x000000000000f370>\n",
       "[1, 2, 3]\n"
      ]
     },
     "execution_count": 33,
     "metadata": {},
     "output_type": "execute_result"
    }
   ],
   "source": [
    "vector = Vector.new(1,2,3)"
   ]
  },
  {
   "cell_type": "code",
   "execution_count": 34,
   "id": "dfb75a45-6044-49b5-870c-163792a3f4fe",
   "metadata": {},
   "outputs": [
    {
     "data": {
      "text/plain": [
       "#<RedAmber::Vector(:int16, size=3):0x000000000000f384>\n",
       "[-1, -2, -3]\n"
      ]
     },
     "execution_count": 34,
     "metadata": {},
     "output_type": "execute_result"
    }
   ],
   "source": [
    "# Vector's `#*` method\n",
    "vector * -1"
   ]
  },
  {
   "cell_type": "code",
   "execution_count": 35,
   "id": "1aee6b03-1f33-437d-8657-093074e8e02d",
   "metadata": {},
   "outputs": [
    {
     "data": {
      "text/plain": [
       "#<RedAmber::Vector(:int16, size=3):0x000000000000f398>\n",
       "[-1, -2, -3]\n"
      ]
     },
     "execution_count": 35,
     "metadata": {},
     "output_type": "execute_result"
    }
   ],
   "source": [
    "# coerced calculation\n",
    "-1 * vector"
   ]
  },
  {
   "cell_type": "code",
   "execution_count": 36,
   "id": "2a13936f-174e-4ae6-b64d-681ad7a267e3",
   "metadata": {},
   "outputs": [
    {
     "data": {
      "text/plain": [
       "#<RedAmber::Vector(:uint8, size=3):0x000000000000f3ac>\n",
       "[255, 254, 253]\n"
      ]
     },
     "execution_count": 36,
     "metadata": {},
     "output_type": "execute_result"
    }
   ],
   "source": [
    "# `@-` operator\n",
    "-vector"
   ]
  },
  {
   "cell_type": "markdown",
   "id": "5d00dda5-8943-4dd6-8692-94080165548f",
   "metadata": {},
   "source": [
    "## Update vector's value\n",
    "### `replace(specifier, replacer)` => vector\n",
    "\n",
    "- Accepts Scalar, Range  of Integer, Vector, Array, Arrow::Array as a specifier\n",
    "- Accepts Scalar, Vector, Array and Arrow::Array as a replacer.\n",
    "- Boolean specifiers specify the position of replacer in true.\n",
    "  - If booleans.any is false, no replacement happen and return self.\n",
    "- Index specifiers specify the position of replacer in indices.\n",
    "- replacer specifies the values to be replaced.\n",
    "  - The number of true in booleans must be equal to the length of replacer"
   ]
  },
  {
   "cell_type": "code",
   "execution_count": 37,
   "id": "81a7285d-f033-4ce1-826f-1a3e73599bde",
   "metadata": {},
   "outputs": [
    {
     "data": {
      "text/plain": [
       "#<RedAmber::Vector(:uint8, size=3):0x000000000000f3c0>\n",
       "[4, 2, 5]\n"
      ]
     },
     "execution_count": 37,
     "metadata": {},
     "output_type": "execute_result"
    }
   ],
   "source": [
    "vector = Vector.new([1, 2, 3])\n",
    "booleans = [true, false, true]\n",
    "replacer = [4, 5]\n",
    "vector.replace(booleans, replacer)"
   ]
  },
  {
   "cell_type": "markdown",
   "id": "ff3891b5-fcf1-446b-b4a4-a3b42aedd01d",
   "metadata": {},
   "source": [
    "- Scalar value in replacer can be broadcasted."
   ]
  },
  {
   "cell_type": "code",
   "execution_count": 38,
   "id": "51717c11-28f6-4db2-a931-6286d1a183fe",
   "metadata": {},
   "outputs": [
    {
     "data": {
      "text/plain": [
       "#<RedAmber::Vector(:uint8, size=3):0x000000000000f3d4>\n",
       "[0, 2, 0]\n"
      ]
     },
     "execution_count": 38,
     "metadata": {},
     "output_type": "execute_result"
    }
   ],
   "source": [
    "replacer = 0\n",
    "vector.replace(booleans, replacer)"
   ]
  },
  {
   "cell_type": "markdown",
   "id": "11ef4fec-7a84-4dd6-a895-84145bf52509",
   "metadata": {},
   "source": [
    "- Returned data type is automatically up-casted by replacer."
   ]
  },
  {
   "cell_type": "code",
   "execution_count": 39,
   "id": "feecfdf1-f18d-4d93-9e42-75fce184f242",
   "metadata": {},
   "outputs": [
    {
     "data": {
      "text/plain": [
       "#<RedAmber::Vector(:double, size=3):0x000000000000f3e8>\n",
       "[1.0, 2.0, 1.0]\n"
      ]
     },
     "execution_count": 39,
     "metadata": {},
     "output_type": "execute_result"
    }
   ],
   "source": [
    "replacer = 1.0\n",
    "vector.replace(booleans, replacer)"
   ]
  },
  {
   "cell_type": "markdown",
   "id": "4da86f3a-a62e-4011-8b13-ee314464cc51",
   "metadata": {},
   "source": [
    "- Position of nil in booleans is replaced with nil."
   ]
  },
  {
   "cell_type": "code",
   "execution_count": 40,
   "id": "82643608-f174-4af2-8f88-a1238a991a83",
   "metadata": {},
   "outputs": [
    {
     "data": {
      "text/plain": [
       "#<RedAmber::Vector(:int8, size=3):0x000000000000f3fc>\n",
       "[-1, 2, nil]\n"
      ]
     },
     "execution_count": 40,
     "metadata": {},
     "output_type": "execute_result"
    }
   ],
   "source": [
    "booleans = [true, false, nil]\n",
    "replacer = -1\n",
    "vector.replace(booleans, replacer)"
   ]
  },
  {
   "cell_type": "markdown",
   "id": "4ed3934c-856f-43e1-9414-b7b7157702b9",
   "metadata": {},
   "source": [
    "- replacer can have nil in it."
   ]
  },
  {
   "cell_type": "code",
   "execution_count": 41,
   "id": "c4a6a95d-ad5b-4a85-9379-b9d8a6c740fe",
   "metadata": {},
   "outputs": [
    {
     "data": {
      "text/plain": [
       "#<RedAmber::Vector(:uint8, size=3):0x000000000000f410>\n",
       "[nil, 2, nil]\n"
      ]
     },
     "execution_count": 41,
     "metadata": {},
     "output_type": "execute_result"
    }
   ],
   "source": [
    "booleans = [true, false, true]\n",
    "replacer = nil\n",
    "vector.replace(booleans, replacer)"
   ]
  },
  {
   "cell_type": "markdown",
   "id": "96c04e51-0ab8-4ee9-b884-8a2e778a7e62",
   "metadata": {},
   "source": [
    "- An example to replace 'NA' to nil."
   ]
  },
  {
   "cell_type": "code",
   "execution_count": 42,
   "id": "473c241e-eb1d-40e4-9d90-8c27c57859b6",
   "metadata": {},
   "outputs": [
    {
     "data": {
      "text/plain": [
       "#<RedAmber::Vector(:string, size=3):0x000000000000f424>\n",
       "[\"A\", \"B\", nil]\n"
      ]
     },
     "execution_count": 42,
     "metadata": {},
     "output_type": "execute_result"
    }
   ],
   "source": [
    "vector = RedAmber::Vector.new(['A', 'B', 'NA'])\n",
    "vector.replace(vector == 'NA', nil)"
   ]
  },
  {
   "cell_type": "markdown",
   "id": "e2c7fc9f-ca30-4b33-9287-eea5e1c4d796",
   "metadata": {},
   "source": [
    "- Specifier in indices.\n",
    "\n",
    "Specified indices are used 'as sorted'. Position in indices and replacer may not have correspondence."
   ]
  },
  {
   "cell_type": "code",
   "execution_count": 43,
   "id": "297539a2-b9d1-438d-b99c-a7cbdb155a89",
   "metadata": {},
   "outputs": [
    {
     "data": {
      "text/plain": [
       "#<RedAmber::Vector(:uint8, size=3):0x000000000000f438>\n",
       "[1, 4, 5]\n"
      ]
     },
     "execution_count": 43,
     "metadata": {},
     "output_type": "execute_result"
    }
   ],
   "source": [
    "vector = RedAmber::Vector.new([1, 2, 3])\n",
    "indices = [2, 1]\n",
    "replacer = [4, 5]\n",
    "vector.replace(indices, replacer)"
   ]
  },
  {
   "cell_type": "markdown",
   "id": "383448c9-e433-44fd-bfb3-6a1afb691ba0",
   "metadata": {},
   "source": [
    "### `fill_nil_forward`, `fill_nil_backward` => vector\n",
    "\n",
    "Propagate the last valid observation forward (or backward).\n",
    "Or preserve nil if all previous values are nil or at the end."
   ]
  },
  {
   "cell_type": "code",
   "execution_count": 44,
   "id": "791324a8-2635-49e3-b270-5507ebcd3030",
   "metadata": {},
   "outputs": [
    {
     "data": {
      "text/plain": [
       "#<RedAmber::Vector(:uint8, size=5):0x000000000000f44c>\n",
       "[0, 1, 1, 3, 3]\n"
      ]
     },
     "execution_count": 44,
     "metadata": {},
     "output_type": "execute_result"
    }
   ],
   "source": [
    "integer = RedAmber::Vector.new([0, 1, nil, 3, nil])\n",
    "integer.fill_nil_forward"
   ]
  },
  {
   "cell_type": "code",
   "execution_count": 45,
   "id": "67b32d22-a0f7-4cf3-90a4-b1433af29f15",
   "metadata": {},
   "outputs": [
    {
     "data": {
      "text/plain": [
       "#<RedAmber::Vector(:uint8, size=5):0x000000000000f460>\n",
       "[0, 1, 3, 3, nil]\n"
      ]
     },
     "execution_count": 45,
     "metadata": {},
     "output_type": "execute_result"
    }
   ],
   "source": [
    "integer.fill_nil_backward"
   ]
  },
  {
   "cell_type": "markdown",
   "id": "31cdac74-6b26-44aa-845c-9832c972bc36",
   "metadata": {},
   "source": [
    "### `boolean_vector.if_else(true_choice, false_choice)` => vector\n",
    "\n",
    "Choose values based on self. Self must be a boolean Vector.\n",
    "\n",
    "`true_choice`, `false_choice` must be of the same type scalar / array / Vector.\n",
    "`nil` values in `cond` will be promoted to the output.\n",
    "\n",
    "This example will normalize negative indices to positive ones."
   ]
  },
  {
   "cell_type": "code",
   "execution_count": 46,
   "id": "9fb8054c-4480-4dff-8974-66fcc5d781c0",
   "metadata": {},
   "outputs": [
    {
     "data": {
      "text/plain": [
       "#<RedAmber::Vector(:int16, size=4):0x000000000000f474>\n",
       "[1, 9, 3, 6]\n"
      ]
     },
     "execution_count": 46,
     "metadata": {},
     "output_type": "execute_result"
    }
   ],
   "source": [
    "indices = Vector.new([1, -1, 3, -4])\n",
    "array_size = 10\n",
    "normalized_indices = (indices < 0).if_else(indices + array_size, indices)"
   ]
  },
  {
   "cell_type": "markdown",
   "id": "7488a516-4ff9-4830-a87f-07ca5b89e1e1",
   "metadata": {},
   "source": [
    "### `is_in(values)` => boolean vector\n",
    "\n",
    "For each element in self, return true if it is found in given `values`, false otherwise.\n",
    "By default, nulls are matched against the value set. (This will be changed in SetLookupOptions: not impremented.)"
   ]
  },
  {
   "cell_type": "code",
   "execution_count": 47,
   "id": "196f3d2d-755f-43ac-9e11-097a9141a582",
   "metadata": {},
   "outputs": [
    {
     "data": {
      "text/plain": [
       "#<RedAmber::Vector(:boolean, size=4):0x000000000000f488>\n",
       "[true, false, true, false]\n"
      ]
     },
     "execution_count": 47,
     "metadata": {},
     "output_type": "execute_result"
    }
   ],
   "source": [
    "vector = Vector.new %W[A B C D]\n",
    "values = ['A', 'C', 'X']\n",
    "vector.is_in(values)"
   ]
  },
  {
   "cell_type": "markdown",
   "id": "6be45893-e52f-4c60-a9f9-dc7790c2d925",
   "metadata": {},
   "source": [
    "`values` are casted to the same Class of Vector."
   ]
  },
  {
   "cell_type": "code",
   "execution_count": 48,
   "id": "4030a75c-7464-4357-bc40-928786a1acea",
   "metadata": {},
   "outputs": [
    {
     "data": {
      "text/plain": [
       "#<RedAmber::Vector(:boolean, size=3):0x000000000000f49c>\n",
       "[true, false, true]\n"
      ]
     },
     "execution_count": 48,
     "metadata": {},
     "output_type": "execute_result"
    }
   ],
   "source": [
    "vector = Vector.new([1, 2, 255])\n",
    "vector.is_in(1, -1)"
   ]
  },
  {
   "cell_type": "markdown",
   "id": "d5d69c08-f6b6-42ac-b367-4215c5e4c72c",
   "metadata": {},
   "source": [
    "### `shift(amount = 1, fill: nil)`\n",
    "\n",
    "Shift vector's values by specified `amount`. Shifted space is filled by value `fill`."
   ]
  },
  {
   "cell_type": "code",
   "execution_count": 49,
   "id": "ab08b428-19cd-48b5-8736-176c48539d77",
   "metadata": {},
   "outputs": [
    {
     "data": {
      "text/plain": [
       "#<RedAmber::Vector(:uint8, size=5):0x000000000000f4b0>\n",
       "[nil, 2, 3, 4, 5]\n"
      ]
     },
     "execution_count": 49,
     "metadata": {},
     "output_type": "execute_result"
    }
   ],
   "source": [
    "vector = Vector.new([1, 2, 3, 4, 5])\n",
    "vector.shift"
   ]
  },
  {
   "cell_type": "code",
   "execution_count": 50,
   "id": "c82f5d75-d881-4a7c-94af-4e52a78d1c9d",
   "metadata": {
    "tags": []
   },
   "outputs": [
    {
     "data": {
      "text/plain": [
       "#<RedAmber::Vector(:uint8, size=5):0x000000000000f4c4>\n",
       "[1, 2, 3, 4, 5]\n"
      ]
     },
     "execution_count": 50,
     "metadata": {},
     "output_type": "execute_result"
    }
   ],
   "source": [
    "vector.shift(-2)"
   ]
  },
  {
   "cell_type": "code",
   "execution_count": 51,
   "id": "ec9eb13c-0a2f-4879-949a-5d6f7cfa8f5b",
   "metadata": {},
   "outputs": [
    {
     "data": {
      "text/plain": [
       "#<RedAmber::Vector(:double, size=5):0x000000000000f4d8>\n",
       "[NaN, 2.0, 3.0, 4.0, 5.0]\n"
      ]
     },
     "execution_count": 51,
     "metadata": {},
     "output_type": "execute_result"
    }
   ],
   "source": [
    "vector.shift(fill: Float::NAN)"
   ]
  },
  {
   "cell_type": "markdown",
   "id": "ee1e02c6-0947-4ace-b7d8-274868cb869a",
   "metadata": {},
   "source": [
    "### `split_to_columns(sep = ' ', limit = 0)`\n",
    "\n",
    "Split string type Vector with any ASCII whitespace as separator.\n",
    "Returns an Array of Vectors."
   ]
  },
  {
   "cell_type": "code",
   "execution_count": 2,
   "id": "fcd020d4-f64e-482d-bee0-b4dc79a03bab",
   "metadata": {},
   "outputs": [
    {
     "data": {
      "text/plain": [
       "[#<RedAmber::Vector(:string, size=3):0x000000000000f640>\n",
       "[\"a\", \"c\", \"e\"]\n",
       ", #<RedAmber::Vector(:string, size=3):0x000000000000f654>\n",
       "[\"b\", \"d\", \"f\"]\n",
       "]"
      ]
     },
     "execution_count": 2,
     "metadata": {},
     "output_type": "execute_result"
    }
   ],
   "source": [
    "vector = Vector.new(['a b', 'c d', 'e f'])\n",
    "vector.split_to_columns"
   ]
  },
  {
   "cell_type": "markdown",
   "id": "29f246ca-125e-4d90-8436-8bac4855e72a",
   "metadata": {},
   "source": [
    "It will be used for column splitting in DataFrame."
   ]
  },
  {
   "cell_type": "code",
   "execution_count": 3,
   "id": "0f3c2fc6-0270-4f0b-98b4-1f07c17d35dc",
   "metadata": {},
   "outputs": [
    {
     "data": {
      "text/html": [
       "RedAmber::DataFrame <3 x 2 vectors> <table><tr><th>year</th><th>month</th></tr><tr><td>2022</td><td>01</td></tr><tr><td>2022</td><td>02</td></tr><tr><td>2022</td><td>03</td></tr></table>"
      ],
      "text/plain": [
       "#<RedAmber::DataFrame : 3 x 2 Vectors, 0x000000000000f668>\n",
       "  year     month\n",
       "  <string> <string>\n",
       "0 2022     01\n",
       "1 2022     02\n",
       "2 2022     03\n"
      ]
     },
     "execution_count": 3,
     "metadata": {},
     "output_type": "execute_result"
    }
   ],
   "source": [
    "df = DataFrame.new(year_month: %w[2022-01 2022-02 2022-03])\n",
    "  .assign(:year, :month) { year_month.split_to_columns('-') }\n",
    "  .drop(:year_month)"
   ]
  },
  {
   "cell_type": "markdown",
   "id": "0f6324b7-5b29-43e5-9980-911e85384c54",
   "metadata": {},
   "source": [
    "### `split_to_rows(sep = ' ', limit = 0)`\n",
    "\n",
    "Split string type Vector with any ASCII whitespace as separator.\n",
    "Returns an flattend into rows by Vector."
   ]
  },
  {
   "cell_type": "code",
   "execution_count": 4,
   "id": "af5ef945-5589-42f0-a842-a714f4663669",
   "metadata": {},
   "outputs": [
    {
     "data": {
      "text/plain": [
       "#<RedAmber::Vector(:string, size=6):0x000000000000f67c>\n",
       "[\"a\", \"b\", \"c\", \"d\", \"e\", \"f\"]\n"
      ]
     },
     "execution_count": 4,
     "metadata": {},
     "output_type": "execute_result"
    }
   ],
   "source": [
    "vector = Vector.new(['a b', 'c d', 'e f'])\n",
    "vector.split_to_rows"
   ]
  },
  {
   "cell_type": "markdown",
   "id": "43a83031-8be9-4dde-8153-9851135b29ed",
   "metadata": {},
   "source": [
    "### `merge(other, sep: ' ')`\n",
    "\n",
    "Merge String or other string Vector to self using aseparator.\n",
    "Self must be a string Vector.\n",
    "Returns merged string Vector."
   ]
  },
  {
   "cell_type": "code",
   "execution_count": 5,
   "id": "e76a7cc4-a42d-4726-aa37-ff6bdd151da4",
   "metadata": {},
   "outputs": [
    {
     "data": {
      "text/plain": [
       "#<RedAmber::Vector(:string, size=3):0x000000000000f690>\n",
       "[\"a b\", \"c d\", \"e f\"]\n"
      ]
     },
     "execution_count": 5,
     "metadata": {},
     "output_type": "execute_result"
    }
   ],
   "source": [
    "# with vector\n",
    "vector = Vector.new(%w[a c e])\n",
    "other = Vector.new(%w[b d f])\n",
    "vector.merge(other)"
   ]
  },
  {
   "cell_type": "markdown",
   "id": "b2817fc5-7e6d-4d4d-a462-45a18973ff3b",
   "metadata": {},
   "source": [
    "If other is a String it will be broadcasted."
   ]
  },
  {
   "cell_type": "code",
   "execution_count": 6,
   "id": "64de2431-5ace-4e64-91d4-b228861b05e1",
   "metadata": {},
   "outputs": [
    {
     "data": {
      "text/plain": [
       "#<RedAmber::Vector(:string, size=3):0x000000000000f6a4>\n",
       "[\"a\", \"c\", \"e\"]\n"
      ]
     },
     "execution_count": 6,
     "metadata": {},
     "output_type": "execute_result"
    }
   ],
   "source": [
    "# with vector\n",
    "vector = Vector.new(%w[a c e])"
   ]
  },
  {
   "cell_type": "markdown",
   "id": "3e52645b-db9a-4629-aab9-6dd5ddd1c736",
   "metadata": {},
   "source": [
    "You can specify separator string by :sep."
   ]
  },
  {
   "cell_type": "code",
   "execution_count": 7,
   "id": "5a55b33b-e4f4-47fc-ac4e-d09234dab0a6",
   "metadata": {},
   "outputs": [
    {
     "data": {
      "text/plain": [
       "#<RedAmber::Vector(:string, size=3):0x000000000000f6b8>\n",
       "[\"ab\", \"cd\", \"ef\"]\n"
      ]
     },
     "execution_count": 7,
     "metadata": {},
     "output_type": "execute_result"
    }
   ],
   "source": [
    "# with vector\n",
    "vector = Vector.new(%w[a c e])\n",
    "other = Vector.new(%w[b d f])\n",
    "vector.merge(other, sep: '')"
   ]
  }
 ],
 "metadata": {
  "kernelspec": {
   "display_name": "Ruby 3.1.3",
   "language": "ruby",
   "name": "ruby"
  },
  "language_info": {
   "file_extension": ".rb",
   "mimetype": "application/x-ruby",
   "name": "ruby",
   "version": "3.1.3"
  }
 },
 "nbformat": 4,
 "nbformat_minor": 5
}
