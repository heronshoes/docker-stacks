{
 "cells": [
  {
   "cell_type": "markdown",
   "id": "71980c97-53ac-4806-9ba8-7d419aa2a5e4",
   "metadata": {},
   "source": [
    "# README - RedAmber"
   ]
  },
  {
   "cell_type": "markdown",
   "id": "c598dd20-bd5b-4b7d-b403-08446d0017c0",
   "metadata": {},
   "source": [
    "This notebook walks through [README of RedAmber](https://github.com/heronshoes/red_amber/blob/main/README.md)."
   ]
  },
  {
   "cell_type": "markdown",
   "id": "0ce33dee-85ac-4729-8f38-3cfe6161ee8d",
   "metadata": {},
   "source": [
    "![screenshot from jupyterlab](https://raw.githubusercontent.com/heronshoes/red_amber/main/doc/image/screenshot.png)"
   ]
  },
  {
   "cell_type": "code",
   "execution_count": 1,
   "id": "a3e1fe62-a96f-4a93-8fd4-0c42b74d8056",
   "metadata": {},
   "outputs": [
    {
     "data": {
      "text/plain": [
       "{:RedAmber=>\"0.4.0\", :Arrow=>\"11.0.0\"}"
      ]
     },
     "execution_count": 1,
     "metadata": {},
     "output_type": "execute_result"
    }
   ],
   "source": [
    "require 'red_amber' # require 'red-amber' is also OK.\n",
    "include RedAmber\n",
    "{RedAmber: VERSION, Arrow: Arrow::VERSION}"
   ]
  },
  {
   "cell_type": "markdown",
   "id": "d57bab0e-c5fa-4abc-94d0-657addca3a30",
   "metadata": {},
   "source": [
    "## Data frame in `RedAmber`\n",
    "\n",
    "It represents a set of data in 2D-shape. The entity is a Red Arrow's Table object. \n",
    "\n",
    "![dataframe model of RedAmber](https://github.com/heronshoes/red_amber/raw/main/doc/image/dataframe_model.png)"
   ]
  },
  {
   "cell_type": "markdown",
   "id": "0ff1f884-0e82-4bf0-9a6a-72a5577eafb3",
   "metadata": {},
   "source": [
    "### Example: diamonds dataset\n",
    "\n",
    "First do\n",
    "\n",
    "```\n",
    "    gem install red-datasets-arrow\n",
    "```\n",
    "\n",
    "If you did not install it yet. Then"
   ]
  },
  {
   "cell_type": "code",
   "execution_count": 2,
   "id": "f26c2e12-1373-4704-8a0d-1d9bb4b95730",
   "metadata": {},
   "outputs": [
    {
     "data": {
      "text/html": [
       "RedAmber::DataFrame <53940 x 10 vectors> <table><tr><th>carat</th><th>cut</th><th>color</th><th>clarity</th><th>depth</th><th>table</th><th>price</th><th>x</th><th>y</th><th>z</th></tr><tr><td>0.23</td><td>Ideal</td><td>E</td><td>SI2</td><td>61.5</td><td>55</td><td>326</td><td>3.95</td><td>3.98</td><td>2.43</td></tr><tr><td>0.21</td><td>Premium</td><td>E</td><td>SI1</td><td>59.8</td><td>61</td><td>326</td><td>3.89</td><td>3.84</td><td>2.31</td></tr><tr><td>0.23</td><td>Good</td><td>E</td><td>VS1</td><td>56.9</td><td>65</td><td>327</td><td>4.05</td><td>4.07</td><td>2.31</td></tr><tr><td>0.29</td><td>Premium</td><td>I</td><td>VS2</td><td>62.4</td><td>58</td><td>334</td><td>4.2</td><td>4.23</td><td>2.63</td></tr><tr><td colspan='10'>&#8942;</td></tr><tr><td>0.7</td><td>Very Good</td><td>D</td><td>SI1</td><td>62.8</td><td>60</td><td>2757</td><td>5.66</td><td>5.68</td><td>3.56</td></tr><tr><td>0.86</td><td>Premium</td><td>H</td><td>SI2</td><td>61</td><td>58</td><td>2757</td><td>6.15</td><td>6.12</td><td>3.74</td></tr><tr><td>0.75</td><td>Ideal</td><td>D</td><td>SI2</td><td>62.2</td><td>55</td><td>2757</td><td>5.83</td><td>5.87</td><td>3.64</td></tr></table>"
      ],
      "text/plain": [
       "#<RedAmber::DataFrame : 53940 x 10 Vectors, 0x000000000000f640>\n",
       "         carat cut       color    clarity     depth    table    price        x ...        z\n",
       "      <double> <string>  <string> <string> <double> <double> <uint16> <double> ... <double>\n",
       "    0     0.23 Ideal     E        SI2          61.5     55.0      326     3.95 ...     2.43\n",
       "    1     0.21 Premium   E        SI1          59.8     61.0      326     3.89 ...     2.31\n",
       "    2     0.23 Good      E        VS1          56.9     65.0      327     4.05 ...     2.31\n",
       "    3     0.29 Premium   I        VS2          62.4     58.0      334      4.2 ...     2.63\n",
       "    4     0.31 Good      J        SI2          63.3     58.0      335     4.34 ...     2.75\n",
       "    :        : :         :        :               :        :        :        : ...        :\n",
       "53937      0.7 Very Good D        SI1          62.8     60.0     2757     5.66 ...     3.56\n",
       "53938     0.86 Premium   H        SI2          61.0     58.0     2757     6.15 ...     3.74\n",
       "53939     0.75 Ideal     D        SI2          62.2     55.0     2757     5.83 ...     3.64\n"
      ]
     },
     "execution_count": 2,
     "metadata": {},
     "output_type": "execute_result"
    }
   ],
   "source": [
    "require 'datasets-arrow' # to load sample data\n",
    "\n",
    "dataset = Datasets::Diamonds.new\n",
    "diamonds = DataFrame.new(dataset) # from v0.2.2, should be `dataset.to_arrow` if older."
   ]
  },
  {
   "cell_type": "markdown",
   "id": "5764ebab-3732-441d-a407-62afbd6137bb",
   "metadata": {},
   "source": [
    "For example, we can compute mean prices per 'cut' for the data larger than 1 carat."
   ]
  },
  {
   "cell_type": "code",
   "execution_count": 3,
   "id": "a7141fed-bac5-4c4c-add9-a681b28ad6aa",
   "metadata": {},
   "outputs": [
    {
     "data": {
      "text/html": [
       "RedAmber::DataFrame <5 x 2 vectors> <table><tr><th>cut</th><th>mean(price)</th></tr><tr><td>Ideal</td><td>8674.23</td></tr><tr><td>Premium</td><td>8487.25</td></tr><tr><td>Very Good</td><td>8340.55</td></tr><tr><td>Good</td><td>7753.6</td></tr><tr><td>Fair</td><td>7177.86</td></tr></table>"
      ],
      "text/plain": [
       "#<RedAmber::DataFrame : 5 x 2 Vectors, 0x000000000000f654>\n",
       "  cut       mean(price)\n",
       "  <string>     <double>\n",
       "0 Ideal         8674.23\n",
       "1 Premium       8487.25\n",
       "2 Very Good     8340.55\n",
       "3 Good           7753.6\n",
       "4 Fair          7177.86\n"
      ]
     },
     "execution_count": 3,
     "metadata": {},
     "output_type": "execute_result"
    }
   ],
   "source": [
    "df = diamonds\n",
    "  .slice { carat > 1 }\n",
    "  .group(:cut)\n",
    "  .mean(:price) # `pick` prior to `group` is not required if `:price` is specified here.\n",
    "  .sort('-mean(price)')"
   ]
  },
  {
   "cell_type": "markdown",
   "id": "2a062698-40ea-40fe-a960-dacd150b147f",
   "metadata": {},
   "source": [
    "Arrow data is immutable, so these methods always return new objects.\n",
    "Next example will rename a column and create a new column by simple calcuration."
   ]
  },
  {
   "cell_type": "code",
   "execution_count": 4,
   "id": "e4b7b564-18af-446a-87e2-f4d220050573",
   "metadata": {},
   "outputs": [
    {
     "data": {
      "text/html": [
       "RedAmber::DataFrame <5 x 3 vectors> <table><tr><th>cut</th><th>mean_price_USD</th><th>mean_price_JPY</th></tr><tr><td>Ideal</td><td>8674.23</td><td>954165</td></tr><tr><td>Premium</td><td>8487.25</td><td>933597</td></tr><tr><td>Very Good</td><td>8340.55</td><td>917460</td></tr><tr><td>Good</td><td>7753.6</td><td>852896</td></tr><tr><td>Fair</td><td>7177.86</td><td>789564</td></tr></table>"
      ],
      "text/plain": [
       "#<RedAmber::DataFrame : 5 x 3 Vectors, 0x000000000000f668>\n",
       "  cut       mean_price_USD mean_price_JPY\n",
       "  <string>        <double>       <double>\n",
       "0 Ideal            8674.23      954164.93\n",
       "1 Premium          8487.25      933597.34\n",
       "2 Very Good        8340.55      917460.37\n",
       "3 Good              7753.6      852896.11\n",
       "4 Fair             7177.86      789564.12\n"
      ]
     },
     "execution_count": 4,
     "metadata": {},
     "output_type": "execute_result"
    }
   ],
   "source": [
    "usdjpy = 110.0\n",
    "\n",
    "df.rename('mean(price)': :mean_price_USD)\n",
    "  .assign(:mean_price_JPY) { mean_price_USD * usdjpy }"
   ]
  },
  {
   "cell_type": "markdown",
   "id": "74cf2b78-1f4e-4c1c-a5d7-2f3012b4d0e3",
   "metadata": {},
   "source": [
    "### Example: starwars dataset\n",
    "\n",
    "Next example is `starwars` dataset reading from the downloaded CSV file. Followed by minimum data cleansing."
   ]
  },
  {
   "cell_type": "code",
   "execution_count": 5,
   "id": "8761b3e7-5c5e-4443-be3e-cf7b549688b2",
   "metadata": {},
   "outputs": [
    {
     "data": {
      "text/html": [
       "RedAmber::DataFrame <8 x 4 vectors> <table><tr><th>species</th><th>count</th><th>mean(height)</th><th>mean(mass)</th></tr><tr><td>Human</td><td>35</td><td>176.645</td><td>82.7818</td></tr><tr><td>Droid</td><td>6</td><td>131.2</td><td>69.75</td></tr><tr><td>Wookiee</td><td>2</td><td>231</td><td>124</td></tr><tr><td>Gungan</td><td>3</td><td>208.667</td><td>74</td></tr><tr><td>Zabrak</td><td>2</td><td>173</td><td>80</td></tr><tr><td>Twi'lek</td><td>2</td><td>179</td><td>55</td></tr><tr><td>Mirialan</td><td>2</td><td>168</td><td>53.1</td></tr><tr><td>Kaminoan</td><td>2</td><td>221</td><td>88</td></tr></table>"
      ],
      "text/plain": [
       "#<RedAmber::DataFrame : 8 x 4 Vectors, 0x000000000000f67c>\n",
       "  species    count mean(height) mean(mass)\n",
       "  <string> <int64>     <double>   <double>\n",
       "0 Human         35       176.65      82.78\n",
       "1 Droid          6        131.2      69.75\n",
       "2 Wookiee        2        231.0      124.0\n",
       "3 Gungan         3       208.67       74.0\n",
       "4 Zabrak         2        173.0       80.0\n",
       "5 Twi'lek        2        179.0       55.0\n",
       "6 Mirialan       2        168.0       53.1\n",
       "7 Kaminoan       2        221.0       88.0\n"
      ]
     },
     "execution_count": 5,
     "metadata": {},
     "output_type": "execute_result"
    }
   ],
   "source": [
    "uri = URI('https://vincentarelbundock.github.io/Rdatasets/csv/dplyr/starwars.csv')\n",
    "\n",
    "starwars = DataFrame.load(uri)\n",
    "\n",
    "starwars\n",
    "  .drop(0) # delete unnecessary index column\n",
    "  .remove { species == \"NA\" } # delete unnecessary rows\n",
    "  .group(:species) { [count(:species), mean(:height, :mass)] }\n",
    "  .slice { count > 1 }"
   ]
  },
  {
   "cell_type": "markdown",
   "id": "8ceb5ad7-7fbf-4153-be03-35c62968d3d5",
   "metadata": {},
   "source": [
    "See [DataFrame](DataFrame.ipynb) for other examples and details.\n",
    "\n",
    "- [raw Notebook file](https://raw.githubusercontent.com/heronshoes/docker-stacks/RedAmber-binder/binder/DataFrame.ipynb)\n",
    "- [DataFrame.ipynb on binder](https://mybinder.org/v2/gh/heronshoes/docker-stacks/RedAmber-binder?filepath=DataFrame.ipynb)"
   ]
  },
  {
   "cell_type": "markdown",
   "id": "24d8879d-248e-407d-a79a-201cd180dbe6",
   "metadata": {},
   "source": [
    "### `Vector` for 1D data object in column\n",
    "\n",
    "Class `RedAmber::Vector` represents a series of data in the DataFrame.\n",
    "\n",
    "See [Vector](Vector.ipynb) for details.\n",
    "\n",
    "- [raw Notebook file](https://raw.githubusercontent.com/heronshoes/docker-stacks/RedAmber-binder/binder/Vector.ipynb)\n",
    "- [Vector.ipynb on binder](https://mybinder.org/v2/gh/heronshoes/docker-stacks/RedAmber-binder?filepath=Vector.ipynb)"
   ]
  },
  {
   "cell_type": "markdown",
   "id": "97c4f9e6-6fa6-4918-8788-ac5c2a66d462",
   "metadata": {},
   "source": [
    "## Another Jupyter notebook\n",
    "\n",
    "[Examples of Red Amber](examples_of_red_amber.ipynb) shows more examples in jupyter notebook.\n",
    "\n",
    "- [raw Notebook file](https://raw.githubusercontent.com/heronshoes/docker-stacks/RedAmber-binder/binder/examples_of_red_amber.ipynb)\n",
    "- [Examples of Red Amber on binder](https://mybinder.org/v2/gh/heronshoes/docker-stacks/RedAmber-binder?filepath=examples_of_red_amber.ipynb)"
   ]
  }
 ],
 "metadata": {
  "kernelspec": {
   "display_name": "Ruby 3.2.1",
   "language": "ruby",
   "name": "ruby"
  },
  "language_info": {
   "file_extension": ".rb",
   "mimetype": "application/x-ruby",
   "name": "ruby",
   "version": "3.2.1"
  }
 },
 "nbformat": 4,
 "nbformat_minor": 5
}
