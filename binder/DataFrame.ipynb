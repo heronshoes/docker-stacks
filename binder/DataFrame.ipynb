{
 "cells": [
  {
   "cell_type": "markdown",
   "id": "4189c4d7-aae1-4186-b135-9b1353d99d59",
   "metadata": {},
   "source": [
    "# DataFrame - RedAmber"
   ]
  },
  {
   "cell_type": "markdown",
   "id": "82bbf249-692f-475c-bfc7-d1d9ab271451",
   "metadata": {},
   "source": [
    "This notebook walks through [DataFrame.md of RedAmber](https://github.com/heronshoes/red_amber/blob/main/doc/DataFrame.md)."
   ]
  },
  {
   "cell_type": "code",
   "execution_count": 1,
   "id": "e67bd73c-e2e1-4a1c-9ceb-abd2563d3c62",
   "metadata": {},
   "outputs": [
    {
     "data": {
      "text/plain": [
       "{:RedAmber=>\"0.3.0\", :Arrow=>\"10.0.0\"}"
      ]
     },
     "execution_count": 1,
     "metadata": {},
     "output_type": "execute_result"
    }
   ],
   "source": [
    "require 'red_amber' # require 'red-amber' is also OK.\n",
    "include RedAmber\n",
    "{RedAmber: VERSION, Arrow: Arrow::VERSION}"
   ]
  },
  {
   "cell_type": "markdown",
   "id": "a5db3639-3aaa-426b-a643-458ae919313f",
   "metadata": {},
   "source": [
    "# DataFrame\n",
    "\n",
    "Class `RedAmber::DataFrame` represents 2D-data. A `DataFrame` consists with:\n",
    "- A collection of data which have same data type within. We call it `Vector`.\n",
    "- A label is attached to `Vector`. We call it `key`.\n",
    "- A `Vector` and associated `key` is grouped as a `variable`.\n",
    "- `variable`s with same vector length are aligned and arranged to be a `DataFrame`.\n",
    "- Each `Vector` in a `DataFrame` contains a set of relating data at same position. We call it `record` or `observation`.\n",
    "\n",
    "![dataframe model of RedAmber](https://github.com/heronshoes/red_amber/raw/main/doc/image/dataframe_model.png)"
   ]
  },
  {
   "cell_type": "markdown",
   "id": "9e56d0be-d3d3-42b5-bba8-f2598a3bebfb",
   "metadata": {},
   "source": [
    "## Constructors and saving\n",
    "\n",
    "### `new` from a Hash"
   ]
  },
  {
   "cell_type": "code",
   "execution_count": 2,
   "id": "367bb73d-8795-4a0e-9d8c-b4a620efe4ea",
   "metadata": {},
   "outputs": [
    {
     "data": {
      "text/html": [
       "RedAmber::DataFrame <3 x 2 vectors> <table><tr><th>x</th><th>y</th></tr><tr><td>1</td><td>A</td></tr><tr><td>2</td><td>B</td></tr><tr><td>3</td><td>C</td></tr></table>"
      ],
      "text/plain": [
       "#<RedAmber::DataFrame : 3 x 2 Vectors, 0x000000000000f0c8>\n",
       "        x y\n",
       "  <uint8> <string>\n",
       "0       1 A\n",
       "1       2 B\n",
       "2       3 C\n"
      ]
     },
     "execution_count": 2,
     "metadata": {},
     "output_type": "execute_result"
    }
   ],
   "source": [
    "df = DataFrame.new(x: [1, 2, 3], y: %w[A B C])"
   ]
  },
  {
   "cell_type": "markdown",
   "id": "e3f207f3-07e3-45f3-9671-0c6e9d01be65",
   "metadata": {},
   "source": [
    "### `new` from a schema (by Hash) and data (by Array)"
   ]
  },
  {
   "cell_type": "code",
   "execution_count": 3,
   "id": "70c2c4ab-648e-48b5-8e26-a08f25169c85",
   "metadata": {},
   "outputs": [
    {
     "data": {
      "text/html": [
       "RedAmber::DataFrame <3 x 2 vectors> <table><tr><th>x</th><th>y</th></tr><tr><td>1</td><td>A</td></tr><tr><td>2</td><td>B</td></tr><tr><td>3</td><td>C</td></tr></table>"
      ],
      "text/plain": [
       "#<RedAmber::DataFrame : 3 x 2 Vectors, 0x000000000000f0dc>\n",
       "        x y\n",
       "  <uint8> <string>\n",
       "0       1 A\n",
       "1       2 B\n",
       "2       3 C\n"
      ]
     },
     "execution_count": 3,
     "metadata": {},
     "output_type": "execute_result"
    }
   ],
   "source": [
    "DataFrame.new({x: :uint8, y: :string}, [[1, \"A\"], [2, \"B\"], [3, \"C\"]])"
   ]
  },
  {
   "cell_type": "markdown",
   "id": "c7006ec6-e569-43a7-a2f5-b677141a42aa",
   "metadata": {},
   "source": [
    "### `new` from an Arrow::Table"
   ]
  },
  {
   "cell_type": "code",
   "execution_count": 4,
   "id": "c5f64afc-ff4c-4194-8ac9-87e8ab7fee5c",
   "metadata": {},
   "outputs": [
    {
     "data": {
      "text/html": [
       "RedAmber::DataFrame <3 x 2 vectors> <table><tr><th>x</th><th>y</th></tr><tr><td>1</td><td>A</td></tr><tr><td>2</td><td>B</td></tr><tr><td>3</td><td>C</td></tr></table>"
      ],
      "text/plain": [
       "#<RedAmber::DataFrame : 3 x 2 Vectors, 0x000000000000f0f0>\n",
       "        x y\n",
       "  <uint8> <string>\n",
       "0       1 A\n",
       "1       2 B\n",
       "2       3 C\n"
      ]
     },
     "execution_count": 4,
     "metadata": {},
     "output_type": "execute_result"
    }
   ],
   "source": [
    "table = Arrow::Table.new(x: [1, 2, 3], y: %w[A B C])\n",
    "DataFrame.new(table)"
   ]
  },
  {
   "cell_type": "markdown",
   "id": "91655051-f081-4179-af8e-ad2f38a93861",
   "metadata": {},
   "source": [
    "### `new` from an Object which responds to `to_arrow`"
   ]
  },
  {
   "cell_type": "code",
   "execution_count": 8,
   "id": "f4c69048-3a56-440a-8ab2-9c2a0e766fcf",
   "metadata": {},
   "outputs": [
    {
     "data": {
      "text/html": [
       "RedAmber::DataFrame <344 x 8 vectors> <table><tr><th>species</th><th>island</th><th>bill_length_mm</th><th>bill_depth_mm</th><th>flipper_length_mm</th><th>body_mass_g</th><th>sex</th><th>year</th></tr><tr><td>Adelie</td><td>Torgersen</td><td>39.1</td><td>18.7</td><td>181</td><td>3750</td><td>male</td><td>2007</td></tr><tr><td>Adelie</td><td>Torgersen</td><td>39.5</td><td>17.4</td><td>186</td><td>3800</td><td>female</td><td>2007</td></tr><tr><td>Adelie</td><td>Torgersen</td><td>40.3</td><td>18</td><td>195</td><td>3250</td><td>female</td><td>2007</td></tr><tr><td>Adelie</td><td>Torgersen</td><td><i>(nil)</i></td><td><i>(nil)</i></td><td><i>(nil)</i></td><td><i>(nil)</i></td><td><i>(nil)</i></td><td>2007</td></tr><tr><td colspan='8'>&#8942;</td></tr><tr><td>Gentoo</td><td>Biscoe</td><td>50.4</td><td>15.7</td><td>222</td><td>5750</td><td>male</td><td>2009</td></tr><tr><td>Gentoo</td><td>Biscoe</td><td>45.2</td><td>14.8</td><td>212</td><td>5200</td><td>female</td><td>2009</td></tr><tr><td>Gentoo</td><td>Biscoe</td><td>49.9</td><td>16.1</td><td>213</td><td>5400</td><td>male</td><td>2009</td></tr></table>"
      ],
      "text/plain": [
       "#<RedAmber::DataFrame : 344 x 8 Vectors, 0x000000000000f118>\n",
       "    species  island    bill_length_mm bill_depth_mm flipper_length_mm ...     year\n",
       "    <string> <string>        <double>      <double>           <uint8> ... <uint16>\n",
       "  0 Adelie   Torgersen           39.1          18.7               181 ...     2007\n",
       "  1 Adelie   Torgersen           39.5          17.4               186 ...     2007\n",
       "  2 Adelie   Torgersen           40.3          18.0               195 ...     2007\n",
       "  3 Adelie   Torgersen          (nil)         (nil)             (nil) ...     2007\n",
       "  4 Adelie   Torgersen           36.7          19.3               193 ...     2007\n",
       "  : :        :                      :             :                 : ...        :\n",
       "341 Gentoo   Biscoe              50.4          15.7               222 ...     2009\n",
       "342 Gentoo   Biscoe              45.2          14.8               212 ...     2009\n",
       "343 Gentoo   Biscoe              49.9          16.1               213 ...     2009\n"
      ]
     },
     "execution_count": 8,
     "metadata": {},
     "output_type": "execute_result"
    }
   ],
   "source": [
    "require \"datasets-arrow\"\n",
    "\n",
    "dataset = Datasets::Penguins.new\n",
    "penguins = DataFrame.new(dataset)"
   ]
  },
  {
   "cell_type": "markdown",
   "id": "47c28045-cde9-4e29-acbb-ce866044a8b7",
   "metadata": {},
   "source": [
    "### `new` from a Rover::DataFrame"
   ]
  },
  {
   "cell_type": "code",
   "execution_count": 6,
   "id": "c07cdf70-9bbe-4f95-a475-21d1e72d5d4c",
   "metadata": {},
   "outputs": [
    {
     "data": {
      "text/html": [
       "RedAmber::DataFrame <3 x 2 vectors> <table><tr><th>x</th><th>y</th></tr><tr><td>1</td><td>A</td></tr><tr><td>2</td><td>B</td></tr><tr><td>3</td><td>C</td></tr></table>"
      ],
      "text/plain": [
       "#<RedAmber::DataFrame : 3 x 2 Vectors, 0x000000000000f230>\n",
       "        x y\n",
       "  <uint8> <string>\n",
       "0       1 A\n",
       "1       2 B\n",
       "2       3 C\n"
      ]
     },
     "execution_count": 6,
     "metadata": {},
     "output_type": "execute_result"
    }
   ],
   "source": [
    "require 'rover'\n",
    "\n",
    "rover = Rover::DataFrame.new(x: [1, 2, 3], y: %w[A B C])\n",
    "DataFrame.new(rover)"
   ]
  },
  {
   "cell_type": "markdown",
   "id": "f37e8353-78f3-4624-976d-fdb025ac0301",
   "metadata": {},
   "source": [
    "### `load` (class method)\n",
    "\n",
    "- from a `.arrow`, `.arrows`, `.csv`, `.csv.gz` or `.tsv` file\n",
    "       "
   ]
  },
  {
   "cell_type": "code",
   "execution_count": 8,
   "id": "d353a5e7-0025-4a26-935a-880149d9880d",
   "metadata": {},
   "outputs": [
    {
     "data": {
      "text/html": [
       "RedAmber::DataFrame <3 x 2 vectors> <table><tr><th>name</th><th>age</th></tr><tr><td>Yasuko</td><td>68</td></tr><tr><td>Rui</td><td>49</td></tr><tr><td>Hinata</td><td>28</td></tr></table>"
      ],
      "text/plain": [
       "#<RedAmber::DataFrame : 3 x 2 Vectors, 0x000000000000f244>\n",
       "  name         age\n",
       "  <string> <int64>\n",
       "0 Yasuko        68\n",
       "1 Rui           49\n",
       "2 Hinata        28\n"
      ]
     },
     "execution_count": 8,
     "metadata": {},
     "output_type": "execute_result"
    }
   ],
   "source": [
    "file = Tempfile.open(['comecome', '.csv']) do |f|\n",
    "  f.puts(<<~CSV)\n",
    "    name,age\n",
    "    Yasuko,68\n",
    "    Rui,49\n",
    "    Hinata,28\n",
    "  CSV\n",
    "  f\n",
    "end\n",
    "\n",
    "DataFrame.load(file)"
   ]
  },
  {
   "cell_type": "markdown",
   "id": "937f7ec6-3c69-4033-937a-4062b6b4ddb8",
   "metadata": {},
   "source": [
    "- from a string buffer\n",
    "\n",
    "- from a URI"
   ]
  },
  {
   "cell_type": "code",
   "execution_count": 9,
   "id": "c5cb9679-ac76-4a4d-b607-732911a26fd8",
   "metadata": {},
   "outputs": [
    {
     "data": {
      "text/html": [
       "RedAmber::DataFrame <344 x 7 vectors> <table><tr><th>species</th><th>island</th><th>bill_length_mm</th><th>bill_depth_mm</th><th>flipper_length_mm</th><th>body_mass_g</th><th>sex</th></tr><tr><td>Adelie</td><td>Torgersen</td><td>39.1</td><td>18.7</td><td>181</td><td>3750</td><td>MALE</td></tr><tr><td>Adelie</td><td>Torgersen</td><td>39.5</td><td>17.4</td><td>186</td><td>3800</td><td>FEMALE</td></tr><tr><td>Adelie</td><td>Torgersen</td><td>40.3</td><td>18</td><td>195</td><td>3250</td><td>FEMALE</td></tr><tr><td>Adelie</td><td>Torgersen</td><td><i>(nil)</i></td><td><i>(nil)</i></td><td><i>(nil)</i></td><td><i>(nil)</i></td><td>\"\"</td></tr><tr><td colspan='7'>&#8942;</td></tr><tr><td>Gentoo</td><td>Biscoe</td><td>50.4</td><td>15.7</td><td>222</td><td>5750</td><td>MALE</td></tr><tr><td>Gentoo</td><td>Biscoe</td><td>45.2</td><td>14.8</td><td>212</td><td>5200</td><td>FEMALE</td></tr><tr><td>Gentoo</td><td>Biscoe</td><td>49.9</td><td>16.1</td><td>213</td><td>5400</td><td>MALE</td></tr></table>"
      ],
      "text/plain": [
       "#<RedAmber::DataFrame : 344 x 7 Vectors, 0x000000000000f258>\n",
       "    species  island    bill_length_mm bill_depth_mm flipper_length_mm ... sex\n",
       "    <string> <string>        <double>      <double>           <int64> ... <string>\n",
       "  0 Adelie   Torgersen           39.1          18.7               181 ... MALE\n",
       "  1 Adelie   Torgersen           39.5          17.4               186 ... FEMALE\n",
       "  2 Adelie   Torgersen           40.3          18.0               195 ... FEMALE\n",
       "  3 Adelie   Torgersen          (nil)         (nil)             (nil) ...\n",
       "  4 Adelie   Torgersen           36.7          19.3               193 ... FEMALE\n",
       "  : :        :                      :             :                 : ... :\n",
       "341 Gentoo   Biscoe              50.4          15.7               222 ... MALE\n",
       "342 Gentoo   Biscoe              45.2          14.8               212 ... FEMALE\n",
       "343 Gentoo   Biscoe              49.9          16.1               213 ... MALE\n"
      ]
     },
     "execution_count": 9,
     "metadata": {},
     "output_type": "execute_result"
    }
   ],
   "source": [
    "uri = URI(\"https://raw.githubusercontent.com/mwaskom/seaborn-data/master/penguins.csv\")\n",
    "DataFrame.load(uri)"
   ]
  },
  {
   "cell_type": "markdown",
   "id": "3700a35c-2382-402a-8bf7-263888933c96",
   "metadata": {},
   "source": [
    "- from a Parquet file"
   ]
  },
  {
   "cell_type": "code",
   "execution_count": 27,
   "id": "5ef9551d-2931-4436-99b4-2ce63192d952",
   "metadata": {},
   "outputs": [
    {
     "data": {
      "text/html": [
       "RedAmber::DataFrame <344 x 8 vectors> <table><tr><th>species</th><th>island</th><th>bill_length_mm</th><th>bill_depth_mm</th><th>flipper_length_mm</th><th>body_mass_g</th><th>sex</th><th>year</th></tr><tr><td>Adelie</td><td>Torgersen</td><td>39.1</td><td>18.7</td><td>181</td><td>3750</td><td>male</td><td>2007</td></tr><tr><td>Adelie</td><td>Torgersen</td><td>39.5</td><td>17.4</td><td>186</td><td>3800</td><td>female</td><td>2007</td></tr><tr><td>Adelie</td><td>Torgersen</td><td>40.3</td><td>18</td><td>195</td><td>3250</td><td>female</td><td>2007</td></tr><tr><td>Adelie</td><td>Torgersen</td><td><i>(nil)</i></td><td><i>(nil)</i></td><td><i>(nil)</i></td><td><i>(nil)</i></td><td><i>(nil)</i></td><td>2007</td></tr><tr><td colspan='8'>&#8942;</td></tr><tr><td>Gentoo</td><td>Biscoe</td><td>50.4</td><td>15.7</td><td>222</td><td>5750</td><td>male</td><td>2009</td></tr><tr><td>Gentoo</td><td>Biscoe</td><td>45.2</td><td>14.8</td><td>212</td><td>5200</td><td>female</td><td>2009</td></tr><tr><td>Gentoo</td><td>Biscoe</td><td>49.9</td><td>16.1</td><td>213</td><td>5400</td><td>male</td><td>2009</td></tr></table>"
      ],
      "text/plain": [
       "#<RedAmber::DataFrame : 344 x 8 Vectors, 0x000000000000f44c>\n",
       "    species  island    bill_length_mm bill_depth_mm flipper_length_mm ...     year\n",
       "    <string> <string>        <double>      <double>           <uint8> ... <uint16>\n",
       "  0 Adelie   Torgersen           39.1          18.7               181 ...     2007\n",
       "  1 Adelie   Torgersen           39.5          17.4               186 ...     2007\n",
       "  2 Adelie   Torgersen           40.3          18.0               195 ...     2007\n",
       "  3 Adelie   Torgersen          (nil)         (nil)             (nil) ...     2007\n",
       "  4 Adelie   Torgersen           36.7          19.3               193 ...     2007\n",
       "  : :        :                      :             :                 : ...        :\n",
       "341 Gentoo   Biscoe              50.4          15.7               222 ...     2009\n",
       "342 Gentoo   Biscoe              45.2          14.8               212 ...     2009\n",
       "343 Gentoo   Biscoe              49.9          16.1               213 ...     2009\n"
      ]
     },
     "execution_count": 27,
     "metadata": {},
     "output_type": "execute_result"
    }
   ],
   "source": [
    "require 'parquet'\n",
    "\n",
    "penguins.save('penguins.parquet')\n",
    "\n",
    "df = DataFrame.load(\"penguins.parquet\")"
   ]
  },
  {
   "cell_type": "markdown",
   "id": "e06a2cf1-1675-4708-b495-57f0764371b9",
   "metadata": {},
   "source": [
    "### `save` (instance method)\n",
    "\n",
    "- to a `.arrow`, `.arrows`, `.csv`, `.csv.gz` or `.tsv` file\n",
    "\n",
    "- to a string buffer\n",
    "\n",
    "- to a URI\n",
    "\n",
    "- to a Parquet file"
   ]
  },
  {
   "cell_type": "code",
   "execution_count": 12,
   "id": "c32d7498-4027-4437-8cf4-382f9d31115a",
   "metadata": {},
   "outputs": [
    {
     "data": {
      "text/plain": [
       "true"
      ]
     },
     "execution_count": 12,
     "metadata": {},
     "output_type": "execute_result"
    }
   ],
   "source": [
    "require 'parquet'\n",
    "\n",
    "penguins.save(\"penguins.parquet\")"
   ]
  },
  {
   "cell_type": "markdown",
   "id": "c078f2c8-f51d-4c02-b922-19f7e5153a1e",
   "metadata": {},
   "source": [
    "## Properties\n",
    "\n",
    "### `table`, `to_arrow`\n",
    "\n",
    "- Reader of Arrow::Table object inside.\n",
    "\n",
    "### `size`, `n_obs`, `n_rows`\n",
    "  \n",
    "- Returns size of Vector (num of observations).\n",
    " \n",
    "### `n_keys`, `n_vars`, `n_cols`,\n",
    "  \n",
    "- Returns num of keys (num of variables).\n",
    " \n",
    "### `shape`\n",
    " \n",
    "- Returns shape in an Array[n_rows, n_cols].\n",
    "\n",
    "### `variables`\n",
    "\n",
    "- Returns key names and Vectors pair in a Hash.\n",
    "\n",
    "  It is convenient to use in a block when both key and vector required. We will write:"
   ]
  },
  {
   "cell_type": "code",
   "execution_count": 15,
   "id": "c74e9e9a-ebb2-4684-bebd-41ed2c0d6f72",
   "metadata": {},
   "outputs": [
    {
     "data": {
      "text/html": [
       "RedAmber::DataFrame <344 x 8 vectors> <table><tr><th>species</th><th>island</th><th>bill_length_mm</th><th>bill_depth_mm</th><th>flipper_length_mm</th><th>body_mass_g</th><th>sex</th><th>year</th></tr><tr><td>Adelie</td><td>Torgersen</td><td>-39.1</td><td>-18.7</td><td>-181</td><td>-3750</td><td>male</td><td>-2007</td></tr><tr><td>Adelie</td><td>Torgersen</td><td>-39.5</td><td>-17.4</td><td>-186</td><td>-3800</td><td>female</td><td>-2007</td></tr><tr><td>Adelie</td><td>Torgersen</td><td>-40.3</td><td>-18</td><td>-195</td><td>-3250</td><td>female</td><td>-2007</td></tr><tr><td>Adelie</td><td>Torgersen</td><td><i>(nil)</i></td><td><i>(nil)</i></td><td><i>(nil)</i></td><td><i>(nil)</i></td><td><i>(nil)</i></td><td>-2007</td></tr><tr><td colspan='8'>&#8942;</td></tr><tr><td>Gentoo</td><td>Biscoe</td><td>-50.4</td><td>-15.7</td><td>-222</td><td>-5750</td><td>male</td><td>-2009</td></tr><tr><td>Gentoo</td><td>Biscoe</td><td>-45.2</td><td>-14.8</td><td>-212</td><td>-5200</td><td>female</td><td>-2009</td></tr><tr><td>Gentoo</td><td>Biscoe</td><td>-49.9</td><td>-16.1</td><td>-213</td><td>-5400</td><td>male</td><td>-2009</td></tr></table>"
      ],
      "text/plain": [
       "#<RedAmber::DataFrame : 344 x 8 Vectors, 0x000000000000f3d4>\n",
       "    species  island    bill_length_mm bill_depth_mm flipper_length_mm ...    year\n",
       "    <string> <string>        <double>      <double>           <int16> ... <int16>\n",
       "  0 Adelie   Torgersen          -39.1         -18.7              -181 ...   -2007\n",
       "  1 Adelie   Torgersen          -39.5         -17.4              -186 ...   -2007\n",
       "  2 Adelie   Torgersen          -40.3         -18.0              -195 ...   -2007\n",
       "  3 Adelie   Torgersen          (nil)         (nil)             (nil) ...   -2007\n",
       "  4 Adelie   Torgersen          -36.7         -19.3              -193 ...   -2007\n",
       "  : :        :                      :             :                 : ...       :\n",
       "341 Gentoo   Biscoe             -50.4         -15.7              -222 ...   -2009\n",
       "342 Gentoo   Biscoe             -45.2         -14.8              -212 ...   -2009\n",
       "343 Gentoo   Biscoe             -49.9         -16.1              -213 ...   -2009\n"
      ]
     },
     "execution_count": 15,
     "metadata": {},
     "output_type": "execute_result"
    }
   ],
   "source": [
    "# update numeric variables\n",
    "df.assign do\n",
    "  variables.select.with_object({}) do |(key, vector), assigner|\n",
    "    assigner[key] = vector * -1 if vector.numeric?\n",
    "  end\n",
    "end"
   ]
  },
  {
   "cell_type": "markdown",
   "id": "06564d91-3162-4b6b-877a-12dd7827cbbd",
   "metadata": {},
   "source": [
    "Instead of:"
   ]
  },
  {
   "cell_type": "code",
   "execution_count": 16,
   "id": "8895a934-75f3-446c-a89a-43f1e0959d6f",
   "metadata": {},
   "outputs": [
    {
     "data": {
      "text/html": [
       "RedAmber::DataFrame <344 x 8 vectors> <table><tr><th>species</th><th>island</th><th>bill_length_mm</th><th>bill_depth_mm</th><th>flipper_length_mm</th><th>body_mass_g</th><th>sex</th><th>year</th></tr><tr><td>Adelie</td><td>Torgersen</td><td>-39.1</td><td>-18.7</td><td>-181</td><td>-3750</td><td>male</td><td>-2007</td></tr><tr><td>Adelie</td><td>Torgersen</td><td>-39.5</td><td>-17.4</td><td>-186</td><td>-3800</td><td>female</td><td>-2007</td></tr><tr><td>Adelie</td><td>Torgersen</td><td>-40.3</td><td>-18</td><td>-195</td><td>-3250</td><td>female</td><td>-2007</td></tr><tr><td>Adelie</td><td>Torgersen</td><td><i>(nil)</i></td><td><i>(nil)</i></td><td><i>(nil)</i></td><td><i>(nil)</i></td><td><i>(nil)</i></td><td>-2007</td></tr><tr><td colspan='8'>&#8942;</td></tr><tr><td>Gentoo</td><td>Biscoe</td><td>-50.4</td><td>-15.7</td><td>-222</td><td>-5750</td><td>male</td><td>-2009</td></tr><tr><td>Gentoo</td><td>Biscoe</td><td>-45.2</td><td>-14.8</td><td>-212</td><td>-5200</td><td>female</td><td>-2009</td></tr><tr><td>Gentoo</td><td>Biscoe</td><td>-49.9</td><td>-16.1</td><td>-213</td><td>-5400</td><td>male</td><td>-2009</td></tr></table>"
      ],
      "text/plain": [
       "#<RedAmber::DataFrame : 344 x 8 Vectors, 0x000000000000f3e8>\n",
       "    species  island    bill_length_mm bill_depth_mm flipper_length_mm ...    year\n",
       "    <string> <string>        <double>      <double>           <int16> ... <int16>\n",
       "  0 Adelie   Torgersen          -39.1         -18.7              -181 ...   -2007\n",
       "  1 Adelie   Torgersen          -39.5         -17.4              -186 ...   -2007\n",
       "  2 Adelie   Torgersen          -40.3         -18.0              -195 ...   -2007\n",
       "  3 Adelie   Torgersen          (nil)         (nil)             (nil) ...   -2007\n",
       "  4 Adelie   Torgersen          -36.7         -19.3              -193 ...   -2007\n",
       "  : :        :                      :             :                 : ...       :\n",
       "341 Gentoo   Biscoe             -50.4         -15.7              -222 ...   -2009\n",
       "342 Gentoo   Biscoe             -45.2         -14.8              -212 ...   -2009\n",
       "343 Gentoo   Biscoe             -49.9         -16.1              -213 ...   -2009\n"
      ]
     },
     "execution_count": 16,
     "metadata": {},
     "output_type": "execute_result"
    }
   ],
   "source": [
    "df.assign do\n",
    "  assigner = {}\n",
    "  vectors.each_with_index do |vector, i|\n",
    "    assigner[keys[i]] = vector * -1 if vector.numeric?\n",
    "  end\n",
    "  assigner\n",
    "end"
   ]
  },
  {
   "cell_type": "markdown",
   "id": "f97f61fe-1861-4b9a-944b-664b2f94adda",
   "metadata": {},
   "source": [
    "### `keys`, `var_names`, `column_names`\n",
    "  \n",
    "- Returns key names in an Array.\n",
    "\n",
    "  When we use it with vectors, Vector#key is useful to get the key inside of DataFrame."
   ]
  },
  {
   "cell_type": "markdown",
   "id": "f32bdfe3-99a0-47fc-859f-f6e10b90d6d0",
   "metadata": {},
   "source": [
    "### `types`\n",
    "  \n",
    "- Returns types of vectors in an Array of Symbols.\n",
    "\n",
    "### `type_classes`\n",
    "\n",
    "- Returns types of vector in an Array of `Arrow::DataType`.\n",
    "\n",
    "### `vectors`\n",
    "\n",
    "- Returns an Array of Vectors."
   ]
  },
  {
   "cell_type": "code",
   "execution_count": 17,
   "id": "012b51fa-0b55-4fc6-bb3d-2ab97a0f8394",
   "metadata": {},
   "outputs": [
    {
     "data": {
      "text/html": [
       "RedAmber::DataFrame <344 x 8 vectors> <table><tr><th>species</th><th>island</th><th>bill_length_mm</th><th>bill_depth_mm</th><th>flipper_length_mm</th><th>body_mass_g</th><th>sex</th><th>year</th></tr><tr><td>Adelie</td><td>Torgersen</td><td>-39.1</td><td>-18.7</td><td>-181</td><td>-3750</td><td>male</td><td>-2007</td></tr><tr><td>Adelie</td><td>Torgersen</td><td>-39.5</td><td>-17.4</td><td>-186</td><td>-3800</td><td>female</td><td>-2007</td></tr><tr><td>Adelie</td><td>Torgersen</td><td>-40.3</td><td>-18</td><td>-195</td><td>-3250</td><td>female</td><td>-2007</td></tr><tr><td>Adelie</td><td>Torgersen</td><td><i>(nil)</i></td><td><i>(nil)</i></td><td><i>(nil)</i></td><td><i>(nil)</i></td><td><i>(nil)</i></td><td>-2007</td></tr><tr><td colspan='8'>&#8942;</td></tr><tr><td>Gentoo</td><td>Biscoe</td><td>-50.4</td><td>-15.7</td><td>-222</td><td>-5750</td><td>male</td><td>-2009</td></tr><tr><td>Gentoo</td><td>Biscoe</td><td>-45.2</td><td>-14.8</td><td>-212</td><td>-5200</td><td>female</td><td>-2009</td></tr><tr><td>Gentoo</td><td>Biscoe</td><td>-49.9</td><td>-16.1</td><td>-213</td><td>-5400</td><td>male</td><td>-2009</td></tr></table>"
      ],
      "text/plain": [
       "#<RedAmber::DataFrame : 344 x 8 Vectors, 0x000000000000f3fc>\n",
       "    species  island    bill_length_mm bill_depth_mm flipper_length_mm ...    year\n",
       "    <string> <string>        <double>      <double>           <int16> ... <int16>\n",
       "  0 Adelie   Torgersen          -39.1         -18.7              -181 ...   -2007\n",
       "  1 Adelie   Torgersen          -39.5         -17.4              -186 ...   -2007\n",
       "  2 Adelie   Torgersen          -40.3         -18.0              -195 ...   -2007\n",
       "  3 Adelie   Torgersen          (nil)         (nil)             (nil) ...   -2007\n",
       "  4 Adelie   Torgersen          -36.7         -19.3              -193 ...   -2007\n",
       "  : :        :                      :             :                 : ...       :\n",
       "341 Gentoo   Biscoe             -50.4         -15.7              -222 ...   -2009\n",
       "342 Gentoo   Biscoe             -45.2         -14.8              -212 ...   -2009\n",
       "343 Gentoo   Biscoe             -49.9         -16.1              -213 ...   -2009\n"
      ]
     },
     "execution_count": 17,
     "metadata": {},
     "output_type": "execute_result"
    }
   ],
   "source": [
    "# update numeric variables, another solution\n",
    "df.assign do\n",
    "  vectors.each_with_object({}) do |vector, assigner|\n",
    "    assigner[vector.key] = vector * -1 if vector.numeric?\n",
    "  end\n",
    "end"
   ]
  },
  {
   "cell_type": "markdown",
   "id": "0918245a-304c-4747-ab1a-3deaaf47a1b3",
   "metadata": {},
   "source": [
    "### `indices`, `indexes`\n",
    "\n",
    "- Returns indexes in an Vector.\n",
    "  Accepts an option `start` as the first of indexes."
   ]
  },
  {
   "cell_type": "code",
   "execution_count": 18,
   "id": "f0ca4dd9-902e-4c38-8fb2-503aa7960486",
   "metadata": {},
   "outputs": [
    {
     "data": {
      "text/plain": [
       "#<RedAmber::Vector(:uint8, size=5):0x000000000000f410>\n",
       "[0, 1, 2, 3, 4]\n"
      ]
     },
     "execution_count": 18,
     "metadata": {},
     "output_type": "execute_result"
    }
   ],
   "source": [
    "df = DataFrame.new(x: [1, 2, 3, 4, 5])\n",
    "df.indices"
   ]
  },
  {
   "cell_type": "code",
   "execution_count": 19,
   "id": "2677c3fc-6874-41ae-9c1d-70aad2b3f749",
   "metadata": {},
   "outputs": [
    {
     "data": {
      "text/plain": [
       "#<RedAmber::Vector(:uint8, size=5):0x000000000000f424>\n",
       "[1, 2, 3, 4, 5]\n"
      ]
     },
     "execution_count": 19,
     "metadata": {},
     "output_type": "execute_result"
    }
   ],
   "source": [
    "df.indices(1)"
   ]
  },
  {
   "cell_type": "code",
   "execution_count": 20,
   "id": "b5d6876f-ab7e-4ff5-b747-a9725ae819f9",
   "metadata": {},
   "outputs": [
    {
     "data": {
      "text/plain": [
       "#<RedAmber::Vector(:dictionary, size=5):0x000000000000f438>\n",
       "[\"a\", \"b\", \"c\", \"d\", \"e\"]\n"
      ]
     },
     "execution_count": 20,
     "metadata": {},
     "output_type": "execute_result"
    }
   ],
   "source": [
    "df.indices(:a)"
   ]
  },
  {
   "cell_type": "markdown",
   "id": "0e2bf4b7-a420-48a6-9b93-4969a082d82c",
   "metadata": {},
   "source": [
    "### `to_h`\n",
    "\n",
    "- Returns column-oriented data in a Hash.\n",
    "\n",
    "### `to_a`, `raw_records`\n",
    "\n",
    "- Returns an array of row-oriented data without header.\n",
    "  \n",
    "  If you need a column-oriented full array, use `.to_h.to_a`\n",
    "\n",
    "### `each_row`\n",
    "\n",
    "  Yield each row in a `{ key => row}` Hash.\n",
    "  Returns Enumerator if block is not given.\n",
    "\n",
    "### `schema`\n",
    "\n",
    "- Returns column name and data type in a Hash.\n",
    "\n",
    "### `==`\n",
    " \n",
    "### `empty?`\n",
    "\n",
    "## Output\n",
    "\n",
    "### `to_s`"
   ]
  },
  {
   "cell_type": "code",
   "execution_count": 21,
   "id": "8e4f7cf2-e7af-42fd-9316-99c67d06a57e",
   "metadata": {},
   "outputs": [
    {
     "name": "stdout",
     "output_type": "stream",
     "text": [
      "    species  island    bill_length_mm bill_depth_mm flipper_length_mm ...     year\n",
      "    <string> <string>        <double>      <double>           <uint8> ... <uint16>\n",
      "  0 Adelie   Torgersen           39.1          18.7               181 ...     2007\n",
      "  1 Adelie   Torgersen           39.5          17.4               186 ...     2007\n",
      "  2 Adelie   Torgersen           40.3          18.0               195 ...     2007\n",
      "  3 Adelie   Torgersen          (nil)         (nil)             (nil) ...     2007\n",
      "  4 Adelie   Torgersen           36.7          19.3               193 ...     2007\n",
      "  : :        :                      :             :                 : ...        :\n",
      "341 Gentoo   Biscoe              50.4          15.7               222 ...     2009\n",
      "342 Gentoo   Biscoe              45.2          14.8               212 ...     2009\n",
      "343 Gentoo   Biscoe              49.9          16.1               213 ...     2009\n"
     ]
    }
   ],
   "source": [
    "puts penguins.to_s"
   ]
  },
  {
   "cell_type": "markdown",
   "id": "44799682-feef-4f03-9134-65a48a17f65b",
   "metadata": {},
   "source": [
    "### `inspect`\n",
    "\n",
    "`inspect` uses `to_s` output and also shows shape and object_id.\n",
    "\n",
    "\n",
    "### `summary`, `describe`\n",
    "\n",
    "`DataFrame#summary` or `DataFrame#describe` shows summary statistics in a DataFrame."
   ]
  },
  {
   "cell_type": "code",
   "execution_count": 22,
   "id": "733b6998-3f69-48e4-b48f-4ccbcdb0edd5",
   "metadata": {},
   "outputs": [
    {
     "name": "stdout",
     "output_type": "stream",
     "text": [
      "  variables            count     mean      std      min      25%   median      75%      max\n",
      "  <dictionary>      <uint16> <double> <double> <double> <double> <double> <double> <double>\n",
      "0 bill_length_mm         342    43.92     5.46     32.1    39.23    44.38     48.5     59.6\n",
      "1 bill_depth_mm          342    17.15     1.97     13.1     15.6    17.32     18.7     21.5\n",
      "2 flipper_length_mm      342   200.92    14.06    172.0    190.0    197.0    213.0    231.0\n",
      "3 body_mass_g            342  4201.75   801.95   2700.0   3550.0   4031.5   4750.0   6300.0\n",
      "4 year                   344  2008.03     0.82   2007.0   2007.0   2008.0   2009.0   2009.0\n"
     ]
    }
   ],
   "source": [
    "puts penguins.summary.to_s(width: 82) # needs more width to show all stats in this example"
   ]
  },
  {
   "cell_type": "markdown",
   "id": "18e51f29-d34f-4fbf-939d-eb77ba70130f",
   "metadata": {},
   "source": [
    "### `to_rover`\n",
    "\n",
    "- Returns a `Rover::DataFrame`."
   ]
  },
  {
   "cell_type": "code",
   "execution_count": 23,
   "id": "1e2d751d-1436-4cf9-8657-697fddbd095f",
   "metadata": {},
   "outputs": [
    {
     "data": {
      "text/html": [
       "<table><tr><th>species</th><th>island</th><th>bill_length_mm</th><th>bill_depth_mm</th><th>flipper_length_mm</th><th>body_mass_g</th><th>sex</th><th>year</th></tr><tr><td>Adelie</td><td>Torgersen</td><td>39.1</td><td>18.7</td><td>181.0</td><td>3750.0</td><td>male</td><td>2007</td></tr><tr><td>Adelie</td><td>Torgersen</td><td>39.5</td><td>17.4</td><td>186.0</td><td>3800.0</td><td>female</td><td>2007</td></tr><tr><td>Adelie</td><td>Torgersen</td><td>40.3</td><td>18.0</td><td>195.0</td><td>3250.0</td><td>female</td><td>2007</td></tr><tr><td colspan='8'>&#8942;</td></tr><tr><td>Gentoo</td><td>Biscoe</td><td>50.4</td><td>15.7</td><td>222.0</td><td>5750.0</td><td>male</td><td>2009</td></tr><tr><td>Gentoo</td><td>Biscoe</td><td>45.2</td><td>14.8</td><td>212.0</td><td>5200.0</td><td>female</td><td>2009</td></tr><tr><td>Gentoo</td><td>Biscoe</td><td>49.9</td><td>16.1</td><td>213.0</td><td>5400.0</td><td>male</td><td>2009</td></tr></table>"
      ],
      "text/plain": [
       "species     island  bill_length_mm  bill_depth_mm  flipper_length_mm  body_mass_g     sex  year\n",
       " Adelie  Torgersen            39.1           18.7              181.0       3750.0    male  2007\n",
       " Adelie  Torgersen            39.5           17.4              186.0       3800.0  female  2007\n",
       " Adelie  Torgersen            40.3           18.0              195.0       3250.0  female  2007\n",
       " Adelie  Torgersen             NaN            NaN                NaN          NaN          2007\n",
       " Adelie  Torgersen            36.7           19.3              193.0       3450.0  female  2007\n",
       "    ...        ...             ...            ...                ...          ...     ...   ...\n",
       " Gentoo     Biscoe             NaN            NaN                NaN          NaN          2009\n",
       " Gentoo     Biscoe            46.8           14.3              215.0       4850.0  female  2009\n",
       " Gentoo     Biscoe            50.4           15.7              222.0       5750.0    male  2009\n",
       " Gentoo     Biscoe            45.2           14.8              212.0       5200.0  female  2009\n",
       " Gentoo     Biscoe            49.9           16.1              213.0       5400.0    male  2009"
      ]
     },
     "execution_count": 23,
     "metadata": {},
     "output_type": "execute_result"
    }
   ],
   "source": [
    "require 'rover'\n",
    "\n",
    "penguins.to_rover"
   ]
  },
  {
   "cell_type": "markdown",
   "id": "c5d16e06-5701-4480-9fbc-ad9efa257522",
   "metadata": {},
   "source": [
    "### `to_iruby`\n",
    "\n",
    "- Show the DataFrame as a Table in Jupyter Notebook or Jupyter Lab with IRuby.\n",
    "\n",
    "### `tdr(limit = 10, tally: 5, elements: 5)`\n",
    "\n",
    "  - Shows some information about self in a transposed style.\n",
    "  - `tdr_str` returns same info as a String."
   ]
  },
  {
   "cell_type": "code",
   "execution_count": 24,
   "id": "3ff8f08b-e7e3-42d3-b907-19006b74cd82",
   "metadata": {},
   "outputs": [
    {
     "name": "stdout",
     "output_type": "stream",
     "text": [
      "RedAmber::DataFrame : 344 x 8 Vectors\n",
      "Vectors : 5 numeric, 3 strings\n",
      "# key                type   level data_preview\n",
      "0 :species           string     3 {\"Adelie\"=>152, \"Chinstrap\"=>68, \"Gentoo\"=>124}\n",
      "1 :island            string     3 {\"Torgersen\"=>52, \"Biscoe\"=>168, \"Dream\"=>124}\n",
      "2 :bill_length_mm    double   165 [39.1, 39.5, 40.3, nil, 36.7, ... ], 2 nils\n",
      "3 :bill_depth_mm     double    81 [18.7, 17.4, 18.0, nil, 19.3, ... ], 2 nils\n",
      "4 :flipper_length_mm uint8     56 [181, 186, 195, nil, 193, ... ], 2 nils\n",
      "5 :body_mass_g       uint16    95 [3750, 3800, 3250, nil, 3450, ... ], 2 nils\n",
      "6 :sex               string     3 {\"male\"=>168, \"female\"=>165, nil=>11}\n",
      "7 :year              uint16     3 {2007=>110, 2008=>114, 2009=>120}\n"
     ]
    }
   ],
   "source": [
    "penguins.tdr"
   ]
  },
  {
   "cell_type": "markdown",
   "id": "dedb9335-ed3c-4a50-b57b-c0587877682d",
   "metadata": {},
   "source": [
    "  - limit: limit of variables to show. Default value is 10.\n",
    "  - tally: max level to use tally mode.\n",
    "  - elements: max num of element to show values in each observations."
   ]
  },
  {
   "cell_type": "markdown",
   "id": "666e00a9-8e94-4f12-a939-33d4807906d9",
   "metadata": {},
   "source": [
    "## Selecting\n",
    "\n",
    "### Select variables (columns in a table) by `[]` as `[key]`, `[keys]`, `[keys[index]]`\n",
    "- Key in a Symbol: `df[:symbol]`\n",
    "- Key in a String: `df[\"string\"]`\n",
    "- Keys in an Array: `df[:symbol1, \"string\", :symbol2]`\n",
    "- Keys by indeces: `df[df.keys[0]`, `df[df.keys[1,2]]`, `df[df.keys[1..]]`\n",
    "\n",
    "  Key indeces can be used via `keys[i]` because numbers are used to select observations (rows).\n",
    "\n",
    "- Keys by a Range:\n",
    "\n",
    "  If keys are able to represent by Range, it can be included in the arguments. See a example below.\n",
    "\n",
    "- You can exchange the order of variables (columns).\n",
    " "
   ]
  },
  {
   "cell_type": "code",
   "execution_count": 2,
   "id": "66751869-c940-4445-bc72-251bdefb56c0",
   "metadata": {},
   "outputs": [
    {
     "data": {
      "text/html": [
       "RedAmber::DataFrame <3 x 3 vectors> <table><tr><th>b</th><th>c</th><th>a</th></tr><tr><td>A</td><td>1</td><td>1</td></tr><tr><td>B</td><td>2</td><td>2</td></tr><tr><td>C</td><td>3</td><td>3</td></tr></table>"
      ],
      "text/plain": [
       "#<RedAmber::DataFrame : 3 x 3 Vectors, 0x000000000000f0c8>\n",
       "  b               c       a\n",
       "  <string> <double> <uint8>\n",
       "0 A             1.0       1\n",
       "1 B             2.0       2\n",
       "2 C             3.0       3\n"
      ]
     },
     "execution_count": 2,
     "metadata": {},
     "output_type": "execute_result"
    }
   ],
   "source": [
    "hash = {a: [1, 2, 3], b: %w[A B C], c: [1.0, 2, 3]}\n",
    "df = DataFrame.new(hash)\n",
    "df[:b..:c, \"a\"]"
   ]
  },
  {
   "cell_type": "markdown",
   "id": "f386abae-9519-4869-9918-ad84394aa135",
   "metadata": {},
   "source": [
    "If `#[]` represents single variable (column), it returns a Vector object."
   ]
  },
  {
   "cell_type": "code",
   "execution_count": 3,
   "id": "f779a622-c58a-429e-9e2b-a4e48f4905f1",
   "metadata": {},
   "outputs": [
    {
     "data": {
      "text/plain": [
       "#<RedAmber::Vector(:uint8, size=3):0x000000000000f0dc>\n",
       "[1, 2, 3]\n"
      ]
     },
     "execution_count": 3,
     "metadata": {},
     "output_type": "execute_result"
    }
   ],
   "source": [
    "df[:a]"
   ]
  },
  {
   "cell_type": "markdown",
   "id": "f4bf16da-bdb3-4531-adcc-083f433afe91",
   "metadata": {},
   "source": [
    "Or `#v` method also returns a Vector for a key."
   ]
  },
  {
   "cell_type": "code",
   "execution_count": 4,
   "id": "d0cf71ba-c564-449d-841b-35ffa574fdc0",
   "metadata": {},
   "outputs": [
    {
     "data": {
      "text/plain": [
       "#<RedAmber::Vector(:uint8, size=3):0x000000000000f0dc>\n",
       "[1, 2, 3]\n"
      ]
     },
     "execution_count": 4,
     "metadata": {},
     "output_type": "execute_result"
    }
   ],
   "source": [
    "df.v(:a)"
   ]
  },
  {
   "cell_type": "markdown",
   "id": "0ed6c174-8c05-472f-ba82-e0dcc053ab7f",
   "metadata": {},
   "source": [
    "  This may be useful to use in a block of DataFrame manipulation verbs. We can write `v(:a)` rather than `self[:a]` or `df[:a]`"
   ]
  },
  {
   "cell_type": "markdown",
   "id": "8acd67f7-eb49-43d5-aaeb-ec5c9aec1bd1",
   "metadata": {},
   "source": [
    "### Select records (rows in a table) by `[]` as `[index]`, `[range]`, `[array]`\n",
    "\n",
    "- Select a obs. by index: `df[0]`\n",
    "- Select obs. by indeces in a Range: `df[1..2]`\n",
    "\n",
    "  An end-less or a begin-less Range can be used to represent indeces.\n",
    "\n",
    "- Select obs. by indeces in an Array: `df[1, 2]`\n",
    "\n",
    "- You can use float indices.\n",
    "\n",
    "- Mixed case: `df[2, 0..]`"
   ]
  },
  {
   "cell_type": "code",
   "execution_count": 5,
   "id": "9a6d36f4-f7e6-47b1-bb9c-b164713cd0f9",
   "metadata": {},
   "outputs": [
    {
     "data": {
      "text/html": [
       "RedAmber::DataFrame <4 x 3 vectors> <table><tr><th>a</th><th>b</th><th>c</th></tr><tr><td>3</td><td>C</td><td>3</td></tr><tr><td>1</td><td>A</td><td>1</td></tr><tr><td>2</td><td>B</td><td>2</td></tr><tr><td>3</td><td>C</td><td>3</td></tr></table>"
      ],
      "text/plain": [
       "#<RedAmber::DataFrame : 4 x 3 Vectors, 0x000000000000f0f0>\n",
       "        a b               c\n",
       "  <uint8> <string> <double>\n",
       "0       3 C             3.0\n",
       "1       1 A             1.0\n",
       "2       2 B             2.0\n",
       "3       3 C             3.0\n"
      ]
     },
     "execution_count": 5,
     "metadata": {},
     "output_type": "execute_result"
    }
   ],
   "source": [
    "hash = {a: [1, 2, 3], b: %w[A B C], c: [1.0, 2, 3]}\n",
    "df = DataFrame.new(hash)\n",
    "df[2, 0..]"
   ]
  },
  {
   "cell_type": "markdown",
   "id": "5c98ac6d-0595-4f3d-a514-9411f19445da",
   "metadata": {},
   "source": [
    "- Select obs. by a boolean Array or a boolean RedAmber::Vector at same size as self.\n",
    "\n",
    "  It returns a sub dataframe with observations at boolean is true."
   ]
  },
  {
   "cell_type": "code",
   "execution_count": 6,
   "id": "1f51a7bf-3c63-4603-801b-1c17883e6583",
   "metadata": {},
   "outputs": [
    {
     "data": {
      "text/html": [
       "RedAmber::DataFrame <1 x 3 vectors> <table><tr><th>a</th><th>b</th><th>c</th></tr><tr><td>1</td><td>A</td><td>1</td></tr></table>"
      ],
      "text/plain": [
       "#<RedAmber::DataFrame : 1 x 3 Vectors, 0x000000000000f104>\n",
       "        a b               c\n",
       "  <uint8> <string> <double>\n",
       "0       1 A             1.0\n"
      ]
     },
     "execution_count": 6,
     "metadata": {},
     "output_type": "execute_result"
    }
   ],
   "source": [
    "# with the same dataframe `df` above\n",
    "df[true, false, nil] # or\n",
    "df[[true, false, nil]] # or\n",
    "df[Vector.new([true, false, nil])]"
   ]
  },
  {
   "cell_type": "markdown",
   "id": "179566da-a463-411c-9330-3d5cf818f30e",
   "metadata": {},
   "source": [
    "### Select rows from top or from bottom\n",
    "\n",
    "  `head(n=5)`, `tail(n=5)`, `first(n=1)`, `last(n=1)`"
   ]
  },
  {
   "cell_type": "markdown",
   "id": "e559e962-0bd7-465b-91a0-a3b3352ba6eb",
   "metadata": {},
   "source": [
    "## Sub DataFrame manipulations\n",
    "\n",
    "### `pick  ` - pick up variables by key label -\n",
    "\n",
    "  Pick up some columns (variables) to create a sub DataFrame.\n",
    "\n",
    "![pick method image](https://github.com/heronshoes/red_amber/raw/main/doc/image/dataframe/pick.png)"
   ]
  },
  {
   "cell_type": "markdown",
   "id": "a8d0ed15-7eb1-40a6-bd42-264010a16b92",
   "metadata": {},
   "source": [
    "- Keys as arguments\n",
    "\n",
    "  `pick(keys)` accepts keys as arguments in an Array or a Range."
   ]
  },
  {
   "cell_type": "code",
   "execution_count": 9,
   "id": "e8e8345f-5340-4bb0-8bc0-a1b84c509b09",
   "metadata": {},
   "outputs": [
    {
     "data": {
      "text/html": [
       "RedAmber::DataFrame <344 x 2 vectors> <table><tr><th>species</th><th>bill_length_mm</th></tr><tr><td>Adelie</td><td>39.1</td></tr><tr><td>Adelie</td><td>39.5</td></tr><tr><td>Adelie</td><td>40.3</td></tr><tr><td>Adelie</td><td><i>(nil)</i></td></tr><tr><td colspan='2'>&#8942;</td></tr><tr><td>Gentoo</td><td>50.4</td></tr><tr><td>Gentoo</td><td>45.2</td></tr><tr><td>Gentoo</td><td>49.9</td></tr></table>"
      ],
      "text/plain": [
       "#<RedAmber::DataFrame : 344 x 2 Vectors, 0x000000000000f12c>\n",
       "    species  bill_length_mm\n",
       "    <string>       <double>\n",
       "  0 Adelie             39.1\n",
       "  1 Adelie             39.5\n",
       "  2 Adelie             40.3\n",
       "  3 Adelie            (nil)\n",
       "  4 Adelie             36.7\n",
       "  : :                     :\n",
       "341 Gentoo             50.4\n",
       "342 Gentoo             45.2\n",
       "343 Gentoo             49.9\n"
      ]
     },
     "execution_count": 9,
     "metadata": {},
     "output_type": "execute_result"
    }
   ],
   "source": [
    "penguins.pick(:species, :bill_length_mm)"
   ]
  },
  {
   "cell_type": "markdown",
   "id": "1aaa2af9-5dc8-4956-ab41-39c7d0779d5e",
   "metadata": {},
   "source": [
    "- Indices as arguments\n",
    "\n",
    "  `pick(indices)` accepts indices as arguments. Indices should be Integers, Floats or Ranges of Integers."
   ]
  },
  {
   "cell_type": "code",
   "execution_count": 10,
   "id": "594490a2-1dd4-41d6-9672-43d97101e8cb",
   "metadata": {},
   "outputs": [
    {
     "data": {
      "text/html": [
       "RedAmber::DataFrame <344 x 4 vectors> <table><tr><th>species</th><th>island</th><th>bill_length_mm</th><th>year</th></tr><tr><td>Adelie</td><td>Torgersen</td><td>39.1</td><td>2007</td></tr><tr><td>Adelie</td><td>Torgersen</td><td>39.5</td><td>2007</td></tr><tr><td>Adelie</td><td>Torgersen</td><td>40.3</td><td>2007</td></tr><tr><td>Adelie</td><td>Torgersen</td><td><i>(nil)</i></td><td>2007</td></tr><tr><td colspan='4'>&#8942;</td></tr><tr><td>Gentoo</td><td>Biscoe</td><td>50.4</td><td>2009</td></tr><tr><td>Gentoo</td><td>Biscoe</td><td>45.2</td><td>2009</td></tr><tr><td>Gentoo</td><td>Biscoe</td><td>49.9</td><td>2009</td></tr></table>"
      ],
      "text/plain": [
       "#<RedAmber::DataFrame : 344 x 4 Vectors, 0x000000000000f140>\n",
       "    species  island    bill_length_mm     year\n",
       "    <string> <string>        <double> <uint16>\n",
       "  0 Adelie   Torgersen           39.1     2007\n",
       "  1 Adelie   Torgersen           39.5     2007\n",
       "  2 Adelie   Torgersen           40.3     2007\n",
       "  3 Adelie   Torgersen          (nil)     2007\n",
       "  4 Adelie   Torgersen           36.7     2007\n",
       "  : :        :                      :        :\n",
       "341 Gentoo   Biscoe              50.4     2009\n",
       "342 Gentoo   Biscoe              45.2     2009\n",
       "343 Gentoo   Biscoe              49.9     2009\n"
      ]
     },
     "execution_count": 10,
     "metadata": {},
     "output_type": "execute_result"
    }
   ],
   "source": [
    "penguins.pick(0..2, -1)"
   ]
  },
  {
   "cell_type": "markdown",
   "id": "4e556936-4589-4eaa-9eb2-aa5c3f4af0d5",
   "metadata": {},
   "source": [
    "- Booleans as arguments\n",
    "\n",
    "  `pick(booleans)` accepts booleans as arguments in an Array. Booleans must be same length as `n_keys`."
   ]
  },
  {
   "cell_type": "code",
   "execution_count": 11,
   "id": "ce12797b-b9b0-4e48-8d8d-839dbcd450f1",
   "metadata": {},
   "outputs": [
    {
     "data": {
      "text/html": [
       "RedAmber::DataFrame <344 x 3 vectors> <table><tr><th>species</th><th>island</th><th>sex</th></tr><tr><td>Adelie</td><td>Torgersen</td><td>male</td></tr><tr><td>Adelie</td><td>Torgersen</td><td>female</td></tr><tr><td>Adelie</td><td>Torgersen</td><td>female</td></tr><tr><td>Adelie</td><td>Torgersen</td><td><i>(nil)</i></td></tr><tr><td colspan='3'>&#8942;</td></tr><tr><td>Gentoo</td><td>Biscoe</td><td>male</td></tr><tr><td>Gentoo</td><td>Biscoe</td><td>female</td></tr><tr><td>Gentoo</td><td>Biscoe</td><td>male</td></tr></table>"
      ],
      "text/plain": [
       "#<RedAmber::DataFrame : 344 x 3 Vectors, 0x000000000000f154>\n",
       "    species  island    sex\n",
       "    <string> <string>  <string>\n",
       "  0 Adelie   Torgersen male\n",
       "  1 Adelie   Torgersen female\n",
       "  2 Adelie   Torgersen female\n",
       "  3 Adelie   Torgersen (nil)\n",
       "  4 Adelie   Torgersen female\n",
       "  : :        :         :\n",
       "341 Gentoo   Biscoe    male\n",
       "342 Gentoo   Biscoe    female\n",
       "343 Gentoo   Biscoe    male\n"
      ]
     },
     "execution_count": 11,
     "metadata": {},
     "output_type": "execute_result"
    }
   ],
   "source": [
    "penguins.pick(penguins.vectors.map(&:string?))"
   ]
  },
  {
   "cell_type": "markdown",
   "id": "81a907ee-e374-4564-97af-77f330fbfb0e",
   "metadata": {},
   "source": [
    "- Keys or booleans by a block\n",
    "\n",
    "    `pick {block}` is also acceptable. We can't use both arguments and a block at a same time. The block should return keys, indices or a boolean Array with a same length as `n_keys`. Block is called in the context of self."
   ]
  },
  {
   "cell_type": "code",
   "execution_count": 12,
   "id": "e54bb6fe-98e4-4e16-bb9c-2cd3d5805ffe",
   "metadata": {},
   "outputs": [
    {
     "data": {
      "text/html": [
       "RedAmber::DataFrame <344 x 3 vectors> <table><tr><th>bill_length_mm</th><th>bill_depth_mm</th><th>flipper_length_mm</th></tr><tr><td>39.1</td><td>18.7</td><td>181</td></tr><tr><td>39.5</td><td>17.4</td><td>186</td></tr><tr><td>40.3</td><td>18</td><td>195</td></tr><tr><td><i>(nil)</i></td><td><i>(nil)</i></td><td><i>(nil)</i></td></tr><tr><td colspan='3'>&#8942;</td></tr><tr><td>50.4</td><td>15.7</td><td>222</td></tr><tr><td>45.2</td><td>14.8</td><td>212</td></tr><tr><td>49.9</td><td>16.1</td><td>213</td></tr></table>"
      ],
      "text/plain": [
       "#<RedAmber::DataFrame : 344 x 3 Vectors, 0x000000000000f168>\n",
       "    bill_length_mm bill_depth_mm flipper_length_mm\n",
       "          <double>      <double>           <uint8>\n",
       "  0           39.1          18.7               181\n",
       "  1           39.5          17.4               186\n",
       "  2           40.3          18.0               195\n",
       "  3          (nil)         (nil)             (nil)\n",
       "  4           36.7          19.3               193\n",
       "  :              :             :                 :\n",
       "341           50.4          15.7               222\n",
       "342           45.2          14.8               212\n",
       "343           49.9          16.1               213\n"
      ]
     },
     "execution_count": 12,
     "metadata": {},
     "output_type": "execute_result"
    }
   ],
   "source": [
    "penguins.pick { keys.map { |key| key.end_with?('mm') } }"
   ]
  },
  {
   "cell_type": "markdown",
   "id": "44e45bb5-9800-41ee-841b-2c5cc1c9ee96",
   "metadata": {},
   "source": [
    "### `drop  ` - pick and drop -\n",
    "\n",
    "  Drop some columns (variables) to create a remainer DataFrame.\n",
    "\n",
    "  ![drop method image](https://github.com/heronshoes/red_amber/raw/main/doc/image/dataframe/drop.png)"
   ]
  },
  {
   "cell_type": "markdown",
   "id": "26d9e165-256a-42ae-a553-f564c3be6558",
   "metadata": {},
   "source": [
    "- Keys as arguments\n",
    "\n",
    "  `drop(keys)` accepts keys as arguments in an Array or a Range.\n",
    "\n",
    "- Indices as arguments\n",
    "\n",
    "  `drop(indices)` accepts indices as a arguments. Indices should be Integers, Floats or Ranges of Integers.\n",
    "\n",
    "- Booleans as arguments\n",
    "\n",
    "  `drop(booleans)` accepts booleans as an argument in an Array. Booleans must be same length as `n_keys`.\n",
    "\n",
    "- Keys or booleans by a block\n",
    "\n",
    "  `drop {block}` is also acceptable. We can't use both arguments and a block at a same time. The block should return keys, indices or a boolean Array with a same length as `n_keys`. Block is called in the context of self.\n",
    "  \n",
    "- Notice for nil\n",
    "\n",
    "  When used with booleans, nil in booleans is treated as a false. This behavior is aligned with Ruby's `nil#!`."
   ]
  },
  {
   "cell_type": "code",
   "execution_count": 13,
   "id": "f606fb0a-71e0-49c7-a35d-730d12bbc91b",
   "metadata": {},
   "outputs": [
    {
     "data": {
      "text/plain": [
       "true"
      ]
     },
     "execution_count": 13,
     "metadata": {},
     "output_type": "execute_result"
    }
   ],
   "source": [
    "booleans = [true, false, nil]\n",
    "booleans_invert = booleans.map(&:!) # => [false, true, true]\n",
    "df.pick(booleans) == df.drop(booleans_invert) # => true"
   ]
  },
  {
   "cell_type": "markdown",
   "id": "32d684db-785b-4655-b34a-18f92b1b6433",
   "metadata": {},
   "source": [
    "- Difference between `pick`/`drop` and `[]`\n",
    "\n",
    "  If `pick` or `drop` will select a single variable (column), it returns a `DataFrame` with one variable. In contrast, `[]` returns a `Vector`. This behavior may be useful to use in a block of DataFrame manipulations."
   ]
  },
  {
   "cell_type": "code",
   "execution_count": 14,
   "id": "48898c11-bad5-4ece-b925-ef62836a25d7",
   "metadata": {},
   "outputs": [
    {
     "data": {
      "text/html": [
       "RedAmber::DataFrame <3 x 1 vector> <table><tr><th>a</th></tr><tr><td>1</td></tr><tr><td>2</td></tr><tr><td>3</td></tr></table>"
      ],
      "text/plain": [
       "#<RedAmber::DataFrame : 3 x 1 Vector, 0x000000000000f17c>\n",
       "        a\n",
       "  <uint8>\n",
       "0       1\n",
       "1       2\n",
       "2       3\n"
      ]
     },
     "execution_count": 14,
     "metadata": {},
     "output_type": "execute_result"
    }
   ],
   "source": [
    "df = DataFrame.new(a: [1, 2, 3], b: %w[A B C], c: [1.0, 2, 3])\n",
    "df.pick(:a) # or\n",
    "df.drop(:b, :c)"
   ]
  },
  {
   "cell_type": "code",
   "execution_count": 15,
   "id": "7626afd9-e486-4a8e-8d88-14b205e74a61",
   "metadata": {},
   "outputs": [
    {
     "data": {
      "text/plain": [
       "#<RedAmber::Vector(:uint8, size=3):0x000000000000f190>\n",
       "[1, 2, 3]\n"
      ]
     },
     "execution_count": 15,
     "metadata": {},
     "output_type": "execute_result"
    }
   ],
   "source": [
    "df[:a]"
   ]
  },
  {
   "cell_type": "markdown",
   "id": "dfd4888e-99fa-46aa-aa03-8200448598e5",
   "metadata": {},
   "source": [
    "  A simple key name is usable as a method of the DataFrame if the key name is acceptable as a method name.\n",
    "  It returns a Vector same as `[]`."
   ]
  },
  {
   "cell_type": "code",
   "execution_count": 16,
   "id": "2a14309e-2c5c-464a-af9d-5476594d8290",
   "metadata": {},
   "outputs": [
    {
     "data": {
      "text/plain": [
       "#<RedAmber::Vector(:uint8, size=3):0x000000000000f190>\n",
       "[1, 2, 3]\n"
      ]
     },
     "execution_count": 16,
     "metadata": {},
     "output_type": "execute_result"
    }
   ],
   "source": [
    "df.a"
   ]
  },
  {
   "cell_type": "markdown",
   "id": "1db71a19-a45d-4f21-9b39-01d2cb9fc037",
   "metadata": {},
   "source": [
    "### `slice  `  - to cut vertically is slice -\n",
    "\n",
    "  Slice and select rows (observations) to create a sub DataFrame.\n",
    "\n",
    "  ![slice method image](https://github.com/heronshoes/red_amber/raw/main/doc/image/dataframe/slice.png)"
   ]
  },
  {
   "cell_type": "markdown",
   "id": "3dddcd90-d395-4312-a5ca-f4a247e57b42",
   "metadata": {},
   "source": [
    "- Indices as arguments\n",
    "\n",
    "    `slice(indeces)` accepts indices as arguments. Indices should be Integers, Floats or Ranges of Integers.\n",
    "\n",
    "    Negative index from the tail like Ruby's Array is also acceptable."
   ]
  },
  {
   "cell_type": "code",
   "execution_count": 17,
   "id": "2d0dc7d7-6f8f-4c63-b66d-b4daebb7024f",
   "metadata": {},
   "outputs": [
    {
     "data": {
      "text/html": [
       "RedAmber::DataFrame <10 x 8 vectors> <table><tr><th>species</th><th>island</th><th>bill_length_mm</th><th>bill_depth_mm</th><th>flipper_length_mm</th><th>body_mass_g</th><th>sex</th><th>year</th></tr><tr><td>Adelie</td><td>Torgersen</td><td>39.1</td><td>18.7</td><td>181</td><td>3750</td><td>male</td><td>2007</td></tr><tr><td>Adelie</td><td>Torgersen</td><td>39.5</td><td>17.4</td><td>186</td><td>3800</td><td>female</td><td>2007</td></tr><tr><td>Adelie</td><td>Torgersen</td><td>40.3</td><td>18</td><td>195</td><td>3250</td><td>female</td><td>2007</td></tr><tr><td>Adelie</td><td>Torgersen</td><td><i>(nil)</i></td><td><i>(nil)</i></td><td><i>(nil)</i></td><td><i>(nil)</i></td><td><i>(nil)</i></td><td>2007</td></tr><tr><td colspan='8'>&#8942;</td></tr><tr><td>Gentoo</td><td>Biscoe</td><td>50.4</td><td>15.7</td><td>222</td><td>5750</td><td>male</td><td>2009</td></tr><tr><td>Gentoo</td><td>Biscoe</td><td>45.2</td><td>14.8</td><td>212</td><td>5200</td><td>female</td><td>2009</td></tr><tr><td>Gentoo</td><td>Biscoe</td><td>49.9</td><td>16.1</td><td>213</td><td>5400</td><td>male</td><td>2009</td></tr></table>"
      ],
      "text/plain": [
       "#<RedAmber::DataFrame : 10 x 8 Vectors, 0x000000000000f1a4>\n",
       "  species  island    bill_length_mm bill_depth_mm flipper_length_mm ...     year\n",
       "  <string> <string>        <double>      <double>           <uint8> ... <uint16>\n",
       "0 Adelie   Torgersen           39.1          18.7               181 ...     2007\n",
       "1 Adelie   Torgersen           39.5          17.4               186 ...     2007\n",
       "2 Adelie   Torgersen           40.3          18.0               195 ...     2007\n",
       "3 Adelie   Torgersen          (nil)         (nil)             (nil) ...     2007\n",
       "4 Adelie   Torgersen           36.7          19.3               193 ...     2007\n",
       ": :        :                      :             :                 : ...        :\n",
       "7 Gentoo   Biscoe              50.4          15.7               222 ...     2009\n",
       "8 Gentoo   Biscoe              45.2          14.8               212 ...     2009\n",
       "9 Gentoo   Biscoe              49.9          16.1               213 ...     2009\n"
      ]
     },
     "execution_count": 17,
     "metadata": {},
     "output_type": "execute_result"
    }
   ],
   "source": [
    "# returns 5 obs. at start and 5 obs. from end\n",
    "penguins.slice(0...5, -5..-1)"
   ]
  },
  {
   "cell_type": "markdown",
   "id": "39282cf4-9e90-4c67-98d1-9fa970a13370",
   "metadata": {},
   "source": [
    "- Booleans as an argument\n",
    "\n",
    "  `slice(booleans)` accepts booleans as an argument in an Array, a Vector or an Arrow::BooleanArray . Booleans must be same length as `size`."
   ]
  },
  {
   "cell_type": "code",
   "execution_count": 18,
   "id": "87670d70-8bc7-4842-9506-bb392863dcd8",
   "metadata": {},
   "outputs": [
    {
     "data": {
      "text/html": [
       "RedAmber::DataFrame <242 x 8 vectors> <table><tr><th>species</th><th>island</th><th>bill_length_mm</th><th>bill_depth_mm</th><th>flipper_length_mm</th><th>body_mass_g</th><th>sex</th><th>year</th></tr><tr><td>Adelie</td><td>Torgersen</td><td>40.3</td><td>18</td><td>195</td><td>3250</td><td>female</td><td>2007</td></tr><tr><td>Adelie</td><td>Torgersen</td><td>42</td><td>20.2</td><td>190</td><td>4250</td><td><i>(nil)</i></td><td>2007</td></tr><tr><td>Adelie</td><td>Torgersen</td><td>41.1</td><td>17.6</td><td>182</td><td>3200</td><td>female</td><td>2007</td></tr><tr><td>Adelie</td><td>Torgersen</td><td>42.5</td><td>20.7</td><td>197</td><td>4500</td><td>male</td><td>2007</td></tr><tr><td colspan='8'>&#8942;</td></tr><tr><td>Gentoo</td><td>Biscoe</td><td>50.4</td><td>15.7</td><td>222</td><td>5750</td><td>male</td><td>2009</td></tr><tr><td>Gentoo</td><td>Biscoe</td><td>45.2</td><td>14.8</td><td>212</td><td>5200</td><td>female</td><td>2009</td></tr><tr><td>Gentoo</td><td>Biscoe</td><td>49.9</td><td>16.1</td><td>213</td><td>5400</td><td>male</td><td>2009</td></tr></table>"
      ],
      "text/plain": [
       "#<RedAmber::DataFrame : 242 x 8 Vectors, 0x000000000000f1b8>\n",
       "    species  island    bill_length_mm bill_depth_mm flipper_length_mm ...     year\n",
       "    <string> <string>        <double>      <double>           <uint8> ... <uint16>\n",
       "  0 Adelie   Torgersen           40.3          18.0               195 ...     2007\n",
       "  1 Adelie   Torgersen           42.0          20.2               190 ...     2007\n",
       "  2 Adelie   Torgersen           41.1          17.6               182 ...     2007\n",
       "  3 Adelie   Torgersen           42.5          20.7               197 ...     2007\n",
       "  4 Adelie   Torgersen           46.0          21.5               194 ...     2007\n",
       "  : :        :                      :             :                 : ...        :\n",
       "239 Gentoo   Biscoe              50.4          15.7               222 ...     2009\n",
       "240 Gentoo   Biscoe              45.2          14.8               212 ...     2009\n",
       "241 Gentoo   Biscoe              49.9          16.1               213 ...     2009\n"
      ]
     },
     "execution_count": 18,
     "metadata": {},
     "output_type": "execute_result"
    }
   ],
   "source": [
    "vector = penguins[:bill_length_mm]\n",
    "penguins.slice(vector >= 40)"
   ]
  },
  {
   "cell_type": "markdown",
   "id": "2c7397b1-d266-4da1-ada8-e1da4d95edc1",
   "metadata": {},
   "source": [
    "- Indices or booleans by a block\n",
    "\n",
    "    `slice {block}` is also acceptable. We can't use both arguments and a block at a same time. The block should return indeces or a boolean Array with a same length as `size`. Block is called in the context of self."
   ]
  },
  {
   "cell_type": "code",
   "execution_count": 19,
   "id": "ac3b46e0-00a3-4513-bb39-7ca8744fa9e4",
   "metadata": {},
   "outputs": [
    {
     "data": {
      "text/html": [
       "RedAmber::DataFrame <204 x 8 vectors> <table><tr><th>species</th><th>island</th><th>bill_length_mm</th><th>bill_depth_mm</th><th>flipper_length_mm</th><th>body_mass_g</th><th>sex</th><th>year</th></tr><tr><td>Adelie</td><td>Torgersen</td><td>39.1</td><td>18.7</td><td>181</td><td>3750</td><td>male</td><td>2007</td></tr><tr><td>Adelie</td><td>Torgersen</td><td>39.5</td><td>17.4</td><td>186</td><td>3800</td><td>female</td><td>2007</td></tr><tr><td>Adelie</td><td>Torgersen</td><td>40.3</td><td>18</td><td>195</td><td>3250</td><td>female</td><td>2007</td></tr><tr><td>Adelie</td><td>Torgersen</td><td>39.3</td><td>20.6</td><td>190</td><td>3650</td><td>male</td><td>2007</td></tr><tr><td colspan='8'>&#8942;</td></tr><tr><td>Gentoo</td><td>Biscoe</td><td>47.2</td><td>13.7</td><td>214</td><td>4925</td><td>female</td><td>2009</td></tr><tr><td>Gentoo</td><td>Biscoe</td><td>46.8</td><td>14.3</td><td>215</td><td>4850</td><td>female</td><td>2009</td></tr><tr><td>Gentoo</td><td>Biscoe</td><td>45.2</td><td>14.8</td><td>212</td><td>5200</td><td>female</td><td>2009</td></tr></table>"
      ],
      "text/plain": [
       "#<RedAmber::DataFrame : 204 x 8 Vectors, 0x000000000000f1cc>\n",
       "    species  island    bill_length_mm bill_depth_mm flipper_length_mm ...     year\n",
       "    <string> <string>        <double>      <double>           <uint8> ... <uint16>\n",
       "  0 Adelie   Torgersen           39.1          18.7               181 ...     2007\n",
       "  1 Adelie   Torgersen           39.5          17.4               186 ...     2007\n",
       "  2 Adelie   Torgersen           40.3          18.0               195 ...     2007\n",
       "  3 Adelie   Torgersen           39.3          20.6               190 ...     2007\n",
       "  4 Adelie   Torgersen           38.9          17.8               181 ...     2007\n",
       "  : :        :                      :             :                 : ...        :\n",
       "201 Gentoo   Biscoe              47.2          13.7               214 ...     2009\n",
       "202 Gentoo   Biscoe              46.8          14.3               215 ...     2009\n",
       "203 Gentoo   Biscoe              45.2          14.8               212 ...     2009\n"
      ]
     },
     "execution_count": 19,
     "metadata": {},
     "output_type": "execute_result"
    }
   ],
   "source": [
    "# return a DataFrame with bill_length_mm is in 2*std range around mean\n",
    "penguins.slice do\n",
    "  vector = self[:bill_length_mm]\n",
    "  min = vector.mean - vector.std\n",
    "  max = vector.mean + vector.std\n",
    "  vector.to_a.map { |e| (min..max).include? e }\n",
    "end"
   ]
  },
  {
   "cell_type": "markdown",
   "id": "f2f6dbd7-7d77-43ec-8cbf-ebe21bf9c5ab",
   "metadata": {},
   "source": [
    "- Notice: nil option\n",
    "  - `Arrow::Table#slice` uses `filter` method with a option `Arrow::FilterOptions.null_selection_behavior = :emit_null`. This will propagate nil at the same row."
   ]
  },
  {
   "cell_type": "code",
   "execution_count": 20,
   "id": "4769bdc4-d60b-4768-9f6e-2284cc8c89bf",
   "metadata": {},
   "outputs": [
    {
     "data": {
      "text/plain": [
       "#<Arrow::Table:0x7fb67a16cf50 ptr=0x5569da817140>\n",
       "\t     a\tb\t         c\n",
       "0\t     1\tA\t  1.000000\n",
       "1\t(null)\t(null)\t    (null)\n"
      ]
     },
     "execution_count": 20,
     "metadata": {},
     "output_type": "execute_result"
    }
   ],
   "source": [
    "hash = { a: [1, 2, 3], b: %w[A B C], c: [1.0, 2, 3] }\n",
    "table = Arrow::Table.new(hash)\n",
    "table.slice([true, false, nil])"
   ]
  },
  {
   "cell_type": "markdown",
   "id": "9720d8c4-4df4-48fe-ada6-d23851d8afc2",
   "metadata": {},
   "source": [
    "  - Whereas in RedAmber, `DataFrame#slice` with booleans containing nil is treated as false. This behavior comes from `Allow::FilterOptions.null_selection_behavior = :drop`. This is  a default value for `Arrow::Table.filter` method."
   ]
  },
  {
   "cell_type": "code",
   "execution_count": 21,
   "id": "399ae929-71ec-409c-9aa4-5bba4415cd03",
   "metadata": {},
   "outputs": [
    {
     "data": {
      "text/plain": [
       "#<Arrow::Table:0x7fb67a14f270 ptr=0x5569da85ca40>\n",
       "\ta\tb\t         c\n",
       "0\t1\tA\t  1.000000\n"
      ]
     },
     "execution_count": 21,
     "metadata": {},
     "output_type": "execute_result"
    }
   ],
   "source": [
    "DataFrame.new(table).slice([true, false, nil]).table"
   ]
  },
  {
   "cell_type": "markdown",
   "id": "359a45e3-2694-4851-98d2-06960d92c17b",
   "metadata": {},
   "source": [
    "### `remove`\n",
    "\n",
    "  Slice and reject rows (observations) to create a remainer DataFrame.\n",
    "\n",
    "  ![remove method image](https://github.com/heronshoes/red_amber/raw/main/doc/image/dataframe/remove.png)"
   ]
  },
  {
   "cell_type": "markdown",
   "id": "f5bf860a-35ea-40d4-bd21-3aaafb829763",
   "metadata": {},
   "source": [
    "- Indices as arguments\n",
    "\n",
    "    `remove(indeces)` accepts indeces as arguments. Indeces should be an Integer or a Range of Integer."
   ]
  },
  {
   "cell_type": "code",
   "execution_count": 22,
   "id": "7ccefd55-07b5-4036-9373-ca3693d5cdd1",
   "metadata": {
    "tags": []
   },
   "outputs": [
    {
     "data": {
      "text/html": [
       "RedAmber::DataFrame <334 x 8 vectors> <table><tr><th>species</th><th>island</th><th>bill_length_mm</th><th>bill_depth_mm</th><th>flipper_length_mm</th><th>body_mass_g</th><th>sex</th><th>year</th></tr><tr><td>Adelie</td><td>Torgersen</td><td>39.3</td><td>20.6</td><td>190</td><td>3650</td><td>male</td><td>2007</td></tr><tr><td>Adelie</td><td>Torgersen</td><td>38.9</td><td>17.8</td><td>181</td><td>3625</td><td>female</td><td>2007</td></tr><tr><td>Adelie</td><td>Torgersen</td><td>39.2</td><td>19.6</td><td>195</td><td>4675</td><td>male</td><td>2007</td></tr><tr><td>Adelie</td><td>Torgersen</td><td>34.1</td><td>18.1</td><td>193</td><td>3475</td><td><i>(nil)</i></td><td>2007</td></tr><tr><td colspan='8'>&#8942;</td></tr><tr><td>Gentoo</td><td>Biscoe</td><td>44.5</td><td>15.7</td><td>217</td><td>4875</td><td><i>(nil)</i></td><td>2009</td></tr><tr><td>Gentoo</td><td>Biscoe</td><td>48.8</td><td>16.2</td><td>222</td><td>6000</td><td>male</td><td>2009</td></tr><tr><td>Gentoo</td><td>Biscoe</td><td>47.2</td><td>13.7</td><td>214</td><td>4925</td><td>female</td><td>2009</td></tr></table>"
      ],
      "text/plain": [
       "#<RedAmber::DataFrame : 334 x 8 Vectors, 0x000000000000f1e0>\n",
       "    species  island    bill_length_mm bill_depth_mm flipper_length_mm ...     year\n",
       "    <string> <string>        <double>      <double>           <uint8> ... <uint16>\n",
       "  0 Adelie   Torgersen           39.3          20.6               190 ...     2007\n",
       "  1 Adelie   Torgersen           38.9          17.8               181 ...     2007\n",
       "  2 Adelie   Torgersen           39.2          19.6               195 ...     2007\n",
       "  3 Adelie   Torgersen           34.1          18.1               193 ...     2007\n",
       "  4 Adelie   Torgersen           42.0          20.2               190 ...     2007\n",
       "  : :        :                      :             :                 : ...        :\n",
       "331 Gentoo   Biscoe              44.5          15.7               217 ...     2009\n",
       "332 Gentoo   Biscoe              48.8          16.2               222 ...     2009\n",
       "333 Gentoo   Biscoe              47.2          13.7               214 ...     2009\n"
      ]
     },
     "execution_count": 22,
     "metadata": {},
     "output_type": "execute_result"
    }
   ],
   "source": [
    "# returns 6th to 339th obs.\n",
    "penguins.remove(0...5, -5..-1)"
   ]
  },
  {
   "cell_type": "markdown",
   "id": "e8d5df4d-9cad-49fc-be02-2091c5b0cee0",
   "metadata": {},
   "source": [
    "- Booleans as an argument\n",
    "\n",
    "  `remove(booleans)` accepts booleans as an argument in an Array, a Vector or an Arrow::BooleanArray . Booleans must be same length as `size`."
   ]
  },
  {
   "cell_type": "code",
   "execution_count": 23,
   "id": "5148c3d7-dcd2-481c-a62b-5c26fe3c644f",
   "metadata": {},
   "outputs": [
    {
     "data": {
      "text/html": [
       "RedAmber::DataFrame <333 x 8 vectors> <table><tr><th>species</th><th>island</th><th>bill_length_mm</th><th>bill_depth_mm</th><th>flipper_length_mm</th><th>body_mass_g</th><th>sex</th><th>year</th></tr><tr><td>Adelie</td><td>Torgersen</td><td>39.1</td><td>18.7</td><td>181</td><td>3750</td><td>male</td><td>2007</td></tr><tr><td>Adelie</td><td>Torgersen</td><td>39.5</td><td>17.4</td><td>186</td><td>3800</td><td>female</td><td>2007</td></tr><tr><td>Adelie</td><td>Torgersen</td><td>40.3</td><td>18</td><td>195</td><td>3250</td><td>female</td><td>2007</td></tr><tr><td>Adelie</td><td>Torgersen</td><td>36.7</td><td>19.3</td><td>193</td><td>3450</td><td>female</td><td>2007</td></tr><tr><td colspan='8'>&#8942;</td></tr><tr><td>Gentoo</td><td>Biscoe</td><td>50.4</td><td>15.7</td><td>222</td><td>5750</td><td>male</td><td>2009</td></tr><tr><td>Gentoo</td><td>Biscoe</td><td>45.2</td><td>14.8</td><td>212</td><td>5200</td><td>female</td><td>2009</td></tr><tr><td>Gentoo</td><td>Biscoe</td><td>49.9</td><td>16.1</td><td>213</td><td>5400</td><td>male</td><td>2009</td></tr></table>"
      ],
      "text/plain": [
       "#<RedAmber::DataFrame : 333 x 8 Vectors, 0x000000000000f1f4>\n",
       "    species  island    bill_length_mm bill_depth_mm flipper_length_mm ...     year\n",
       "    <string> <string>        <double>      <double>           <uint8> ... <uint16>\n",
       "  0 Adelie   Torgersen           39.1          18.7               181 ...     2007\n",
       "  1 Adelie   Torgersen           39.5          17.4               186 ...     2007\n",
       "  2 Adelie   Torgersen           40.3          18.0               195 ...     2007\n",
       "  3 Adelie   Torgersen           36.7          19.3               193 ...     2007\n",
       "  4 Adelie   Torgersen           39.3          20.6               190 ...     2007\n",
       "  : :        :                      :             :                 : ...        :\n",
       "330 Gentoo   Biscoe              50.4          15.7               222 ...     2009\n",
       "331 Gentoo   Biscoe              45.2          14.8               212 ...     2009\n",
       "332 Gentoo   Biscoe              49.9          16.1               213 ...     2009\n"
      ]
     },
     "execution_count": 23,
     "metadata": {},
     "output_type": "execute_result"
    }
   ],
   "source": [
    "# remove all observation contains nil\n",
    "removed = penguins.remove { vectors.map(&:is_nil).reduce(&:|) }\n",
    "removed"
   ]
  },
  {
   "cell_type": "markdown",
   "id": "417aae81-ef01-43f4-85df-39e93cfdc98e",
   "metadata": {},
   "source": [
    "- Indices or booleans by a block\n",
    "\n",
    "    `remove {block}` is also acceptable. We can't use both arguments and a block at a same time. The block should return indeces or a boolean Array with a same length as `size`. Block is called in the context of self."
   ]
  },
  {
   "cell_type": "code",
   "execution_count": 24,
   "id": "b36136f9-2612-4981-bc72-d31630d1725b",
   "metadata": {},
   "outputs": [
    {
     "data": {
      "text/html": [
       "RedAmber::DataFrame <140 x 8 vectors> <table><tr><th>species</th><th>island</th><th>bill_length_mm</th><th>bill_depth_mm</th><th>flipper_length_mm</th><th>body_mass_g</th><th>sex</th><th>year</th></tr><tr><td>Adelie</td><td>Torgersen</td><td><i>(nil)</i></td><td><i>(nil)</i></td><td><i>(nil)</i></td><td><i>(nil)</i></td><td><i>(nil)</i></td><td>2007</td></tr><tr><td>Adelie</td><td>Torgersen</td><td>36.7</td><td>19.3</td><td>193</td><td>3450</td><td>female</td><td>2007</td></tr><tr><td>Adelie</td><td>Torgersen</td><td>34.1</td><td>18.1</td><td>193</td><td>3475</td><td><i>(nil)</i></td><td>2007</td></tr><tr><td>Adelie</td><td>Torgersen</td><td>37.8</td><td>17.1</td><td>186</td><td>3300</td><td><i>(nil)</i></td><td>2007</td></tr><tr><td colspan='8'>&#8942;</td></tr><tr><td>Gentoo</td><td>Biscoe</td><td><i>(nil)</i></td><td><i>(nil)</i></td><td><i>(nil)</i></td><td><i>(nil)</i></td><td><i>(nil)</i></td><td>2009</td></tr><tr><td>Gentoo</td><td>Biscoe</td><td>50.4</td><td>15.7</td><td>222</td><td>5750</td><td>male</td><td>2009</td></tr><tr><td>Gentoo</td><td>Biscoe</td><td>49.9</td><td>16.1</td><td>213</td><td>5400</td><td>male</td><td>2009</td></tr></table>"
      ],
      "text/plain": [
       "#<RedAmber::DataFrame : 140 x 8 Vectors, 0x000000000000f208>\n",
       "    species  island    bill_length_mm bill_depth_mm flipper_length_mm ...     year\n",
       "    <string> <string>        <double>      <double>           <uint8> ... <uint16>\n",
       "  0 Adelie   Torgersen          (nil)         (nil)             (nil) ...     2007\n",
       "  1 Adelie   Torgersen           36.7          19.3               193 ...     2007\n",
       "  2 Adelie   Torgersen           34.1          18.1               193 ...     2007\n",
       "  3 Adelie   Torgersen           37.8          17.1               186 ...     2007\n",
       "  4 Adelie   Torgersen           37.8          17.3               180 ...     2007\n",
       "  : :        :                      :             :                 : ...        :\n",
       "137 Gentoo   Biscoe             (nil)         (nil)             (nil) ...     2009\n",
       "138 Gentoo   Biscoe              50.4          15.7               222 ...     2009\n",
       "139 Gentoo   Biscoe              49.9          16.1               213 ...     2009\n"
      ]
     },
     "execution_count": 24,
     "metadata": {},
     "output_type": "execute_result"
    }
   ],
   "source": [
    "penguins.remove do\n",
    "  # We will use another style shown in slice\n",
    "  # self.bill_length_mm returns Vector\n",
    "  mean = bill_length_mm.mean\n",
    "  min = mean - bill_length_mm.std\n",
    "  max = mean + bill_length_mm.std\n",
    "  bill_length_mm.to_a.map { |e| (min..max).include? e }\n",
    "end"
   ]
  },
  {
   "cell_type": "markdown",
   "id": "1c000941-ef00-4210-a804-82a457d9b8d5",
   "metadata": {},
   "source": [
    "- Notice for nil\n",
    "  - When `remove` used with booleans, nil in booleans is treated as false. This behavior is aligned with Ruby's `nil#!`."
   ]
  },
  {
   "cell_type": "code",
   "execution_count": 25,
   "id": "53656ede-f663-4509-bc9d-827566b22d8b",
   "metadata": {},
   "outputs": [
    {
     "data": {
      "text/plain": [
       "#<RedAmber::Vector(:boolean, size=3):0x000000000000f21c>\n",
       "[true, false, nil]\n"
      ]
     },
     "execution_count": 25,
     "metadata": {},
     "output_type": "execute_result"
    }
   ],
   "source": [
    "df = DataFrame.new(a: [1, 2, nil], b: %w[A B C], c: [1.0, 2, 3])\n",
    "booleans = df[:a] < 2\n",
    "booleans"
   ]
  },
  {
   "cell_type": "code",
   "execution_count": 26,
   "id": "657c04ad-fb30-4379-87ab-0270ead994e8",
   "metadata": {},
   "outputs": [
    {
     "data": {
      "text/plain": [
       "true"
      ]
     },
     "execution_count": 26,
     "metadata": {},
     "output_type": "execute_result"
    }
   ],
   "source": [
    "booleans_invert = booleans.to_a.map(&:!) # => [false, true, true]\n",
    "    \n",
    "df.slice(booleans) == df.remove(booleans_invert) # => true"
   ]
  },
  {
   "cell_type": "markdown",
   "id": "85df3260-b671-4285-810b-f97dafcf562c",
   "metadata": {},
   "source": [
    "  - Whereas `Vector#invert` returns nil for elements nil. This will bring different result."
   ]
  },
  {
   "cell_type": "code",
   "execution_count": 27,
   "id": "6b527ad4-8198-410e-a657-446b3cc8b375",
   "metadata": {},
   "outputs": [
    {
     "data": {
      "text/plain": [
       "#<RedAmber::Vector(:boolean, size=3):0x000000000000f230>\n",
       "[false, true, nil]\n"
      ]
     },
     "execution_count": 27,
     "metadata": {},
     "output_type": "execute_result"
    }
   ],
   "source": [
    "booleans.invert"
   ]
  },
  {
   "cell_type": "code",
   "execution_count": 28,
   "id": "b0761123-d372-4c2a-8c10-fbd03ca9ed06",
   "metadata": {},
   "outputs": [
    {
     "data": {
      "text/html": [
       "RedAmber::DataFrame <2 x 3 vectors> <table><tr><th>a</th><th>b</th><th>c</th></tr><tr><td>1</td><td>A</td><td>1</td></tr><tr><td><i>(nil)</i></td><td>C</td><td>3</td></tr></table>"
      ],
      "text/plain": [
       "#<RedAmber::DataFrame : 2 x 3 Vectors, 0x000000000000f244>\n",
       "        a b               c\n",
       "  <uint8> <string> <double>\n",
       "0       1 A             1.0\n",
       "1   (nil) C             3.0\n"
      ]
     },
     "execution_count": 28,
     "metadata": {},
     "output_type": "execute_result"
    }
   ],
   "source": [
    "df.remove(booleans.invert)"
   ]
  },
  {
   "cell_type": "markdown",
   "id": "689df442-dd25-4f09-9f21-2889c30f558a",
   "metadata": {},
   "source": [
    "### `rename`\n",
    "\n",
    "  Rename keys (column names) to create a updated DataFrame.\n",
    "\n",
    "  ![rename method image](https://github.com/heronshoes/red_amber/raw/main/doc/image/dataframe/rename.png)"
   ]
  },
  {
   "cell_type": "markdown",
   "id": "ae98e3a6-1cb6-4f5f-8f18-601a05a60d58",
   "metadata": {},
   "source": [
    "- Key pairs as arguments\n",
    "\n",
    "    `rename(key_pairs)` accepts key_pairs as arguments. key_pairs should be a Hash of `{existing_key => new_key}` or an Array of Arrays like `[[existing_key, new_key], ... ]`."
   ]
  },
  {
   "cell_type": "code",
   "execution_count": 29,
   "id": "ef857611-b451-413a-bc6c-7fec06b399d9",
   "metadata": {},
   "outputs": [
    {
     "data": {
      "text/html": [
       "RedAmber::DataFrame <3 x 2 vectors> <table><tr><th>name</th><th>age_in_1993</th></tr><tr><td>Yasuko</td><td>68</td></tr><tr><td>Rui</td><td>49</td></tr><tr><td>Hinata</td><td>28</td></tr></table>"
      ],
      "text/plain": [
       "#<RedAmber::DataFrame : 3 x 2 Vectors, 0x000000000000f258>\n",
       "  name     age_in_1993\n",
       "  <string>     <uint8>\n",
       "0 Yasuko            68\n",
       "1 Rui               49\n",
       "2 Hinata            28\n"
      ]
     },
     "execution_count": 29,
     "metadata": {},
     "output_type": "execute_result"
    }
   ],
   "source": [
    "df = DataFrame.new( 'name' => %w[Yasuko Rui Hinata], 'age' => [68, 49, 28] )\n",
    "df.rename(:age => :age_in_1993)"
   ]
  },
  {
   "cell_type": "markdown",
   "id": "a64090f8-37e4-482b-8e63-64f72db52452",
   "metadata": {},
   "source": [
    "- Key pairs by a block\n",
    "\n",
    "    `rename {block}` is also acceptable. We can't use both arguments and a block at a same time. The block should return key_pairs as a Hash of `{existing_key => new_key}` or an Array of Arrays like `[[existing_key, new_key], ... ]`. Block is called in the context of self.\n",
    "\n",
    "- Not existing keys\n",
    "\n",
    "    If specified `existing_key` is not exist, raise a `DataFrameArgumentError`.\n",
    "\n",
    "- Key type\n",
    "\n",
    "  Symbol key and String key are distinguished."
   ]
  },
  {
   "cell_type": "markdown",
   "id": "768f998b-1a21-4189-a381-c614357c2c6a",
   "metadata": {},
   "source": [
    "### `assign`\n",
    "\n",
    "  Assign new or updated columns (variables) and create a updated DataFrame.\n",
    "\n",
    "  - Variables with new keys will append new columns from the right.\n",
    "  - Variables with exisiting keys will update corresponding vectors.\n",
    "\n",
    "    ![assign method image](https://github.com/heronshoes/red_amber/raw/main/doc/image/dataframe/assign.png)"
   ]
  },
  {
   "cell_type": "markdown",
   "id": "404de10d-5ad1-456a-a35c-a1029e21ec44",
   "metadata": {},
   "source": [
    "- Variables as arguments\n",
    "\n",
    "    `assign(key_pairs)` accepts pairs of key and values as parameters. `key_pairs` should be a Hash of `{key => array_like}` or an Array of Arrays like `[[key, array_like], ... ]`. `array_like` is ether `Vector`, `Array` or `Arrow::Array`."
   ]
  },
  {
   "cell_type": "code",
   "execution_count": 30,
   "id": "05b6c51c-aaae-469a-81e3-b9b5a4aea1c7",
   "metadata": {},
   "outputs": [
    {
     "data": {
      "text/html": [
       "RedAmber::DataFrame <3 x 2 vectors> <table><tr><th>name</th><th>age</th></tr><tr><td>Yasuko</td><td>68</td></tr><tr><td>Rui</td><td>49</td></tr><tr><td>Hinata</td><td>28</td></tr></table>"
      ],
      "text/plain": [
       "#<RedAmber::DataFrame : 3 x 2 Vectors, 0x000000000000f26c>\n",
       "  name         age\n",
       "  <string> <uint8>\n",
       "0 Yasuko        68\n",
       "1 Rui           49\n",
       "2 Hinata        28\n"
      ]
     },
     "execution_count": 30,
     "metadata": {},
     "output_type": "execute_result"
    }
   ],
   "source": [
    "df = DataFrame.new(\n",
    "  name: %w[Yasuko Rui Hinata],\n",
    "  age: [68, 49, 28]\n",
    ")"
   ]
  },
  {
   "cell_type": "code",
   "execution_count": 31,
   "id": "f9fb7b49-7347-4875-b690-22d0ec14f475",
   "metadata": {},
   "outputs": [
    {
     "data": {
      "text/html": [
       "RedAmber::DataFrame <3 x 3 vectors> <table><tr><th>name</th><th>age</th><th>brother</th></tr><tr><td>Yasuko</td><td>97</td><td>Santa</td></tr><tr><td>Rui</td><td>78</td><td><i>(nil)</i></td></tr><tr><td>Hinata</td><td>57</td><td>Momotaro</td></tr></table>"
      ],
      "text/plain": [
       "#<RedAmber::DataFrame : 3 x 3 Vectors, 0x000000000000f280>\n",
       "  name         age brother\n",
       "  <string> <uint8> <string>\n",
       "0 Yasuko        97 Santa\n",
       "1 Rui           78 (nil)\n",
       "2 Hinata        57 Momotaro\n"
      ]
     },
     "execution_count": 31,
     "metadata": {},
     "output_type": "execute_result"
    }
   ],
   "source": [
    "# update :age and add :brother\n",
    "df.assign do\n",
    "  {\n",
    "    age: age + 29,\n",
    "    brother: ['Santa', nil, 'Momotaro']\n",
    "  }\n",
    "end"
   ]
  },
  {
   "cell_type": "markdown",
   "id": "013b8ddb-7e28-4b0c-81d4-4f8f5405966d",
   "metadata": {},
   "source": [
    "- Key pairs by a block\n",
    "\n",
    "    `assign {block}` is also acceptable. We can't use both arguments and a block at a same time. The block should return pairs of key and values as a Hash of `{key => array_like}` or an Array of Arrays like `[[key, array_like], ... ]`. `array_like` is ether `Vector`, `Array` or `Arrow::Array`. The block is called in the context of self."
   ]
  },
  {
   "cell_type": "code",
   "execution_count": 32,
   "id": "01bc185a-07ab-40d2-a458-021e0d5f18f0",
   "metadata": {},
   "outputs": [
    {
     "data": {
      "text/html": [
       "RedAmber::DataFrame <5 x 3 vectors> <table><tr><th>index</th><th>float</th><th>string</th></tr><tr><td>0</td><td>0</td><td>A</td></tr><tr><td>1</td><td>1.1</td><td>B</td></tr><tr><td>2</td><td>2.2</td><td>C</td></tr><tr><td>3</td><td>NaN</td><td>D</td></tr><tr><td><i>(nil)</i></td><td><i>(nil)</i></td><td><i>(nil)</i></td></tr></table>"
      ],
      "text/plain": [
       "#<RedAmber::DataFrame : 5 x 3 Vectors, 0x000000000000f294>\n",
       "    index    float string\n",
       "  <uint8> <double> <string>\n",
       "0       0      0.0 A\n",
       "1       1      1.1 B\n",
       "2       2      2.2 C\n",
       "3       3      NaN D\n",
       "4   (nil)    (nil) (nil)\n"
      ]
     },
     "execution_count": 32,
     "metadata": {},
     "output_type": "execute_result"
    }
   ],
   "source": [
    "df = DataFrame.new(\n",
    "  index: [0, 1, 2, 3, nil],\n",
    "  float: [0.0, 1.1,  2.2, Float::NAN, nil],\n",
    "  string: ['A', 'B', 'C', 'D', nil]\n",
    ")"
   ]
  },
  {
   "cell_type": "code",
   "execution_count": 33,
   "id": "375b0b44-5f77-4567-a28d-e76358c9de8d",
   "metadata": {
    "tags": []
   },
   "outputs": [
    {
     "data": {
      "text/html": [
       "RedAmber::DataFrame <5 x 3 vectors> <table><tr><th>index</th><th>float</th><th>string</th></tr><tr><td>0</td><td>-0</td><td>A</td></tr><tr><td>1</td><td>-1.1</td><td>B</td></tr><tr><td>2</td><td>-2.2</td><td>C</td></tr><tr><td>3</td><td>NaN</td><td>D</td></tr><tr><td><i>(nil)</i></td><td><i>(nil)</i></td><td><i>(nil)</i></td></tr></table>"
      ],
      "text/plain": [
       "#<RedAmber::DataFrame : 5 x 3 Vectors, 0x000000000000f2a8>\n",
       "    index    float string\n",
       "  <uint8> <double> <string>\n",
       "0       0     -0.0 A\n",
       "1       1     -1.1 B\n",
       "2       2     -2.2 C\n",
       "3       3      NaN D\n",
       "4   (nil)    (nil) (nil)\n"
      ]
     },
     "execution_count": 33,
     "metadata": {},
     "output_type": "execute_result"
    }
   ],
   "source": [
    "# update :float\n",
    "# assigner by an Array\n",
    "df.assign do\n",
    "  vectors.select(&:float?)\n",
    "         .map { |v| [v.key, -v] }\n",
    "end"
   ]
  },
  {
   "cell_type": "code",
   "execution_count": 34,
   "id": "cc5b09a7-f268-4722-bd6e-d1983c6203c4",
   "metadata": {},
   "outputs": [
    {
     "data": {
      "text/html": [
       "RedAmber::DataFrame <5 x 3 vectors> <table><tr><th>index</th><th>float</th><th>string</th></tr><tr><td>0</td><td>-0</td><td>A</td></tr><tr><td>1</td><td>-1.1</td><td>B</td></tr><tr><td>2</td><td>-2.2</td><td>C</td></tr><tr><td>3</td><td>NaN</td><td>D</td></tr><tr><td><i>(nil)</i></td><td><i>(nil)</i></td><td><i>(nil)</i></td></tr></table>"
      ],
      "text/plain": [
       "#<RedAmber::DataFrame : 5 x 3 Vectors, 0x000000000000f2bc>\n",
       "    index    float string\n",
       "  <uint8> <double> <string>\n",
       "0       0     -0.0 A\n",
       "1       1     -1.1 B\n",
       "2       2     -2.2 C\n",
       "3       3      NaN D\n",
       "4   (nil)    (nil) (nil)\n"
      ]
     },
     "execution_count": 34,
     "metadata": {},
     "output_type": "execute_result"
    }
   ],
   "source": [
    "# Or we can use assigner by a Hash\n",
    "df.assign do\n",
    "  vectors.select.with_object({}) do |v, assigner|\n",
    "    assigner[v.key] = -v if v.float?\n",
    "  end\n",
    "end"
   ]
  },
  {
   "cell_type": "markdown",
   "id": "6af605d7-e297-435d-a4bb-cd93ce47313c",
   "metadata": {},
   "source": [
    "- Key type\n",
    "\n",
    "  Symbol key and String key are considered as the same key.\n",
    "\n",
    "- Empty assignment\n",
    "  \n",
    "  If assigner is empty or nil, returns self.\n",
    "\n",
    "- Append from left\n",
    "\n",
    "  `assign_left` method accepts the same parameters and block as `assign`, but append new columns from leftside."
   ]
  },
  {
   "cell_type": "code",
   "execution_count": 35,
   "id": "ad9133c2-586d-437e-ae34-59cfff69d302",
   "metadata": {},
   "outputs": [
    {
     "data": {
      "text/html": [
       "RedAmber::DataFrame <5 x 4 vectors> <table><tr><th>new_index</th><th>index</th><th>float</th><th>string</th></tr><tr><td>1</td><td>0</td><td>0</td><td>A</td></tr><tr><td>2</td><td>1</td><td>1.1</td><td>B</td></tr><tr><td>3</td><td>2</td><td>2.2</td><td>C</td></tr><tr><td>4</td><td>3</td><td>NaN</td><td>D</td></tr><tr><td>5</td><td><i>(nil)</i></td><td><i>(nil)</i></td><td><i>(nil)</i></td></tr></table>"
      ],
      "text/plain": [
       "#<RedAmber::DataFrame : 5 x 4 Vectors, 0x000000000000f2d0>\n",
       "  new_index   index    float string\n",
       "    <uint8> <uint8> <double> <string>\n",
       "0         1       0      0.0 A\n",
       "1         2       1      1.1 B\n",
       "2         3       2      2.2 C\n",
       "3         4       3      NaN D\n",
       "4         5   (nil)    (nil) (nil)\n"
      ]
     },
     "execution_count": 35,
     "metadata": {},
     "output_type": "execute_result"
    }
   ],
   "source": [
    "df.assign_left(new_index: df.indices(1))"
   ]
  },
  {
   "cell_type": "markdown",
   "id": "d29bc8f2-ab1b-42b7-85ca-193a2bc3c024",
   "metadata": {},
   "source": [
    "### `slice_by(key, keep_key: false) { block }`\n",
    "\n",
    "`slice_by` accepts a key and a block to select rows.\n",
    "\n",
    "(Since 0.2.1)"
   ]
  },
  {
   "cell_type": "code",
   "execution_count": 36,
   "id": "31af5c4a-5b6b-4b3d-9428-b4da11a2f9cc",
   "metadata": {},
   "outputs": [
    {
     "data": {
      "text/html": [
       "RedAmber::DataFrame <5 x 3 vectors> <table><tr><th>index</th><th>float</th><th>string</th></tr><tr><td>0</td><td>0</td><td>A</td></tr><tr><td>1</td><td>1.1</td><td>B</td></tr><tr><td>2</td><td>2.2</td><td>C</td></tr><tr><td>3</td><td>NaN</td><td>D</td></tr><tr><td><i>(nil)</i></td><td><i>(nil)</i></td><td><i>(nil)</i></td></tr></table>"
      ],
      "text/plain": [
       "#<RedAmber::DataFrame : 5 x 3 Vectors, 0x000000000000f2e4>\n",
       "    index    float string\n",
       "  <uint8> <double> <string>\n",
       "0       0      0.0 A\n",
       "1       1      1.1 B\n",
       "2       2      2.2 C\n",
       "3       3      NaN D\n",
       "4   (nil)    (nil) (nil)\n"
      ]
     },
     "execution_count": 36,
     "metadata": {},
     "output_type": "execute_result"
    }
   ],
   "source": [
    "df = DataFrame.new(\n",
    "  index: [0, 1, 2, 3, nil],\n",
    "  float: [0.0, 1.1,  2.2, Float::NAN, nil],\n",
    "  string: ['A', 'B', 'C', 'D', nil]\n",
    ")"
   ]
  },
  {
   "cell_type": "code",
   "execution_count": 37,
   "id": "e31a83bc-446d-4321-9614-950da6925325",
   "metadata": {},
   "outputs": [
    {
     "data": {
      "text/html": [
       "RedAmber::DataFrame <2 x 2 vectors> <table><tr><th>index</th><th>float</th></tr><tr><td>0</td><td>0</td></tr><tr><td>2</td><td>2.2</td></tr></table>"
      ],
      "text/plain": [
       "#<RedAmber::DataFrame : 2 x 2 Vectors, 0x000000000000f2f8>\n",
       "    index    float\n",
       "  <uint8> <double>\n",
       "0       0      0.0\n",
       "1       2      2.2\n"
      ]
     },
     "execution_count": 37,
     "metadata": {},
     "output_type": "execute_result"
    }
   ],
   "source": [
    "df.slice_by(:string) { [\"A\", \"C\"] }"
   ]
  },
  {
   "cell_type": "markdown",
   "id": "dd29f56b-3949-4e3e-a11f-7b5d82aafb1e",
   "metadata": {},
   "source": [
    "It is the same behavior as;"
   ]
  },
  {
   "cell_type": "code",
   "execution_count": 38,
   "id": "08c5e5fa-e2be-4e26-a3e0-d827fcbf9877",
   "metadata": {},
   "outputs": [
    {
     "data": {
      "text/html": [
       "RedAmber::DataFrame <2 x 2 vectors> <table><tr><th>index</th><th>float</th></tr><tr><td>0</td><td>0</td></tr><tr><td>2</td><td>2.2</td></tr></table>"
      ],
      "text/plain": [
       "#<RedAmber::DataFrame : 2 x 2 Vectors, 0x000000000000f30c>\n",
       "    index    float\n",
       "  <uint8> <double>\n",
       "0       0      0.0\n",
       "1       2      2.2\n"
      ]
     },
     "execution_count": 38,
     "metadata": {},
     "output_type": "execute_result"
    }
   ],
   "source": [
    "df.slice { [string.index(\"A\"), string.index(\"C\")] }.drop(:string)"
   ]
  },
  {
   "cell_type": "markdown",
   "id": "5a45e72e-0ad4-40b4-8f06-c27adabbfeea",
   "metadata": {},
   "source": [
    "`slice_by` also accepts a Range."
   ]
  },
  {
   "cell_type": "code",
   "execution_count": 39,
   "id": "3676aa85-bfd5-4c97-926f-a1d21fd0fd90",
   "metadata": {},
   "outputs": [
    {
     "data": {
      "text/html": [
       "RedAmber::DataFrame <3 x 2 vectors> <table><tr><th>index</th><th>float</th></tr><tr><td>0</td><td>0</td></tr><tr><td>1</td><td>1.1</td></tr><tr><td>2</td><td>2.2</td></tr></table>"
      ],
      "text/plain": [
       "#<RedAmber::DataFrame : 3 x 2 Vectors, 0x000000000000f320>\n",
       "    index    float\n",
       "  <uint8> <double>\n",
       "0       0      0.0\n",
       "1       1      1.1\n",
       "2       2      2.2\n"
      ]
     },
     "execution_count": 39,
     "metadata": {},
     "output_type": "execute_result"
    }
   ],
   "source": [
    "df.slice_by(:string) { \"A\"..\"C\" }"
   ]
  },
  {
   "cell_type": "markdown",
   "id": "b381490b-8159-4368-a487-545184350207",
   "metadata": {},
   "source": [
    "When the option `keep_key: true` used, the column `key` will be preserved."
   ]
  },
  {
   "cell_type": "code",
   "execution_count": 40,
   "id": "a8615dd0-2517-48e4-9a39-93351009825f",
   "metadata": {},
   "outputs": [
    {
     "data": {
      "text/html": [
       "RedAmber::DataFrame <3 x 3 vectors> <table><tr><th>index</th><th>float</th><th>string</th></tr><tr><td>0</td><td>0</td><td>A</td></tr><tr><td>1</td><td>1.1</td><td>B</td></tr><tr><td>2</td><td>2.2</td><td>C</td></tr></table>"
      ],
      "text/plain": [
       "#<RedAmber::DataFrame : 3 x 3 Vectors, 0x000000000000f334>\n",
       "    index    float string\n",
       "  <uint8> <double> <string>\n",
       "0       0      0.0 A\n",
       "1       1      1.1 B\n",
       "2       2      2.2 C\n"
      ]
     },
     "execution_count": 40,
     "metadata": {},
     "output_type": "execute_result"
    }
   ],
   "source": [
    "df.slice_by(:string, keep_key: true) { \"A\"..\"C\" }"
   ]
  },
  {
   "cell_type": "markdown",
   "id": "659e5643-9921-4e10-a28d-3cc19dcaedf3",
   "metadata": {},
   "source": [
    "## Updating\n",
    "\n",
    "### `sort`\n",
    "\n",
    "  `sort` accepts parameters as sort_keys thanks to the amazing Red Arrow feature。\n",
    "    - :key, \"key\" or \"+key\" denotes ascending order\n",
    "    - \"-key\" denotes descending order"
   ]
  },
  {
   "cell_type": "code",
   "execution_count": 41,
   "id": "7c6a2326-1f31-4ca7-8f17-2021202da464",
   "metadata": {},
   "outputs": [
    {
     "data": {
      "text/html": [
       "RedAmber::DataFrame <5 x 3 vectors> <table><tr><th>index</th><th>string</th><th>bool</th></tr><tr><td>0</td><td><i>(nil)</i></td><td><i>(false)</i></td></tr><tr><td>0</td><td>B</td><td><i>(false)</i></td></tr><tr><td>1</td><td>B</td><td><i>(true)</i></td></tr><tr><td>1</td><td>C</td><td><i>(nil)</i></td></tr><tr><td><i>(nil)</i></td><td>A</td><td><i>(true)</i></td></tr></table>"
      ],
      "text/plain": [
       "#<RedAmber::DataFrame : 5 x 3 Vectors, 0x000000000000f348>\n",
       "    index string   bool\n",
       "  <uint8> <string> <boolean>\n",
       "0       0 (nil)    false\n",
       "1       0 B        false\n",
       "2       1 B        true\n",
       "3       1 C        (nil)\n",
       "4   (nil) A        true\n"
      ]
     },
     "execution_count": 41,
     "metadata": {},
     "output_type": "execute_result"
    }
   ],
   "source": [
    "df = DataFrame.new(\n",
    "      index:  [1, 1, 0, nil, 0],\n",
    "      string: ['C', 'B', nil, 'A', 'B'],\n",
    "      bool:   [nil, true, false, true, false],\n",
    "    )\n",
    "df.sort(:index, '-bool')"
   ]
  },
  {
   "cell_type": "markdown",
   "id": "bea95a3b-a673-4b5e-8df8-dbc816506c82",
   "metadata": {},
   "source": [
    "## Treat na data\n",
    "\n",
    "### `remove_nil`\n",
    "\n",
    "  Remove any observations containing nil."
   ]
  },
  {
   "cell_type": "markdown",
   "id": "ad78f511-0f96-4627-8a29-ad09e3e7fe9e",
   "metadata": {},
   "source": [
    "## Grouping\n",
    "\n",
    "### `group(group_keys)`\n",
    "\n",
    "  `group` creates a instance of class `Group`. `Group` accepts functions below as a method.\n",
    "  Method accepts options as `group_keys`.\n",
    "\n",
    "  Available functions are:\n",
    "\n",
    "  - [ ] all                 \n",
    "  - [ ] any\n",
    "  - [ ] approximate_median\n",
    "  - ✓ count\n",
    "  - [ ] count_distinct\n",
    "  - [ ] distinct\n",
    "  - ✓ max\n",
    "  - ✓ mean\n",
    "  - ✓ min\n",
    "  - [ ] min_max\n",
    "  - ✓ product\n",
    "  - ✓ stddev\n",
    "  - ✓ sum\n",
    "  - [ ] tdigest\n",
    "  - ✓ variance\n",
    "\n",
    "  For the each group of `group_keys`, the aggregation `function` is applied and returns a new dataframe with aggregated keys according to `summary_keys`.\n",
    "  Summary key names are provided by `function(summary_keys)` style.\n",
    "\n",
    "  This is an example of grouping of famous STARWARS dataset."
   ]
  },
  {
   "cell_type": "code",
   "execution_count": 42,
   "id": "e28b401a-e123-4df6-b3f6-165595fe2192",
   "metadata": {},
   "outputs": [
    {
     "data": {
      "text/html": [
       "RedAmber::DataFrame <87 x 12 vectors> <table><tr><th>unnamed1</th><th>name</th><th>height</th><th>mass</th><th>hair_color</th><th>skin_color</th><th>eye_color</th><th>birth_year</th><th>sex</th><th>gender</th><th>homeworld</th><th>species</th></tr><tr><td>1</td><td>Luke Skywalker</td><td>172</td><td>77</td><td>blond</td><td>fair</td><td>blue</td><td>19</td><td>male</td><td>masculine</td><td>Tatooine</td><td>Human</td></tr><tr><td>2</td><td>C-3PO</td><td>167</td><td>75</td><td>NA</td><td>gold</td><td>yellow</td><td>112</td><td>none</td><td>masculine</td><td>Tatooine</td><td>Droid</td></tr><tr><td>3</td><td>R2-D2</td><td>96</td><td>32</td><td>NA</td><td>white, blue</td><td>red</td><td>33</td><td>none</td><td>masculine</td><td>Naboo</td><td>Droid</td></tr><tr><td>4</td><td>Darth Vader</td><td>202</td><td>136</td><td>none</td><td>white</td><td>yellow</td><td>41.9</td><td>male</td><td>masculine</td><td>Tatooine</td><td>Human</td></tr><tr><td colspan='12'>&#8942;</td></tr><tr><td>85</td><td>BB8</td><td><i>(nil)</i></td><td><i>(nil)</i></td><td>none</td><td>none</td><td>black</td><td><i>(nil)</i></td><td>none</td><td>masculine</td><td>NA</td><td>Droid</td></tr><tr><td>86</td><td>Captain Phasma</td><td><i>(nil)</i></td><td><i>(nil)</i></td><td>unknown</td><td>unknown</td><td>unknown</td><td><i>(nil)</i></td><td>NA</td><td>NA</td><td>NA</td><td>NA</td></tr><tr><td>87</td><td>Padmé Amidala</td><td>165</td><td>45</td><td>brown</td><td>light</td><td>brown</td><td>46</td><td>female</td><td>feminine</td><td>Naboo</td><td>Human</td></tr></table>"
      ],
      "text/plain": [
       "#<RedAmber::DataFrame : 87 x 12 Vectors, 0x000000000000f35c>\n",
       "   unnamed1 name            height     mass hair_color skin_color  eye_color ... species\n",
       "    <int64> <string>       <int64> <double> <string>   <string>    <string>  ... <string>\n",
       " 0        1 Luke Skywalker     172     77.0 blond      fair        blue      ... Human\n",
       " 1        2 C-3PO              167     75.0 NA         gold        yellow    ... Droid\n",
       " 2        3 R2-D2               96     32.0 NA         white, blue red       ... Droid\n",
       " 3        4 Darth Vader        202    136.0 none       white       yellow    ... Human\n",
       " 4        5 Leia Organa        150     49.0 brown      light       brown     ... Human\n",
       " :        : :                    :        : :          :           :         ... :\n",
       "84       85 BB8              (nil)    (nil) none       none        black     ... Droid\n",
       "85       86 Captain Phasma   (nil)    (nil) unknown    unknown     unknown   ... NA\n",
       "86       87 Padmé Amidala      165     45.0 brown      light       brown     ... Human\n"
      ]
     },
     "execution_count": 42,
     "metadata": {},
     "output_type": "execute_result"
    }
   ],
   "source": [
    "uri = URI(\"https://vincentarelbundock.github.io/Rdatasets/csv/dplyr/starwars.csv\")\n",
    "starwars = DataFrame.load(uri)"
   ]
  },
  {
   "cell_type": "code",
   "execution_count": 43,
   "id": "1a7a30be-01b8-4d0a-90ee-40aa91cff80d",
   "metadata": {},
   "outputs": [
    {
     "name": "stdout",
     "output_type": "stream",
     "text": [
      "RedAmber::DataFrame : 87 x 12 Vectors\n",
      "Vectors : 4 numeric, 8 strings\n",
      "#  key         type   level data_preview\n",
      "0  :unnamed1   int64     87 [1, 2, 3, 4, 5, ... ]\n",
      "1  :name       string    87 [\"Luke Skywalker\", \"C-3PO\", \"R2-D2\", \"Darth Vader\", \"Leia Organa\", ... ]\n",
      "2  :height     int64     46 [172, 167, 96, 202, 150, ... ], 6 nils\n",
      "3  :mass       double    39 [77.0, 75.0, 32.0, 136.0, 49.0, ... ], 28 nils\n",
      "4  :hair_color string    13 [\"blond\", \"NA\", \"NA\", \"none\", \"brown\", ... ]\n",
      "5  :skin_color string    31 [\"fair\", \"gold\", \"white, blue\", \"white\", \"light\", ... ]\n",
      "6  :eye_color  string    15 [\"blue\", \"yellow\", \"red\", \"yellow\", \"brown\", ... ]\n",
      "7  :birth_year double    37 [19.0, 112.0, 33.0, 41.9, 19.0, ... ], 44 nils\n",
      "8  :sex        string     5 {\"male\"=>60, \"none\"=>6, \"female\"=>16, \"hermaphroditic\"=>1, \"NA\"=>4}\n",
      "9  :gender     string     3 {\"masculine\"=>66, \"feminine\"=>17, \"NA\"=>4}\n",
      "10 :homeworld  string    49 [\"Tatooine\", \"Tatooine\", \"Naboo\", \"Tatooine\", \"Alderaan\", ... ]\n",
      "11 :species    string    38 [\"Human\", \"Droid\", \"Droid\", \"Human\", \"Human\", ... ]\n"
     ]
    }
   ],
   "source": [
    "starwars.tdr(12)"
   ]
  },
  {
   "cell_type": "markdown",
   "id": "5500c0e5-5069-40e6-a4b4-50d502fbe67b",
   "metadata": {},
   "source": [
    "We can group by `:species` and calculate the count."
   ]
  },
  {
   "cell_type": "code",
   "execution_count": 44,
   "id": "6544b4d8-2c6e-451f-b013-b2b27110c0af",
   "metadata": {},
   "outputs": [
    {
     "data": {
      "text/html": [
       "RedAmber::DataFrame <37 x 2 vectors> <table><tr><th>species</th><th>count</th></tr><tr><td>Human</td><td>35</td></tr><tr><td>Droid</td><td>6</td></tr><tr><td>Wookiee</td><td>2</td></tr><tr><td>Rodian</td><td>1</td></tr><tr><td colspan='2'>&#8942;</td></tr><tr><td>Kaleesh</td><td>1</td></tr><tr><td>Pau'an</td><td>1</td></tr><tr><td>Kel Dor</td><td>1</td></tr></table>"
      ],
      "text/plain": [
       "#<RedAmber::DataFrame : 37 x 2 Vectors, 0x000000000000f370>\n",
       "   species    count\n",
       "   <string> <int64>\n",
       " 0 Human         35\n",
       " 1 Droid          6\n",
       " 2 Wookiee        2\n",
       " 3 Rodian         1\n",
       " 4 Hutt           1\n",
       " : :              :\n",
       "34 Kaleesh        1\n",
       "35 Pau'an         1\n",
       "36 Kel Dor        1\n"
      ]
     },
     "execution_count": 44,
     "metadata": {},
     "output_type": "execute_result"
    }
   ],
   "source": [
    "starwars.remove { species == \"NA\" }\n",
    "        .group(:species).count(:species)"
   ]
  },
  {
   "cell_type": "markdown",
   "id": "f1db6519-95c2-47a5-806c-d19f63f9fe86",
   "metadata": {},
   "source": [
    "We can also calculate the mean of `:mass` and `:height` together."
   ]
  },
  {
   "cell_type": "code",
   "execution_count": 45,
   "id": "0e73b45a-5cf1-44b4-947f-8add5480c2fc",
   "metadata": {},
   "outputs": [
    {
     "data": {
      "text/html": [
       "RedAmber::DataFrame <37 x 4 vectors> <table><tr><th>species</th><th>count</th><th>mean(height)</th><th>mean(mass)</th></tr><tr><td>Human</td><td>35</td><td>176.645</td><td>82.7818</td></tr><tr><td>Droid</td><td>6</td><td>131.2</td><td>69.75</td></tr><tr><td>Wookiee</td><td>2</td><td>231</td><td>124</td></tr><tr><td>Rodian</td><td>1</td><td>173</td><td>74</td></tr><tr><td colspan='4'>&#8942;</td></tr><tr><td>Kaleesh</td><td>1</td><td>216</td><td>159</td></tr><tr><td>Pau'an</td><td>1</td><td>206</td><td>80</td></tr><tr><td>Kel Dor</td><td>1</td><td>188</td><td>80</td></tr></table>"
      ],
      "text/plain": [
       "#<RedAmber::DataFrame : 37 x 4 Vectors, 0x000000000000f384>\n",
       "   species    count mean(height) mean(mass)\n",
       "   <string> <int64>     <double>   <double>\n",
       " 0 Human         35       176.65      82.78\n",
       " 1 Droid          6        131.2      69.75\n",
       " 2 Wookiee        2        231.0      124.0\n",
       " 3 Rodian         1        173.0       74.0\n",
       " 4 Hutt           1        175.0     1358.0\n",
       " : :              :            :          :\n",
       "34 Kaleesh        1        216.0      159.0\n",
       "35 Pau'an         1        206.0       80.0\n",
       "36 Kel Dor        1        188.0       80.0\n"
      ]
     },
     "execution_count": 45,
     "metadata": {},
     "output_type": "execute_result"
    }
   ],
   "source": [
    "grouped = starwars.remove { species == \"NA\" }\n",
    "                  .group(:species) { [count(:species), mean(:height, :mass)] }"
   ]
  },
  {
   "cell_type": "markdown",
   "id": "9eb2bbc9-e298-4417-b373-7d69c1e86e53",
   "metadata": {},
   "source": [
    "Select rows for count > 1."
   ]
  },
  {
   "cell_type": "code",
   "execution_count": 46,
   "id": "8fddd418-57b2-4239-87fd-e0cf9f824552",
   "metadata": {},
   "outputs": [
    {
     "data": {
      "text/html": [
       "RedAmber::DataFrame <8 x 4 vectors> <table><tr><th>species</th><th>count</th><th>mean(height)</th><th>mean(mass)</th></tr><tr><td>Human</td><td>35</td><td>176.645</td><td>82.7818</td></tr><tr><td>Droid</td><td>6</td><td>131.2</td><td>69.75</td></tr><tr><td>Wookiee</td><td>2</td><td>231</td><td>124</td></tr><tr><td>Gungan</td><td>3</td><td>208.667</td><td>74</td></tr><tr><td>Zabrak</td><td>2</td><td>173</td><td>80</td></tr><tr><td>Twi'lek</td><td>2</td><td>179</td><td>55</td></tr><tr><td>Mirialan</td><td>2</td><td>168</td><td>53.1</td></tr><tr><td>Kaminoan</td><td>2</td><td>221</td><td>88</td></tr></table>"
      ],
      "text/plain": [
       "#<RedAmber::DataFrame : 8 x 4 Vectors, 0x000000000000f398>\n",
       "  species    count mean(height) mean(mass)\n",
       "  <string> <int64>     <double>   <double>\n",
       "0 Human         35       176.65      82.78\n",
       "1 Droid          6        131.2      69.75\n",
       "2 Wookiee        2        231.0      124.0\n",
       "3 Gungan         3       208.67       74.0\n",
       "4 Zabrak         2        173.0       80.0\n",
       "5 Twi'lek        2        179.0       55.0\n",
       "6 Mirialan       2        168.0       53.1\n",
       "7 Kaminoan       2        221.0       88.0\n"
      ]
     },
     "execution_count": 46,
     "metadata": {},
     "output_type": "execute_result"
    }
   ],
   "source": [
    "grouped.slice(grouped[:count] > 1)"
   ]
  },
  {
   "cell_type": "markdown",
   "id": "c35aa0f4-9c13-4c5a-a7e2-5299360ef484",
   "metadata": {},
   "source": [
    "## Reshape\n",
    "\n",
    "![dataframe reshapeing image](https://github.com/heronshoes/red_amber/raw/main/doc/image/reshaping_dataframe.png)\n",
    "\n",
    "### `transpose`\n",
    "\n",
    "  Creates transposed DataFrame for the wide (messy) dataframe."
   ]
  },
  {
   "cell_type": "code",
   "execution_count": 49,
   "id": "2f5751f4-d84c-4f89-be08-252f4448d783",
   "metadata": {},
   "outputs": [
    {
     "data": {
      "text/html": [
       "RedAmber::DataFrame <5 x 6 vectors> <table><tr><th>Year</th><th>Audi</th><th>BMW</th><th>BMW_MINI</th><th>Mercedes-Benz</th><th>VW</th></tr><tr><td>2017</td><td>28336</td><td>52527</td><td>25427</td><td>68221</td><td>49040</td></tr><tr><td>2018</td><td>26473</td><td>50982</td><td>25984</td><td>67554</td><td>51961</td></tr><tr><td>2019</td><td>24222</td><td>46814</td><td>23813</td><td>66553</td><td>46794</td></tr><tr><td>2020</td><td>22304</td><td>35712</td><td>20196</td><td>57041</td><td>36576</td></tr><tr><td>2021</td><td>22535</td><td>35905</td><td>18211</td><td>51722</td><td>35215</td></tr></table>"
      ],
      "text/plain": [
       "#<RedAmber::DataFrame : 5 x 6 Vectors, 0x000000000000f3ac>\n",
       "     Year    Audi     BMW BMW_MINI Mercedes-Benz      VW\n",
       "  <int64> <int64> <int64>  <int64>       <int64> <int64>\n",
       "0    2017   28336   52527    25427         68221   49040\n",
       "1    2018   26473   50982    25984         67554   51961\n",
       "2    2019   24222   46814    23813         66553   46794\n",
       "3    2020   22304   35712    20196         57041   36576\n",
       "4    2021   22535   35905    18211         51722   35215\n"
      ]
     },
     "execution_count": 49,
     "metadata": {},
     "output_type": "execute_result"
    }
   ],
   "source": [
    "uri = URI(\"https://raw.githubusercontent.com/heronshoes/red_amber/master/test/entity/import_cars.tsv\")\n",
    "import_cars = RedAmber::DataFrame.load(uri)"
   ]
  },
  {
   "cell_type": "code",
   "execution_count": 50,
   "id": "5fca1ddd-6c6b-4eb4-8185-8f06779c3b05",
   "metadata": {},
   "outputs": [
    {
     "data": {
      "text/html": [
       "RedAmber::DataFrame <5 x 6 vectors> <table><tr><th>Manufacturer</th><th>2017</th><th>2018</th><th>2019</th><th>2020</th><th>2021</th></tr><tr><td>Audi</td><td>28336</td><td>26473</td><td>24222</td><td>22304</td><td>22535</td></tr><tr><td>BMW</td><td>52527</td><td>50982</td><td>46814</td><td>35712</td><td>35905</td></tr><tr><td>BMW_MINI</td><td>25427</td><td>25984</td><td>23813</td><td>20196</td><td>18211</td></tr><tr><td>Mercedes-Benz</td><td>68221</td><td>67554</td><td>66553</td><td>57041</td><td>51722</td></tr><tr><td>VW</td><td>49040</td><td>51961</td><td>46794</td><td>36576</td><td>35215</td></tr></table>"
      ],
      "text/plain": [
       "#<RedAmber::DataFrame : 5 x 6 Vectors, 0x000000000000f3c0>\n",
       "  Manufacturer      2017     2018     2019     2020     2021\n",
       "  <string>      <uint32> <uint32> <uint32> <uint16> <uint16>\n",
       "0 Audi             28336    26473    24222    22304    22535\n",
       "1 BMW              52527    50982    46814    35712    35905\n",
       "2 BMW_MINI         25427    25984    23813    20196    18211\n",
       "3 Mercedes-Benz    68221    67554    66553    57041    51722\n",
       "4 VW               49040    51961    46794    36576    35215\n"
      ]
     },
     "execution_count": 50,
     "metadata": {},
     "output_type": "execute_result"
    }
   ],
   "source": [
    "import_cars.transpose(name: :Manufacturer)"
   ]
  },
  {
   "cell_type": "markdown",
   "id": "60139af6-8833-4001-9f79-5f6dffe342b2",
   "metadata": {},
   "source": [
    "  The leftmost column is created by original keys. Key name of the column is\n",
    "  named by parameter `:name`. If `:name` is not specified, `:NAME` is used for the key."
   ]
  },
  {
   "cell_type": "markdown",
   "id": "6651d756-65fc-4952-bcad-836e07b58eaf",
   "metadata": {},
   "source": [
    "### `to_long(*keep_keys)`\n",
    "\n",
    "  Creates a 'long' (tidy) DataFrame from a 'wide' DataFrame.\n",
    "\n",
    "  - Parameter `keep_keys` specifies the key names to keep."
   ]
  },
  {
   "cell_type": "code",
   "execution_count": 51,
   "id": "36c90310-6278-49ab-9a67-e0b5a804a867",
   "metadata": {},
   "outputs": [
    {
     "data": {
      "text/html": [
       "RedAmber::DataFrame <25 x 3 vectors> <table><tr><th>Year</th><th>NAME</th><th>VALUE</th></tr><tr><td>2017</td><td>Audi</td><td>28336</td></tr><tr><td>2017</td><td>BMW</td><td>52527</td></tr><tr><td>2017</td><td>BMW_MINI</td><td>25427</td></tr><tr><td>2017</td><td>Mercedes-Benz</td><td>68221</td></tr><tr><td colspan='3'>&#8942;</td></tr><tr><td>2021</td><td>BMW_MINI</td><td>18211</td></tr><tr><td>2021</td><td>Mercedes-Benz</td><td>51722</td></tr><tr><td>2021</td><td>VW</td><td>35215</td></tr></table>"
      ],
      "text/plain": [
       "#<RedAmber::DataFrame : 25 x 3 Vectors, 0x000000000000f3d4>\n",
       "       Year NAME             VALUE\n",
       "   <uint16> <string>      <uint32>\n",
       " 0     2017 Audi             28336\n",
       " 1     2017 BMW              52527\n",
       " 2     2017 BMW_MINI         25427\n",
       " 3     2017 Mercedes-Benz    68221\n",
       " 4     2017 VW               49040\n",
       " :        : :                    :\n",
       "22     2021 BMW_MINI         18211\n",
       "23     2021 Mercedes-Benz    51722\n",
       "24     2021 VW               35215\n"
      ]
     },
     "execution_count": 51,
     "metadata": {},
     "output_type": "execute_result"
    }
   ],
   "source": [
    "import_cars.to_long(:Year)"
   ]
  },
  {
   "cell_type": "markdown",
   "id": "dc4825d2-d333-4852-a30d-b8d34f85c581",
   "metadata": {},
   "source": [
    "  - Option `:name` is the key of the column which came **from key names**.\n",
    "    The default value is `:NAME` if it is not specified.\n",
    "  - Option `:value` is the key of the column which came **from values**.\n",
    "    The default value is `:VALUE` if it is not specified."
   ]
  },
  {
   "cell_type": "code",
   "execution_count": 52,
   "id": "c1b0e396-13cc-45a2-9bc3-94590ac29c1d",
   "metadata": {},
   "outputs": [
    {
     "data": {
      "text/html": [
       "RedAmber::DataFrame <25 x 3 vectors> <table><tr><th>Year</th><th>Manufacturer</th><th>Num_of_imported</th></tr><tr><td>2017</td><td>Audi</td><td>28336</td></tr><tr><td>2017</td><td>BMW</td><td>52527</td></tr><tr><td>2017</td><td>BMW_MINI</td><td>25427</td></tr><tr><td>2017</td><td>Mercedes-Benz</td><td>68221</td></tr><tr><td colspan='3'>&#8942;</td></tr><tr><td>2021</td><td>BMW_MINI</td><td>18211</td></tr><tr><td>2021</td><td>Mercedes-Benz</td><td>51722</td></tr><tr><td>2021</td><td>VW</td><td>35215</td></tr></table>"
      ],
      "text/plain": [
       "#<RedAmber::DataFrame : 25 x 3 Vectors, 0x000000000000f3e8>\n",
       "       Year Manufacturer  Num_of_imported\n",
       "   <uint16> <string>             <uint32>\n",
       " 0     2017 Audi                    28336\n",
       " 1     2017 BMW                     52527\n",
       " 2     2017 BMW_MINI                25427\n",
       " 3     2017 Mercedes-Benz           68221\n",
       " 4     2017 VW                      49040\n",
       " :        : :                           :\n",
       "22     2021 BMW_MINI                18211\n",
       "23     2021 Mercedes-Benz           51722\n",
       "24     2021 VW                      35215\n"
      ]
     },
     "execution_count": 52,
     "metadata": {},
     "output_type": "execute_result"
    }
   ],
   "source": [
    "import_cars.to_long(:Year, name: :Manufacturer, value: :Num_of_imported)"
   ]
  },
  {
   "cell_type": "markdown",
   "id": "b0f0226f-225e-4a9b-b4f9-49e2b82c28a4",
   "metadata": {},
   "source": [
    "### `to_wide`\n",
    "\n",
    "  Creates a 'wide' (messy) DataFrame from a 'long' DataFrame.\n",
    "\n",
    "  - Option `:name` is the key of the column which will be expanded **to key names**.\n",
    "    The default value is `:NAME` if it is not specified.\n",
    "  - Option `:value` is the key of the column which will be expanded **to values**.\n",
    "    The default value is `:VALUE` if it is not specified."
   ]
  },
  {
   "cell_type": "code",
   "execution_count": 53,
   "id": "6a8d68b9-a1d0-4ac9-b9ed-98fb2de67fbd",
   "metadata": {},
   "outputs": [
    {
     "data": {
      "text/html": [
       "RedAmber::DataFrame <5 x 6 vectors> <table><tr><th>Year</th><th>Audi</th><th>BMW</th><th>BMW_MINI</th><th>Mercedes-Benz</th><th>VW</th></tr><tr><td>2017</td><td>28336</td><td>52527</td><td>25427</td><td>68221</td><td>49040</td></tr><tr><td>2018</td><td>26473</td><td>50982</td><td>25984</td><td>67554</td><td>51961</td></tr><tr><td>2019</td><td>24222</td><td>46814</td><td>23813</td><td>66553</td><td>46794</td></tr><tr><td>2020</td><td>22304</td><td>35712</td><td>20196</td><td>57041</td><td>36576</td></tr><tr><td>2021</td><td>22535</td><td>35905</td><td>18211</td><td>51722</td><td>35215</td></tr></table>"
      ],
      "text/plain": [
       "#<RedAmber::DataFrame : 5 x 6 Vectors, 0x000000000000f3fc>\n",
       "      Year     Audi      BMW BMW_MINI Mercedes-Benz       VW\n",
       "  <uint16> <uint16> <uint16> <uint16>      <uint32> <uint16>\n",
       "0     2017    28336    52527    25427         68221    49040\n",
       "1     2018    26473    50982    25984         67554    51961\n",
       "2     2019    24222    46814    23813         66553    46794\n",
       "3     2020    22304    35712    20196         57041    36576\n",
       "4     2021    22535    35905    18211         51722    35215\n"
      ]
     },
     "execution_count": 53,
     "metadata": {},
     "output_type": "execute_result"
    }
   ],
   "source": [
    "import_cars.to_long(:Year).to_wide\n",
    "# import_cars.to_long(:Year).to_wide(name: :N, value: :V)\n",
    "# is also OK"
   ]
  },
  {
   "cell_type": "markdown",
   "id": "8575cf3b-ba43-45e1-ad52-9ad851ea980e",
   "metadata": {},
   "source": [
    "## Combine"
   ]
  },
  {
   "cell_type": "markdown",
   "id": "58bfd93f-ab3e-4ad7-bdf4-1c944ea8224d",
   "metadata": {},
   "source": [
    "### join"
   ]
  },
  {
   "cell_type": "markdown",
   "id": "52d607f3-6cb4-422d-8561-20f0de523cb9",
   "metadata": {},
   "source": [
    "![join methods](https://raw.githubusercontent.com/heronshoes/red_amber/main/doc/image/dataframe/join.png)"
   ]
  },
  {
   "cell_type": "markdown",
   "id": "2acfb27a-358f-461c-a86f-9b96b019bf86",
   "metadata": {},
   "source": [
    "You should use specific `*_join` methods below.\n",
    "\n",
    "- `other` is a DataFrame or a Arrow::Table.\n",
    "- `join_keys` are keys shared by self and other to match with them.\n",
    "- If `join_keys` are empty, common keys in self and other are chosen (natural join).\n",
    "- If common keys > `join_keys`, duplicated keys are renamed by `suffix`.\n",
    "- If you want to match the columns with different names, use Hash for `join_keys` such as `{ left: :KEY1, right: KEY2}`.\n",
    "\n",
    "These are dataframes to use in the examples of joins."
   ]
  },
  {
   "cell_type": "code",
   "execution_count": 54,
   "id": "b3cdcdf5-4d5a-4e65-bace-80b803bae997",
   "metadata": {},
   "outputs": [
    {
     "data": {
      "text/html": [
       "RedAmber::DataFrame <3 x 2 vectors> <table><tr><th>KEY</th><th>X1</th></tr><tr><td>A</td><td>1</td></tr><tr><td>B</td><td>2</td></tr><tr><td>C</td><td>3</td></tr></table>"
      ],
      "text/plain": [
       "#<RedAmber::DataFrame : 3 x 2 Vectors, 0x000000000000f410>\n",
       "  KEY           X1\n",
       "  <string> <uint8>\n",
       "0 A              1\n",
       "1 B              2\n",
       "2 C              3\n"
      ]
     },
     "execution_count": 54,
     "metadata": {},
     "output_type": "execute_result"
    }
   ],
   "source": [
    "df = DataFrame.new(\n",
    "  KEY: %w[A B C],\n",
    "  X1: [1, 2, 3]\n",
    ")"
   ]
  },
  {
   "cell_type": "code",
   "execution_count": 55,
   "id": "4a762b1d-4190-4eb9-aa20-6101fd185e24",
   "metadata": {},
   "outputs": [
    {
     "data": {
      "text/html": [
       "RedAmber::DataFrame <3 x 2 vectors> <table><tr><th>KEY</th><th>X2</th></tr><tr><td>A</td><td><i>(true)</i></td></tr><tr><td>B</td><td><i>(false)</i></td></tr><tr><td>D</td><td><i>(nil)</i></td></tr></table>"
      ],
      "text/plain": [
       "#<RedAmber::DataFrame : 3 x 2 Vectors, 0x000000000000f424>\n",
       "  KEY      X2\n",
       "  <string> <boolean>\n",
       "0 A        true\n",
       "1 B        false\n",
       "2 D        (nil)\n"
      ]
     },
     "execution_count": 55,
     "metadata": {},
     "output_type": "execute_result"
    }
   ],
   "source": [
    "other = DataFrame.new(\n",
    "  KEY: %w[A B D],\n",
    "  X2: [true, false, nil]\n",
    ")"
   ]
  },
  {
   "cell_type": "markdown",
   "id": "9880c92f-e80f-4d5b-b9e5-1b87ece3cc47",
   "metadata": {},
   "source": [
    "#### Mutating joins"
   ]
  },
  {
   "cell_type": "markdown",
   "id": "9404e5d9-a7e0-4f44-b353-3673687b9d6b",
   "metadata": {},
   "source": [
    "##### `inner_join(other, join_keys = nil, suffix: '.1')`\n",
    "\n",
    "  Join data, leaving only the matching rows."
   ]
  },
  {
   "cell_type": "code",
   "execution_count": 56,
   "id": "2515e012-c4ca-4264-baf2-542e173853ce",
   "metadata": {},
   "outputs": [
    {
     "data": {
      "text/html": [
       "RedAmber::DataFrame <2 x 3 vectors> <table><tr><th>KEY</th><th>X1</th><th>X2</th></tr><tr><td>A</td><td>1</td><td><i>(true)</i></td></tr><tr><td>B</td><td>2</td><td><i>(false)</i></td></tr></table>"
      ],
      "text/plain": [
       "#<RedAmber::DataFrame : 2 x 3 Vectors, 0x000000000000f438>\n",
       "  KEY           X1 X2\n",
       "  <string> <uint8> <boolean>\n",
       "0 A              1 true\n",
       "1 B              2 false\n"
      ]
     },
     "execution_count": 56,
     "metadata": {},
     "output_type": "execute_result"
    }
   ],
   "source": [
    "df.inner_join(other, :KEY)"
   ]
  },
  {
   "cell_type": "markdown",
   "id": "143349bc-27ee-4ad4-b446-ff14b16937f8",
   "metadata": {},
   "source": [
    "##### `full_join(other, join_keys = nil, suffix: '.1')`\n",
    "\n",
    "  Join data, leaving all rows."
   ]
  },
  {
   "cell_type": "code",
   "execution_count": 57,
   "id": "5b6466fd-4b8b-4bf9-bdaa-d433d3767cf1",
   "metadata": {},
   "outputs": [
    {
     "data": {
      "text/html": [
       "RedAmber::DataFrame <4 x 3 vectors> <table><tr><th>KEY</th><th>X1</th><th>X2</th></tr><tr><td>A</td><td>1</td><td><i>(true)</i></td></tr><tr><td>B</td><td>2</td><td><i>(false)</i></td></tr><tr><td>C</td><td>3</td><td><i>(nil)</i></td></tr><tr><td>D</td><td><i>(nil)</i></td><td><i>(nil)</i></td></tr></table>"
      ],
      "text/plain": [
       "#<RedAmber::DataFrame : 4 x 3 Vectors, 0x000000000000f44c>\n",
       "  KEY           X1 X2\n",
       "  <string> <uint8> <boolean>\n",
       "0 A              1 true\n",
       "1 B              2 false\n",
       "2 C              3 (nil)\n",
       "3 D          (nil) (nil)\n"
      ]
     },
     "execution_count": 57,
     "metadata": {},
     "output_type": "execute_result"
    }
   ],
   "source": [
    "df.full_join(other, :KEY)"
   ]
  },
  {
   "cell_type": "markdown",
   "id": "0beac494-c2ef-4ae6-9288-5ae6cbb603aa",
   "metadata": {},
   "source": [
    "##### `left_join(other, join_keys = nil, suffix: '.1')`\n",
    "\n",
    "  Join matching values from right to self."
   ]
  },
  {
   "cell_type": "code",
   "execution_count": 58,
   "id": "89ac7c66-0449-44ee-a303-21d4329dd88c",
   "metadata": {},
   "outputs": [
    {
     "data": {
      "text/html": [
       "RedAmber::DataFrame <3 x 3 vectors> <table><tr><th>KEY</th><th>X1</th><th>X2</th></tr><tr><td>A</td><td>1</td><td><i>(true)</i></td></tr><tr><td>B</td><td>2</td><td><i>(false)</i></td></tr><tr><td>C</td><td>3</td><td><i>(nil)</i></td></tr></table>"
      ],
      "text/plain": [
       "#<RedAmber::DataFrame : 3 x 3 Vectors, 0x000000000000f460>\n",
       "  KEY           X1 X2\n",
       "  <string> <uint8> <boolean>\n",
       "0 A              1 true\n",
       "1 B              2 false\n",
       "2 C              3 (nil)\n"
      ]
     },
     "execution_count": 58,
     "metadata": {},
     "output_type": "execute_result"
    }
   ],
   "source": [
    "df.left_join(other, :KEY)"
   ]
  },
  {
   "cell_type": "markdown",
   "id": "36211e61-f8bd-4e36-9a38-3e459bac7519",
   "metadata": {},
   "source": [
    "##### `right_join(other, join_keys = nil, suffix: '.1')`\n",
    "\n",
    "  Join matching values from self to right."
   ]
  },
  {
   "cell_type": "code",
   "execution_count": 59,
   "id": "23de2df3-15ad-4ff8-9326-b7b52d607f91",
   "metadata": {},
   "outputs": [
    {
     "data": {
      "text/html": [
       "RedAmber::DataFrame <3 x 3 vectors> <table><tr><th>KEY</th><th>X1</th><th>X2</th></tr><tr><td>A</td><td>1</td><td><i>(true)</i></td></tr><tr><td>B</td><td>2</td><td><i>(false)</i></td></tr><tr><td>D</td><td><i>(nil)</i></td><td><i>(nil)</i></td></tr></table>"
      ],
      "text/plain": [
       "#<RedAmber::DataFrame : 3 x 3 Vectors, 0x000000000000f474>\n",
       "  KEY           X1 X2\n",
       "  <string> <uint8> <boolean>\n",
       "0 A              1 true\n",
       "1 B              2 false\n",
       "2 D          (nil) (nil)\n"
      ]
     },
     "execution_count": 59,
     "metadata": {},
     "output_type": "execute_result"
    }
   ],
   "source": [
    "df.right_join(other, :KEY)"
   ]
  },
  {
   "cell_type": "markdown",
   "id": "e252205c-4699-4a94-b84e-0f2419f6ee65",
   "metadata": {},
   "source": [
    "#### Filtering join"
   ]
  },
  {
   "cell_type": "markdown",
   "id": "3c4f0acd-37d3-48e8-8794-c8682d865e21",
   "metadata": {},
   "source": [
    "##### `semi_join(other, join_keys = nil, suffix: '.1')`\n",
    "\n",
    "  Return rows of self that have a match in right."
   ]
  },
  {
   "cell_type": "code",
   "execution_count": 60,
   "id": "8724bb13-5d47-4cdd-849b-b30660110004",
   "metadata": {},
   "outputs": [
    {
     "data": {
      "text/html": [
       "RedAmber::DataFrame <2 x 2 vectors> <table><tr><th>KEY</th><th>X1</th></tr><tr><td>A</td><td>1</td></tr><tr><td>B</td><td>2</td></tr></table>"
      ],
      "text/plain": [
       "#<RedAmber::DataFrame : 2 x 2 Vectors, 0x000000000000f488>\n",
       "  KEY           X1\n",
       "  <string> <uint8>\n",
       "0 A              1\n",
       "1 B              2\n"
      ]
     },
     "execution_count": 60,
     "metadata": {},
     "output_type": "execute_result"
    }
   ],
   "source": [
    "df.semi_join(other, :KEY)"
   ]
  },
  {
   "cell_type": "markdown",
   "id": "9542156d-53a9-430e-b55d-a1df7fff1da3",
   "metadata": {},
   "source": [
    "##### `anti_join(other, join_keys = nil, suffix: '.1')`\n",
    "\n",
    "  Return rows of self that do not have a match in right."
   ]
  },
  {
   "cell_type": "code",
   "execution_count": 61,
   "id": "d58eaedf-01d5-4d64-bd57-dec95fb9aa57",
   "metadata": {},
   "outputs": [
    {
     "data": {
      "text/html": [
       "RedAmber::DataFrame <1 x 2 vectors> <table><tr><th>KEY</th><th>X1</th></tr><tr><td>C</td><td>3</td></tr></table>"
      ],
      "text/plain": [
       "#<RedAmber::DataFrame : 1 x 2 Vectors, 0x000000000000f49c>\n",
       "  KEY           X1\n",
       "  <string> <uint8>\n",
       "0 C              3\n"
      ]
     },
     "execution_count": 61,
     "metadata": {},
     "output_type": "execute_result"
    }
   ],
   "source": [
    "df.anti_join(other, :KEY)"
   ]
  },
  {
   "cell_type": "markdown",
   "id": "dc5c3283-d941-4a7d-a102-e5043f6ce9b4",
   "metadata": {},
   "source": [
    "## Set operations\n",
    "![dataframe set and binding image](https://raw.githubusercontent.com/heronshoes/red_amber/main/doc/image/dataframe/set_and_bind.png)\n",
    "\n",
    "  Keys in self and other must be same in set operations."
   ]
  },
  {
   "cell_type": "code",
   "execution_count": 64,
   "id": "d7d4d28d-c981-4306-a41e-37ad1e9fe60c",
   "metadata": {},
   "outputs": [
    {
     "data": {
      "text/html": [
       "RedAmber::DataFrame <3 x 2 vectors> <table><tr><th>KEY1</th><th>KEY2</th></tr><tr><td>A</td><td>1</td></tr><tr><td>B</td><td>2</td></tr><tr><td>C</td><td>3</td></tr></table>"
      ],
      "text/plain": [
       "#<RedAmber::DataFrame : 3 x 2 Vectors, 0x000000000000f4d8>\n",
       "  KEY1        KEY2\n",
       "  <string> <uint8>\n",
       "0 A              1\n",
       "1 B              2\n",
       "2 C              3\n"
      ]
     },
     "execution_count": 64,
     "metadata": {},
     "output_type": "execute_result"
    }
   ],
   "source": [
    "df = DataFrame.new(\n",
    "  KEY1: %w[A B C],\n",
    "  KEY2: [1, 2, 3]\n",
    ")"
   ]
  },
  {
   "cell_type": "code",
   "execution_count": 65,
   "id": "44925602-4f26-4de5-82d3-3af6bd2c72ce",
   "metadata": {},
   "outputs": [
    {
     "data": {
      "text/html": [
       "RedAmber::DataFrame <3 x 2 vectors> <table><tr><th>KEY1</th><th>KEY2</th></tr><tr><td>A</td><td>1</td></tr><tr><td>B</td><td>4</td></tr><tr><td>D</td><td>5</td></tr></table>"
      ],
      "text/plain": [
       "#<RedAmber::DataFrame : 3 x 2 Vectors, 0x000000000000f4ec>\n",
       "  KEY1        KEY2\n",
       "  <string> <uint8>\n",
       "0 A              1\n",
       "1 B              4\n",
       "2 D              5\n"
      ]
     },
     "execution_count": 65,
     "metadata": {},
     "output_type": "execute_result"
    }
   ],
   "source": [
    "other = DataFrame.new(\n",
    "  KEY1: %w[A B D],\n",
    "  KEY2: [1, 4, 5]\n",
    ")"
   ]
  },
  {
   "cell_type": "markdown",
   "id": "48ca4449-0061-4451-9bf0-5b1e4f8b9612",
   "metadata": {},
   "source": [
    "##### `intersect(other)`\n",
    "\n",
    "Select rows appearing in both self and other."
   ]
  },
  {
   "cell_type": "code",
   "execution_count": 67,
   "id": "bf46d2d1-74e3-460e-a290-5196d1256639",
   "metadata": {},
   "outputs": [
    {
     "data": {
      "text/html": [
       "RedAmber::DataFrame <1 x 2 vectors> <table><tr><th>KEY1</th><th>KEY2</th></tr><tr><td>A</td><td>1</td></tr></table>"
      ],
      "text/plain": [
       "#<RedAmber::DataFrame : 1 x 2 Vectors, 0x000000000000f500>\n",
       "  KEY1        KEY2\n",
       "  <string> <uint8>\n",
       "0 A              1\n"
      ]
     },
     "execution_count": 67,
     "metadata": {},
     "output_type": "execute_result"
    }
   ],
   "source": [
    "df.intersect(other)"
   ]
  },
  {
   "cell_type": "markdown",
   "id": "42f873b2-be72-4313-85e9-e28c47f88135",
   "metadata": {},
   "source": [
    "##### `union(other)`\n",
    "\n",
    "  Select rows appearing in self or other."
   ]
  },
  {
   "cell_type": "code",
   "execution_count": 68,
   "id": "2f6d11ef-d568-4ba1-9d5d-8cdcb65ffc02",
   "metadata": {},
   "outputs": [
    {
     "data": {
      "text/html": [
       "RedAmber::DataFrame <5 x 2 vectors> <table><tr><th>KEY1</th><th>KEY2</th></tr><tr><td>A</td><td>1</td></tr><tr><td>B</td><td>2</td></tr><tr><td>C</td><td>3</td></tr><tr><td>B</td><td>4</td></tr><tr><td>D</td><td>5</td></tr></table>"
      ],
      "text/plain": [
       "#<RedAmber::DataFrame : 5 x 2 Vectors, 0x000000000000f514>\n",
       "  KEY1        KEY2\n",
       "  <string> <uint8>\n",
       "0 A              1\n",
       "1 B              2\n",
       "2 C              3\n",
       "3 B              4\n",
       "4 D              5\n"
      ]
     },
     "execution_count": 68,
     "metadata": {},
     "output_type": "execute_result"
    }
   ],
   "source": [
    "df.union(other)"
   ]
  },
  {
   "cell_type": "markdown",
   "id": "2eb0dc27-aa89-4659-be4e-90bc809066c6",
   "metadata": {},
   "source": [
    "##### `difference(other)`\n",
    "\n",
    "  Select rows appearing in self but not in other.\n",
    "\n",
    "  It has an alias `setdiff`."
   ]
  },
  {
   "cell_type": "code",
   "execution_count": 69,
   "id": "1b610d14-fd7b-441d-960b-538fa58ff660",
   "metadata": {},
   "outputs": [
    {
     "data": {
      "text/html": [
       "RedAmber::DataFrame <2 x 2 vectors> <table><tr><th>KEY1</th><th>KEY2</th></tr><tr><td>B</td><td>2</td></tr><tr><td>C</td><td>3</td></tr></table>"
      ],
      "text/plain": [
       "#<RedAmber::DataFrame : 2 x 2 Vectors, 0x000000000000f528>\n",
       "  KEY1        KEY2\n",
       "  <string> <uint8>\n",
       "0 B              2\n",
       "1 C              3\n"
      ]
     },
     "execution_count": 69,
     "metadata": {},
     "output_type": "execute_result"
    }
   ],
   "source": [
    "df.difference(other)"
   ]
  },
  {
   "cell_type": "markdown",
   "id": "e3019dab-1c77-43b2-9edb-61495da3c333",
   "metadata": {},
   "source": [
    "## Binding"
   ]
  },
  {
   "cell_type": "markdown",
   "id": "faa62e77-4be6-4e9e-886f-373aea626367",
   "metadata": {},
   "source": [
    "### `concatenate(other)`\n",
    "\n",
    "  Concatenate another DataFrame or Table onto the bottom of self. The shape and data type of other must be the same as self.\n",
    "\n",
    "  The alias is `concat`.\n",
    "\n",
    "  An array of DataFrames or Tables is also acceptable as other."
   ]
  },
  {
   "cell_type": "code",
   "execution_count": 70,
   "id": "de0cfe5d-cd80-429a-9a33-0f30fb24bd69",
   "metadata": {},
   "outputs": [
    {
     "data": {
      "text/html": [
       "RedAmber::DataFrame <2 x 2 vectors> <table><tr><th>x</th><th>y</th></tr><tr><td>1</td><td>A</td></tr><tr><td>2</td><td>B</td></tr></table>"
      ],
      "text/plain": [
       "#<RedAmber::DataFrame : 2 x 2 Vectors, 0x000000000000f53c>\n",
       "        x y\n",
       "  <uint8> <string>\n",
       "0       1 A\n",
       "1       2 B\n"
      ]
     },
     "execution_count": 70,
     "metadata": {},
     "output_type": "execute_result"
    }
   ],
   "source": [
    "df = DataFrame.new(x: [1, 2], y: ['A', 'B'])"
   ]
  },
  {
   "cell_type": "code",
   "execution_count": 71,
   "id": "ded0fe97-3fbe-47cc-b043-ec2346ed4175",
   "metadata": {},
   "outputs": [
    {
     "data": {
      "text/html": [
       "RedAmber::DataFrame <2 x 2 vectors> <table><tr><th>x</th><th>y</th></tr><tr><td>3</td><td>C</td></tr><tr><td>4</td><td>D</td></tr></table>"
      ],
      "text/plain": [
       "#<RedAmber::DataFrame : 2 x 2 Vectors, 0x000000000000f550>\n",
       "        x y\n",
       "  <uint8> <string>\n",
       "0       3 C\n",
       "1       4 D\n"
      ]
     },
     "execution_count": 71,
     "metadata": {},
     "output_type": "execute_result"
    }
   ],
   "source": [
    "other = DataFrame.new(x: [3, 4], y: ['C', 'D'])"
   ]
  },
  {
   "cell_type": "code",
   "execution_count": 72,
   "id": "fec51f27-d5c2-44a9-a45a-b9935e667177",
   "metadata": {},
   "outputs": [
    {
     "data": {
      "text/html": [
       "RedAmber::DataFrame <4 x 2 vectors> <table><tr><th>x</th><th>y</th></tr><tr><td>1</td><td>A</td></tr><tr><td>2</td><td>B</td></tr><tr><td>3</td><td>C</td></tr><tr><td>4</td><td>D</td></tr></table>"
      ],
      "text/plain": [
       "#<RedAmber::DataFrame : 4 x 2 Vectors, 0x000000000000f564>\n",
       "        x y\n",
       "  <uint8> <string>\n",
       "0       1 A\n",
       "1       2 B\n",
       "2       3 C\n",
       "3       4 D\n"
      ]
     },
     "execution_count": 72,
     "metadata": {},
     "output_type": "execute_result"
    }
   ],
   "source": [
    "df.concatenate(other)"
   ]
  },
  {
   "cell_type": "markdown",
   "id": "eb65ab57-de1a-4d5d-8dbe-a826c848fe9e",
   "metadata": {},
   "source": [
    "### `merge(other)`\n",
    "\n",
    "  Concatenate another DataFrame or Table onto the bottom of self. The shape and data type of other must be the same as self."
   ]
  },
  {
   "cell_type": "code",
   "execution_count": 73,
   "id": "8e74e46d-cd59-4d97-923f-f3919fde5396",
   "metadata": {},
   "outputs": [
    {
     "data": {
      "text/html": [
       "RedAmber::DataFrame <2 x 2 vectors> <table><tr><th>x</th><th>y</th></tr><tr><td>1</td><td>3</td></tr><tr><td>2</td><td>4</td></tr></table>"
      ],
      "text/plain": [
       "#<RedAmber::DataFrame : 2 x 2 Vectors, 0x000000000000f578>\n",
       "        x       y\n",
       "  <uint8> <uint8>\n",
       "0       1       3\n",
       "1       2       4\n"
      ]
     },
     "execution_count": 73,
     "metadata": {},
     "output_type": "execute_result"
    }
   ],
   "source": [
    "df = DataFrame.new(x: [1, 2], y: [3, 4])"
   ]
  },
  {
   "cell_type": "code",
   "execution_count": 74,
   "id": "5f5d6b5c-0098-4700-bd3c-e277fba2f282",
   "metadata": {},
   "outputs": [
    {
     "data": {
      "text/html": [
       "RedAmber::DataFrame <2 x 2 vectors> <table><tr><th>a</th><th>b</th></tr><tr><td>A</td><td>C</td></tr><tr><td>B</td><td>D</td></tr></table>"
      ],
      "text/plain": [
       "#<RedAmber::DataFrame : 2 x 2 Vectors, 0x000000000000f58c>\n",
       "  a        b\n",
       "  <string> <string>\n",
       "0 A        C\n",
       "1 B        D\n"
      ]
     },
     "execution_count": 74,
     "metadata": {},
     "output_type": "execute_result"
    }
   ],
   "source": [
    "other = DataFrame.new(a: ['A', 'B'], b: ['C', 'D'])"
   ]
  },
  {
   "cell_type": "code",
   "execution_count": 75,
   "id": "ee514189-d491-4639-b3b3-1d9c0706adde",
   "metadata": {},
   "outputs": [
    {
     "data": {
      "text/html": [
       "RedAmber::DataFrame <2 x 4 vectors> <table><tr><th>x</th><th>y</th><th>a</th><th>b</th></tr><tr><td>1</td><td>3</td><td>A</td><td>C</td></tr><tr><td>2</td><td>4</td><td>B</td><td>D</td></tr></table>"
      ],
      "text/plain": [
       "#<RedAmber::DataFrame : 2 x 4 Vectors, 0x000000000000f5a0>\n",
       "        x       y a        b\n",
       "  <uint8> <uint8> <string> <string>\n",
       "0       1       3 A        C\n",
       "1       2       4 B        D\n"
      ]
     },
     "execution_count": 75,
     "metadata": {},
     "output_type": "execute_result"
    }
   ],
   "source": [
    "df.merge(other)"
   ]
  }
 ],
 "metadata": {
  "kernelspec": {
   "display_name": "Ruby 3.1.3",
   "language": "ruby",
   "name": "ruby"
  },
  "language_info": {
   "file_extension": ".rb",
   "mimetype": "application/x-ruby",
   "name": "ruby",
   "version": "3.1.3"
  }
 },
 "nbformat": 4,
 "nbformat_minor": 5
}
